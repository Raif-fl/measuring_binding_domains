{
 "cells": [
  {
   "cell_type": "markdown",
   "id": "bf78baec-b586-4778-a4c6-f223eae1480a",
   "metadata": {},
   "source": [
    "## Step 1:\n",
    "Let the program know where to find your tools file."
   ]
  },
  {
   "cell_type": "code",
   "execution_count": 3,
   "id": "bd11804b-b8ed-436b-9461-61494c015158",
   "metadata": {},
   "outputs": [],
   "source": [
    "import sys, os\n",
    "sys.path.append(os.path.join(os.path.realpath(\"..\"), \"Tools\"))"
   ]
  },
  {
   "cell_type": "markdown",
   "id": "8580cc3f-4f39-4e22-99dd-667b50296c3f",
   "metadata": {},
   "source": [
    "## Step 2:\n",
    "Load up all of the necessary packages"
   ]
  },
  {
   "cell_type": "code",
   "execution_count": 4,
   "id": "4308b524-124a-4694-9627-06fdbc3ec563",
   "metadata": {},
   "outputs": [],
   "source": [
    "# Loading up required packages\n",
    "from plastid import BAMGenomeArray, VariableFivePrimeMapFactory, \\\n",
    "                        GTF2_TranscriptAssembler, GFF3_TranscriptAssembler, \\\n",
    "                        Transcript, ThreePrimeMapFactory, CenterMapFactory\n",
    "from plastid.plotting.plots import *\n",
    "import numpy as np\n",
    "import os\n",
    "from Bio import SeqIO\n",
    "import numpy\n",
    "import math\n",
    "import pandas as pd\n",
    "from scipy import stats\n",
    "import utilities as utils\n",
    "from statsmodels.nonparametric.smoothers_lowess import lowess\n",
    "import warnings\n",
    "import matplotlib.pyplot as plt\n",
    "%matplotlib inline\n",
    "import csv\n",
    "from scipy.sparse.linalg import lsqr"
   ]
  },
  {
   "cell_type": "markdown",
   "id": "68c4c2bf-c303-4210-803b-3c3c2cf87bcd",
   "metadata": {},
   "source": [
    "## Step 3:\n",
    "Define the paths to our reference genome and annotation files as well as the path to our data for the Autism Spectrum Disorder (ASD) genes identified by Sfari, the top 200 genes whose regulation is altered by FMRP as determined by RiboDiff, The list of genes and their associated TPM values (used to select for genes with sufficient TPM), and the list of primary transcript isoforms provided by APRIS."
   ]
  },
  {
   "cell_type": "code",
   "execution_count": 7,
   "id": "d8a5c172-c52c-40da-a501-0c8476d5bcbc",
   "metadata": {},
   "outputs": [],
   "source": [
    "reference_path = \"/home/keeganfl/Desktop/Work_Fall_2021/Protocol_test/genome/mouse/\"\n",
    "data_path = \"/home/keeganfl/Desktop/measuring_binding_domains/data/\"\n",
    "save_path = \"/home/keeganfl/Desktop/measuring_binding_domains/Extra_tables/TE_tables/\""
   ]
  },
  {
   "cell_type": "markdown",
   "id": "be73b416-ed50-49f3-a074-e0ce1d73a54d",
   "metadata": {},
   "source": [
    "## Step 4: \n",
    "load the transcript files so that we can find the sequence of each gene"
   ]
  },
  {
   "cell_type": "code",
   "execution_count": 9,
   "id": "f71f2524-bfbb-4eae-a2ea-d52db062a46c",
   "metadata": {},
   "outputs": [],
   "source": [
    "# Loading up the transcrip[t information.\n",
    "transcripts = list(GTF2_TranscriptAssembler(open(reference_path + \"mm10.refGene.gtf\"),return_type=Transcript))"
   ]
  },
  {
   "cell_type": "markdown",
   "id": "8f5ff33b-5d95-42cc-a752-6067b352c493",
   "metadata": {},
   "source": [
    "## Step 5:\n",
    "Create a table that lists all genes and their associated lengths. "
   ]
  },
  {
   "cell_type": "markdown",
   "id": "0a6a6470-2bc9-4627-a5bd-65e37121c7bb",
   "metadata": {},
   "source": [
    "### Right now I am using cds length instead of full lenght, I think that is correct. "
   ]
  },
  {
   "cell_type": "code",
   "execution_count": 11,
   "id": "88ac4046-4a82-4e27-bf0c-c459b6d2866f",
   "metadata": {},
   "outputs": [],
   "source": [
    "lengths_cds = []\n",
    "gene_name = []\n",
    "gene_id = []\n",
    "for tran in transcripts:\n",
    "    try:\n",
    "        tran.attr[\"gene_name\"]\n",
    "    except:\n",
    "        continue\n",
    "    try:\n",
    "        lengths_cds.append(tran.cds_end - tran.cds_start)\n",
    "    except:\n",
    "        continue\n",
    "    gene_name.append(tran.attr[\"gene_name\"])\n",
    "    gene_id.append(tran.attr[\"gene_id\"])\n",
    "all_genes = pd.DataFrame(list(zip(gene_name, gene_id, lengths_cds)))\n",
    "all_genes.columns = [\"gene_name\", \"gene_id\", \"lengths_cds\"]"
   ]
  },
  {
   "cell_type": "markdown",
   "id": "feba8953-e26a-40d5-971b-65e264846b6d",
   "metadata": {},
   "source": [
    "## Step 6:\n",
    "Load up the list of APRIS genes. This list will include the transcript IDs of all of the primary isoforms, and will be used to select a single transcript for all genes."
   ]
  },
  {
   "cell_type": "code",
   "execution_count": 12,
   "id": "e7a2dae1-c792-4b1a-91f2-946581ffe92f",
   "metadata": {},
   "outputs": [],
   "source": [
    "# Load up the Apris genes. \n",
    "prin_trans = pd.read_csv(data_path + \"apris_mouse_data.txt\", names = [\"gene_name\", \"???\", \"gene_id\", \"rank\"])\n",
    "prin_trans.drop(columns = [\"???\", \"gene_id\", \"rank\"], inplace = True)"
   ]
  },
  {
   "cell_type": "markdown",
   "id": "ef09490e-a844-4555-96fa-e0924c2be2c6",
   "metadata": {},
   "source": [
    "## Step 7:\n",
    "Merge the list of APRIS genes with the list of all gene lengths in order to remove the non-primary isoforms. "
   ]
  },
  {
   "cell_type": "code",
   "execution_count": 13,
   "id": "1100fef3-9933-4ebc-a233-d9fa502cafbf",
   "metadata": {},
   "outputs": [],
   "source": [
    "# Merge the count table with the table of APRIS genes\n",
    "prime_genes = pd.merge(all_genes, prin_trans, how=\"left\", on=\"gene_name\", indicator = True)\n",
    "\n",
    "# Only keep counts with a transcript ID that matched one of the APRIS primary IDs.\n",
    "prime_genes = prime_genes.loc[prime_genes._merge == \"both\"].copy()\n",
    "\n",
    "# Drop any duplicate genes (duplicates may remain if multiple transcripts have identical cds regions).\n",
    "prime_genes.drop_duplicates(subset =\"gene_name\",keep = \"first\", inplace = True) \n",
    "\n",
    "# Remove unnecesary columns. \n",
    "prime_genes.drop(columns = [\"_merge\"], inplace = True)"
   ]
  },
  {
   "cell_type": "markdown",
   "id": "5f097b75-e034-4603-8cbc-c4ebcf4e408f",
   "metadata": {},
   "source": [
    "## Step 8:\n",
    "Load up the list counts from each example and then merge them with the list of the pimary gene lengths."
   ]
  },
  {
   "cell_type": "code",
   "execution_count": 38,
   "id": "75d3df74-832c-4514-93b8-db8d719e821a",
   "metadata": {},
   "outputs": [],
   "source": [
    "# Load up count data.\n",
    "mouse_counts = pd.read_csv(data_path + \"counts/mmus_counts_SIM.csv\")\n",
    "\n",
    "# Merge with gene length data. \n",
    "len_counts = pd.merge(prime_genes, mouse_counts, how = \"inner\", left_on = \"gene_name\", right_on = \"Entry\")"
   ]
  },
  {
   "cell_type": "markdown",
   "id": "ea6d5901-dd55-4bf9-a2ed-a2213bfe6b6d",
   "metadata": {},
   "source": [
    "## Step 9: \n",
    "Calculate TPM for each column using the equation \n",
    "<br />\n",
    "$TPM = 10^6 * \\frac{reads\\: mapped\\: to\\: the\\: transcript\\:/\\: transcript\\: length }{Sum(reads\\: mapped\\: to\\: each\\: transcript\\:/\\: each\\: transcript's\\: length)}\n",
    "$\n",
    "<br />\n",
    "Then add them as new columns to the pandas dataframe."
   ]
  },
  {
   "cell_type": "code",
   "execution_count": 39,
   "id": "74aa84e2-5a64-4fea-acae-00c55a326f42",
   "metadata": {},
   "outputs": [],
   "source": [
    "# Calculate RPK for each gene so that we can use it to calculate TPM. \n",
    "for i in len_counts.columns[4:18]:\n",
    "    rpk = len_counts[i]/len_counts[\"lengths_cds\"]\n",
    "    len_counts[\"%s_rpk\" % (i)] = rpk"
   ]
  },
  {
   "cell_type": "code",
   "execution_count": 40,
   "id": "05fc52f6-082a-4ac2-83a5-70fe298c903b",
   "metadata": {},
   "outputs": [],
   "source": [
    "# Calculate TPM for each gene. \n",
    "for i in len_counts.columns[4:18]:\n",
    "    per_m_s = sum(len_counts[\"%s_rpk\" % i])/1e6\n",
    "    len_counts[\"%s_tpm\" % (i)] = (len_counts[\"%s_rpk\" % i])/per_m_s"
   ]
  },
  {
   "cell_type": "code",
   "execution_count": 41,
   "id": "772ad30b-2925-4305-81f5-b99d00c899b4",
   "metadata": {},
   "outputs": [],
   "source": [
    "# Drop all of the RPK columns as we only needed them to get TPM. \n",
    "len_counts.drop(columns = ['RbCtlR1_rpk', 'RbCtlR2_rpk', 'RbCtlR3_rpk',\n",
    "        'RbTrtR1_rpk', 'RbTrtR2_rpk', 'RbTrtR3_rpk',\n",
    "        'RnaCtlR1_rpk','RnaCtlR2_rpk', 'RnaCtlR3_rpk', 'RnaCtlR4_rpk',\n",
    "        'RnaTrtR1_rpk', 'RnaTrtR2_rpk','RnaTrtR3_rpk', 'RnaTrtR4_rpk'], inplace = True)"
   ]
  },
  {
   "cell_type": "markdown",
   "id": "8688fb33-85fd-4438-aaab-89c58f55b002",
   "metadata": {},
   "source": [
    "## Step 10:\n",
    "Calculate the Average TPM for the mutant and control RNA and RB samples and then calculate average TE. "
   ]
  },
  {
   "cell_type": "code",
   "execution_count": 42,
   "id": "883ddf61-50a5-4a56-aca8-edf3d411538e",
   "metadata": {},
   "outputs": [],
   "source": [
    "# Avergae tpm for the ribosome profiling controls\n",
    "len_counts['RbCtl_avg_tpm'] = len_counts[['RbCtlR1_tpm', 'RbCtlR2_tpm', 'RbCtlR3_tpm']].mean(axis = 1)\n",
    "\n",
    "# Average tpm for ribosome profiling treated\n",
    "len_counts['RbTrt_avg_tpm'] = len_counts[['RbTrtR1_tpm', 'RbTrtR2_tpm', 'RbTrtR3_tpm']].mean(axis = 1)\n",
    "\n",
    "# Average tpm for the RNA sequncing control\n",
    "len_counts['RnaCtl_avg_tpm'] = len_counts[['RnaCtlR1_tpm', 'RnaCtlR2_tpm', 'RnaCtlR3_tpm', 'RnaCtlR4_tpm']].mean(axis = 1)\n",
    "\n",
    "# Avergae tpm for the RNA sequencing treated\n",
    "len_counts['RnaTrt_avg_tpm'] = len_counts[['RnaTrtR1_tpm', 'RnaTrtR2_tpm','RnaTrtR3_tpm','RnaTrtR4_tpm']].mean(axis= 1)"
   ]
  },
  {
   "cell_type": "code",
   "execution_count": 43,
   "id": "4338e036-efb5-40e2-b834-bab80754f8fa",
   "metadata": {},
   "outputs": [],
   "source": [
    "len_counts['Ctl_TE'] = len_counts['RbCtl_avg_tpm']/len_counts['RnaCtl_avg_tpm']\n",
    "len_counts['Trt_TE'] = len_counts['RbTrt_avg_tpm']/len_counts['RnaTrt_avg_tpm']\n",
    "len_counts['FldChng_TE'] = len_counts['Trt_TE']/len_counts['Ctl_TE']"
   ]
  },
  {
   "cell_type": "markdown",
   "id": "dac260d1-ca0b-481b-977e-4801e763c269",
   "metadata": {},
   "source": [
    "## Step 11\n",
    "Drop uneccessary columns and save the csv. "
   ]
  },
  {
   "cell_type": "code",
   "execution_count": 44,
   "id": "ddad578d-a044-4785-bde8-66f9533bf56e",
   "metadata": {},
   "outputs": [],
   "source": [
    "len_counts.drop(columns = [\"gene_name\", \"gene_id\", \"lengths_cds\"], inplace = True)\n",
    "len_counts.to_csv(save_path + \"TE_mouse.csv\", index = False)"
   ]
  },
  {
   "cell_type": "code",
   "execution_count": null,
   "id": "f6e84780-c808-4665-b38f-e7f1c179b214",
   "metadata": {},
   "outputs": [],
   "source": []
  }
 ],
 "metadata": {
  "kernelspec": {
   "display_name": "Python 3 (ipykernel)",
   "language": "python",
   "name": "python3"
  },
  "language_info": {
   "codemirror_mode": {
    "name": "ipython",
    "version": 3
   },
   "file_extension": ".py",
   "mimetype": "text/x-python",
   "name": "python",
   "nbconvert_exporter": "python",
   "pygments_lexer": "ipython3",
   "version": "3.8.12"
  }
 },
 "nbformat": 4,
 "nbformat_minor": 5
}
