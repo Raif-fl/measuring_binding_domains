{
 "cells": [
  {
   "cell_type": "markdown",
   "id": "baf1a8b0-cac7-4961-a879-591b20d9b3c0",
   "metadata": {},
   "source": [
    "## Step 1:\n",
    "Let the program know where to find your tools file."
   ]
  },
  {
   "cell_type": "code",
   "execution_count": 1,
   "id": "f81eafa3-0e6c-4ed6-b0e1-f0b702a3a622",
   "metadata": {},
   "outputs": [],
   "source": [
    "import sys, os\n",
    "sys.path.append(os.path.join(os.path.realpath(\"..\"), \"Tools\"))"
   ]
  },
  {
   "cell_type": "markdown",
   "id": "39a9dfbc-f857-44bb-b78a-1e6e90a785b8",
   "metadata": {},
   "source": [
    "## Step 2:\n",
    "Load up all of the necessary packages"
   ]
  },
  {
   "cell_type": "code",
   "execution_count": 2,
   "id": "1f2fa5d5-89fd-4b2b-859f-c6d7f26148e3",
   "metadata": {},
   "outputs": [],
   "source": [
    "from plastid import BAMGenomeArray,GTF2_TranscriptAssembler,Transcript\n",
    "import numpy as np\n",
    "import pandas as pd\n",
    "from plastid.plotting.plots import *\n",
    "import utilities as utils\n",
    "import matplotlib.pyplot as plt\n",
    "from matplotlib.pyplot import figure\n",
    "from Bio import SeqIO\n",
    "%matplotlib inline"
   ]
  },
  {
   "cell_type": "markdown",
   "id": "d61428b8-05ef-4f2b-9713-b1d80b0589b3",
   "metadata": {},
   "source": [
    "## Step 3:\n",
    "define the paths to our reference genome and annotation files as well as the path to our list of autism spectrum disorder (ASD) genes"
   ]
  },
  {
   "cell_type": "code",
   "execution_count": 3,
   "id": "a2d6b04d-3d04-47b2-b2dc-dd01ca2a80b5",
   "metadata": {},
   "outputs": [],
   "source": [
    "reference_path = \"/home/keeganfl/Desktop/Work_Fall_2021/Protocol_test/genome/mouse/\"\n",
    "asd_genes_path = \"/home/keeganfl/Desktop/genetics_paper/\""
   ]
  },
  {
   "cell_type": "markdown",
   "id": "b40fc270-0de1-416b-8fe0-8e6fd7a721e1",
   "metadata": {},
   "source": [
    "## Step 4: \n",
    "load the transcript and genome files so that we can find the sequence of each gene"
   ]
  },
  {
   "cell_type": "code",
   "execution_count": 4,
   "id": "f35accf9-0fb5-41c0-a3ed-e7191dcaf587",
   "metadata": {},
   "outputs": [],
   "source": [
    "# Loading up the transcrip[t information.\n",
    "transcripts = list(GTF2_TranscriptAssembler(open(reference_path + \"mm10.refGene.gtf\"),return_type=Transcript))\n",
    "\n",
    "# Loading up the genome information. \n",
    "genome = SeqIO.to_dict(SeqIO.parse(open(reference_path + \"mm10.fa\"),\"fasta\"))"
   ]
  },
  {
   "cell_type": "code",
   "execution_count": null,
   "id": "437c89bc-3943-44a1-971e-27d4bd441da0",
   "metadata": {},
   "outputs": [],
   "source": []
  },
  {
   "cell_type": "code",
   "execution_count": 5,
   "id": "cddb3903-4d4d-43f1-981d-8236f9015e2d",
   "metadata": {},
   "outputs": [],
   "source": [
    "transcript, index = utils.find_transcript(\"Sptbn1\", transcripts)"
   ]
  },
  {
   "cell_type": "code",
   "execution_count": 6,
   "id": "463f7279-ca14-465c-b2f5-7bc6c6cabb96",
   "metadata": {},
   "outputs": [],
   "source": [
    "seq = transcript[0].get_sequence(genome)"
   ]
  },
  {
   "cell_type": "code",
   "execution_count": 7,
   "id": "c83c9e93-92bd-4b99-be14-4345f70e8fe8",
   "metadata": {},
   "outputs": [
    {
     "data": {
      "text/plain": [
       "116"
      ]
     },
     "execution_count": 7,
     "metadata": {},
     "output_type": "execute_result"
    }
   ],
   "source": [
    "seq.count(\"TCC\")"
   ]
  },
  {
   "cell_type": "markdown",
   "id": "81090ac1-e640-408b-a64c-d9dcbee61b83",
   "metadata": {},
   "source": [
    "## Step 5:\n",
    "Create a dataframe that contains the gene name, gene length, and the counts for the FMRP target mRNA sequences"
   ]
  },
  {
   "cell_type": "code",
   "execution_count": 9,
   "id": "eb0c0ba5-04cd-445a-899e-263b353365c9",
   "metadata": {},
   "outputs": [],
   "source": [
    "# Create a dataframe with all of the count data I want. \n",
    "mouse_counts = utils.ACUK_WGGA_counter(transcripts, genome)\n",
    "mouse_counts.columns = [\"gene_name\", \"gene_length\", \"ACUK_count\", \"WGGA_count\"]"
   ]
  },
  {
   "cell_type": "markdown",
   "id": "a616d1ba-c086-4442-87e6-ae5a8a22f5f6",
   "metadata": {},
   "source": [
    "## Step 6:\n",
    "Load up a list containing all of the autism spectrum genes"
   ]
  },
  {
   "cell_type": "code",
   "execution_count": 10,
   "id": "942fe9d8-d91b-4cf6-a83a-34d448a9ccf4",
   "metadata": {},
   "outputs": [],
   "source": [
    "asd_gene_names = pd.read_csv(asd_genes_path + \"asd_genes_mouse.csv\", names = [\"gene_name\", \"gene_score\", \"syndromatic\"])"
   ]
  },
  {
   "cell_type": "markdown",
   "id": "e068fba5-e7b7-4989-91a2-de3a281c60cb",
   "metadata": {},
   "source": [
    "## Step 7:\n",
    "merge the asd_gene_names and the mouse counts together based on the shared gene names"
   ]
  },
  {
   "cell_type": "code",
   "execution_count": 11,
   "id": "b0f4283d-e047-4887-a060-ce7c5ba8de8d",
   "metadata": {},
   "outputs": [],
   "source": [
    "temp_df = pd.merge(mouse_counts, asd_gene_names, how=\"left\", on=\"gene_name\", indicator = True)\n",
    "\n",
    "temp_df = temp_df.reset_index(drop=True)\n",
    "# double check this command.\n",
    "temp_df.drop_duplicates(subset =\"gene_name\",keep = \"first\", inplace = True) "
   ]
  },
  {
   "cell_type": "markdown",
   "id": "68d21455-4199-4670-a7f8-45e32938f693",
   "metadata": {},
   "source": [
    "## Step 8: \n",
    "Add additional columns to our dataframes including the total mRNA binding domains present and the mRNA binding domain density. "
   ]
  },
  {
   "cell_type": "code",
   "execution_count": 36,
   "id": "1a1d80eb-e581-41f8-a587-ff0ae3ca7c6a",
   "metadata": {},
   "outputs": [
    {
     "data": {
      "text/html": [
       "<div>\n",
       "<style scoped>\n",
       "    .dataframe tbody tr th:only-of-type {\n",
       "        vertical-align: middle;\n",
       "    }\n",
       "\n",
       "    .dataframe tbody tr th {\n",
       "        vertical-align: top;\n",
       "    }\n",
       "\n",
       "    .dataframe thead th {\n",
       "        text-align: right;\n",
       "    }\n",
       "</style>\n",
       "<table border=\"1\" class=\"dataframe\">\n",
       "  <thead>\n",
       "    <tr style=\"text-align: right;\">\n",
       "      <th></th>\n",
       "      <th>gene_name</th>\n",
       "      <th>gene_length</th>\n",
       "      <th>ACUK_count</th>\n",
       "      <th>WGGA_count</th>\n",
       "      <th>gene_score</th>\n",
       "      <th>syndromatic</th>\n",
       "      <th>_merge</th>\n",
       "    </tr>\n",
       "  </thead>\n",
       "  <tbody>\n",
       "    <tr>\n",
       "      <th>0</th>\n",
       "      <td>Xkr4</td>\n",
       "      <td>1944</td>\n",
       "      <td>10</td>\n",
       "      <td>16</td>\n",
       "      <td>NaN</td>\n",
       "      <td>NaN</td>\n",
       "      <td>left_only</td>\n",
       "    </tr>\n",
       "    <tr>\n",
       "      <th>1</th>\n",
       "      <td>Rp1</td>\n",
       "      <td>3291</td>\n",
       "      <td>30</td>\n",
       "      <td>34</td>\n",
       "      <td>NaN</td>\n",
       "      <td>NaN</td>\n",
       "      <td>left_only</td>\n",
       "    </tr>\n",
       "    <tr>\n",
       "      <th>4</th>\n",
       "      <td>Sox17</td>\n",
       "      <td>876</td>\n",
       "      <td>3</td>\n",
       "      <td>9</td>\n",
       "      <td>NaN</td>\n",
       "      <td>NaN</td>\n",
       "      <td>left_only</td>\n",
       "    </tr>\n",
       "    <tr>\n",
       "      <th>9</th>\n",
       "      <td>Mrpl15</td>\n",
       "      <td>1761</td>\n",
       "      <td>14</td>\n",
       "      <td>12</td>\n",
       "      <td>NaN</td>\n",
       "      <td>NaN</td>\n",
       "      <td>left_only</td>\n",
       "    </tr>\n",
       "    <tr>\n",
       "      <th>12</th>\n",
       "      <td>Lypla1</td>\n",
       "      <td>591</td>\n",
       "      <td>6</td>\n",
       "      <td>5</td>\n",
       "      <td>NaN</td>\n",
       "      <td>NaN</td>\n",
       "      <td>left_only</td>\n",
       "    </tr>\n",
       "    <tr>\n",
       "      <th>...</th>\n",
       "      <td>...</td>\n",
       "      <td>...</td>\n",
       "      <td>...</td>\n",
       "      <td>...</td>\n",
       "      <td>...</td>\n",
       "      <td>...</td>\n",
       "      <td>...</td>\n",
       "    </tr>\n",
       "    <tr>\n",
       "      <th>44436</th>\n",
       "      <td>Gm20854</td>\n",
       "      <td>684</td>\n",
       "      <td>8</td>\n",
       "      <td>9</td>\n",
       "      <td>NaN</td>\n",
       "      <td>NaN</td>\n",
       "      <td>left_only</td>\n",
       "    </tr>\n",
       "    <tr>\n",
       "      <th>44438</th>\n",
       "      <td>Gm20819</td>\n",
       "      <td>739</td>\n",
       "      <td>10</td>\n",
       "      <td>0</td>\n",
       "      <td>NaN</td>\n",
       "      <td>NaN</td>\n",
       "      <td>left_only</td>\n",
       "    </tr>\n",
       "    <tr>\n",
       "      <th>44439</th>\n",
       "      <td>LOC115489301</td>\n",
       "      <td>684</td>\n",
       "      <td>6</td>\n",
       "      <td>9</td>\n",
       "      <td>NaN</td>\n",
       "      <td>NaN</td>\n",
       "      <td>left_only</td>\n",
       "    </tr>\n",
       "    <tr>\n",
       "      <th>44440</th>\n",
       "      <td>Gm20879</td>\n",
       "      <td>1218</td>\n",
       "      <td>14</td>\n",
       "      <td>14</td>\n",
       "      <td>NaN</td>\n",
       "      <td>NaN</td>\n",
       "      <td>left_only</td>\n",
       "    </tr>\n",
       "    <tr>\n",
       "      <th>44443</th>\n",
       "      <td>Erdr1</td>\n",
       "      <td>530</td>\n",
       "      <td>1</td>\n",
       "      <td>0</td>\n",
       "      <td>NaN</td>\n",
       "      <td>NaN</td>\n",
       "      <td>left_only</td>\n",
       "    </tr>\n",
       "  </tbody>\n",
       "</table>\n",
       "<p>25239 rows × 7 columns</p>\n",
       "</div>"
      ],
      "text/plain": [
       "          gene_name  gene_length  ACUK_count  WGGA_count gene_score  \\\n",
       "0              Xkr4         1944          10          16        NaN   \n",
       "1               Rp1         3291          30          34        NaN   \n",
       "4             Sox17          876           3           9        NaN   \n",
       "9            Mrpl15         1761          14          12        NaN   \n",
       "12           Lypla1          591           6           5        NaN   \n",
       "...             ...          ...         ...         ...        ...   \n",
       "44436       Gm20854          684           8           9        NaN   \n",
       "44438       Gm20819          739          10           0        NaN   \n",
       "44439  LOC115489301          684           6           9        NaN   \n",
       "44440       Gm20879         1218          14          14        NaN   \n",
       "44443         Erdr1          530           1           0        NaN   \n",
       "\n",
       "      syndromatic     _merge  \n",
       "0             NaN  left_only  \n",
       "1             NaN  left_only  \n",
       "4             NaN  left_only  \n",
       "9             NaN  left_only  \n",
       "12            NaN  left_only  \n",
       "...           ...        ...  \n",
       "44436         NaN  left_only  \n",
       "44438         NaN  left_only  \n",
       "44439         NaN  left_only  \n",
       "44440         NaN  left_only  \n",
       "44443         NaN  left_only  \n",
       "\n",
       "[25239 rows x 7 columns]"
      ]
     },
     "execution_count": 36,
     "metadata": {},
     "output_type": "execute_result"
    }
   ],
   "source": [
    "temp_df"
   ]
  },
  {
   "cell_type": "code",
   "execution_count": 37,
   "id": "8f78d9a7-5f5c-41ab-a359-d2e0f4756587",
   "metadata": {},
   "outputs": [],
   "source": [
    "temp_df[\"total_count\"] = temp_df.ACUK_count + temp_df.WGGA_count\n",
    "temp_df[\"density\"] = temp_df.total_count/temp_df.gene_length"
   ]
  },
  {
   "cell_type": "markdown",
   "id": "78a4bb10-5a91-44ba-a8fa-138661744929",
   "metadata": {},
   "source": [
    "## Step 9:\n",
    "split the merged table into asd_genes and non_asd_genes tables"
   ]
  },
  {
   "cell_type": "code",
   "execution_count": 38,
   "id": "385b0d82-10c5-4be9-9627-3ed42e753ef6",
   "metadata": {},
   "outputs": [],
   "source": [
    "# split it into asd_genes and non_asd_genes tables\n",
    "asd_genes = temp_df.loc[temp_df._merge == \"both\"].copy()\n",
    "\n",
    "non_asd_genes = temp_df.loc[temp_df._merge == \"left_only\"].copy()\n",
    "\n",
    "# drop and sort the \n",
    "non_asd_genes.drop(columns = [\"gene_score\", \"syndromatic\", \"_merge\"], inplace = True)\n",
    "asd_genes.sort_values([\"syndromatic\", \"gene_score\"], ascending = [False, True], inplace = True)"
   ]
  },
  {
   "cell_type": "code",
   "execution_count": 39,
   "id": "03bdaab3-6d93-422b-8cf8-253422f460e4",
   "metadata": {},
   "outputs": [],
   "source": [
    "# Reset the indices\n",
    "asd_genes = asd_genes.reset_index(drop=True)\n",
    "non_asd_genes = non_asd_genes.reset_index(drop=True)"
   ]
  },
  {
   "cell_type": "markdown",
   "id": "790c5406-7932-4ae9-be92-60b7db67d580",
   "metadata": {},
   "source": [
    "### A small area to look at the tables"
   ]
  },
  {
   "cell_type": "code",
   "execution_count": 40,
   "id": "4412fbed-15ff-46cc-9d4a-05e22007886f",
   "metadata": {},
   "outputs": [
    {
     "data": {
      "text/html": [
       "<div>\n",
       "<style scoped>\n",
       "    .dataframe tbody tr th:only-of-type {\n",
       "        vertical-align: middle;\n",
       "    }\n",
       "\n",
       "    .dataframe tbody tr th {\n",
       "        vertical-align: top;\n",
       "    }\n",
       "\n",
       "    .dataframe thead th {\n",
       "        text-align: right;\n",
       "    }\n",
       "</style>\n",
       "<table border=\"1\" class=\"dataframe\">\n",
       "  <thead>\n",
       "    <tr style=\"text-align: right;\">\n",
       "      <th></th>\n",
       "      <th>gene_name</th>\n",
       "      <th>gene_length</th>\n",
       "      <th>ACUK_count</th>\n",
       "      <th>WGGA_count</th>\n",
       "      <th>gene_score</th>\n",
       "      <th>syndromatic</th>\n",
       "      <th>_merge</th>\n",
       "      <th>total_count</th>\n",
       "      <th>density</th>\n",
       "    </tr>\n",
       "  </thead>\n",
       "  <tbody>\n",
       "    <tr>\n",
       "      <th>0</th>\n",
       "      <td>Ahi1</td>\n",
       "      <td>3117</td>\n",
       "      <td>45</td>\n",
       "      <td>17</td>\n",
       "      <td>0</td>\n",
       "      <td>1</td>\n",
       "      <td>both</td>\n",
       "      <td>62</td>\n",
       "      <td>0.019891</td>\n",
       "    </tr>\n",
       "    <tr>\n",
       "      <th>1</th>\n",
       "      <td>Sgsh</td>\n",
       "      <td>1509</td>\n",
       "      <td>12</td>\n",
       "      <td>18</td>\n",
       "      <td>0</td>\n",
       "      <td>1</td>\n",
       "      <td>both</td>\n",
       "      <td>30</td>\n",
       "      <td>0.019881</td>\n",
       "    </tr>\n",
       "    <tr>\n",
       "      <th>2</th>\n",
       "      <td>Tbx1</td>\n",
       "      <td>1590</td>\n",
       "      <td>10</td>\n",
       "      <td>6</td>\n",
       "      <td>0</td>\n",
       "      <td>1</td>\n",
       "      <td>both</td>\n",
       "      <td>16</td>\n",
       "      <td>0.010063</td>\n",
       "    </tr>\n",
       "    <tr>\n",
       "      <th>3</th>\n",
       "      <td>Ntng2</td>\n",
       "      <td>1593</td>\n",
       "      <td>17</td>\n",
       "      <td>24</td>\n",
       "      <td>0</td>\n",
       "      <td>1</td>\n",
       "      <td>both</td>\n",
       "      <td>41</td>\n",
       "      <td>0.025738</td>\n",
       "    </tr>\n",
       "    <tr>\n",
       "      <th>4</th>\n",
       "      <td>Slc1a2</td>\n",
       "      <td>1686</td>\n",
       "      <td>19</td>\n",
       "      <td>17</td>\n",
       "      <td>0</td>\n",
       "      <td>1</td>\n",
       "      <td>both</td>\n",
       "      <td>36</td>\n",
       "      <td>0.021352</td>\n",
       "    </tr>\n",
       "    <tr>\n",
       "      <th>...</th>\n",
       "      <td>...</td>\n",
       "      <td>...</td>\n",
       "      <td>...</td>\n",
       "      <td>...</td>\n",
       "      <td>...</td>\n",
       "      <td>...</td>\n",
       "      <td>...</td>\n",
       "      <td>...</td>\n",
       "      <td>...</td>\n",
       "    </tr>\n",
       "    <tr>\n",
       "      <th>212</th>\n",
       "      <td>Maoa</td>\n",
       "      <td>1581</td>\n",
       "      <td>19</td>\n",
       "      <td>11</td>\n",
       "      <td>3</td>\n",
       "      <td>0</td>\n",
       "      <td>both</td>\n",
       "      <td>30</td>\n",
       "      <td>0.018975</td>\n",
       "    </tr>\n",
       "    <tr>\n",
       "      <th>213</th>\n",
       "      <td>Slc6a8</td>\n",
       "      <td>1899</td>\n",
       "      <td>17</td>\n",
       "      <td>24</td>\n",
       "      <td>3</td>\n",
       "      <td>0</td>\n",
       "      <td>both</td>\n",
       "      <td>41</td>\n",
       "      <td>0.021590</td>\n",
       "    </tr>\n",
       "    <tr>\n",
       "      <th>214</th>\n",
       "      <td>Rab39b</td>\n",
       "      <td>642</td>\n",
       "      <td>6</td>\n",
       "      <td>4</td>\n",
       "      <td>3</td>\n",
       "      <td>0</td>\n",
       "      <td>both</td>\n",
       "      <td>10</td>\n",
       "      <td>0.015576</td>\n",
       "    </tr>\n",
       "    <tr>\n",
       "      <th>215</th>\n",
       "      <td>Il1rapl1</td>\n",
       "      <td>2091</td>\n",
       "      <td>34</td>\n",
       "      <td>24</td>\n",
       "      <td>3</td>\n",
       "      <td>0</td>\n",
       "      <td>both</td>\n",
       "      <td>58</td>\n",
       "      <td>0.027738</td>\n",
       "    </tr>\n",
       "    <tr>\n",
       "      <th>216</th>\n",
       "      <td>Glra2</td>\n",
       "      <td>1359</td>\n",
       "      <td>21</td>\n",
       "      <td>17</td>\n",
       "      <td>3</td>\n",
       "      <td>0</td>\n",
       "      <td>both</td>\n",
       "      <td>38</td>\n",
       "      <td>0.027962</td>\n",
       "    </tr>\n",
       "  </tbody>\n",
       "</table>\n",
       "<p>217 rows × 9 columns</p>\n",
       "</div>"
      ],
      "text/plain": [
       "    gene_name  gene_length  ACUK_count  WGGA_count gene_score syndromatic  \\\n",
       "0        Ahi1         3117          45          17          0           1   \n",
       "1        Sgsh         1509          12          18          0           1   \n",
       "2        Tbx1         1590          10           6          0           1   \n",
       "3       Ntng2         1593          17          24          0           1   \n",
       "4      Slc1a2         1686          19          17          0           1   \n",
       "..        ...          ...         ...         ...        ...         ...   \n",
       "212      Maoa         1581          19          11          3           0   \n",
       "213    Slc6a8         1899          17          24          3           0   \n",
       "214    Rab39b          642           6           4          3           0   \n",
       "215  Il1rapl1         2091          34          24          3           0   \n",
       "216     Glra2         1359          21          17          3           0   \n",
       "\n",
       "    _merge  total_count   density  \n",
       "0     both           62  0.019891  \n",
       "1     both           30  0.019881  \n",
       "2     both           16  0.010063  \n",
       "3     both           41  0.025738  \n",
       "4     both           36  0.021352  \n",
       "..     ...          ...       ...  \n",
       "212   both           30  0.018975  \n",
       "213   both           41  0.021590  \n",
       "214   both           10  0.015576  \n",
       "215   both           58  0.027738  \n",
       "216   both           38  0.027962  \n",
       "\n",
       "[217 rows x 9 columns]"
      ]
     },
     "execution_count": 40,
     "metadata": {},
     "output_type": "execute_result"
    }
   ],
   "source": [
    "asd_genes"
   ]
  },
  {
   "cell_type": "code",
   "execution_count": 41,
   "id": "b29ccd6d-2611-4693-9e87-ef1c6ba714ed",
   "metadata": {},
   "outputs": [
    {
     "data": {
      "text/html": [
       "<div>\n",
       "<style scoped>\n",
       "    .dataframe tbody tr th:only-of-type {\n",
       "        vertical-align: middle;\n",
       "    }\n",
       "\n",
       "    .dataframe tbody tr th {\n",
       "        vertical-align: top;\n",
       "    }\n",
       "\n",
       "    .dataframe thead th {\n",
       "        text-align: right;\n",
       "    }\n",
       "</style>\n",
       "<table border=\"1\" class=\"dataframe\">\n",
       "  <thead>\n",
       "    <tr style=\"text-align: right;\">\n",
       "      <th></th>\n",
       "      <th>gene_name</th>\n",
       "      <th>gene_length</th>\n",
       "      <th>ACUK_count</th>\n",
       "      <th>WGGA_count</th>\n",
       "      <th>total_count</th>\n",
       "      <th>density</th>\n",
       "    </tr>\n",
       "  </thead>\n",
       "  <tbody>\n",
       "    <tr>\n",
       "      <th>0</th>\n",
       "      <td>Xkr4</td>\n",
       "      <td>1944</td>\n",
       "      <td>10</td>\n",
       "      <td>16</td>\n",
       "      <td>26</td>\n",
       "      <td>0.013374</td>\n",
       "    </tr>\n",
       "    <tr>\n",
       "      <th>1</th>\n",
       "      <td>Rp1</td>\n",
       "      <td>3291</td>\n",
       "      <td>30</td>\n",
       "      <td>34</td>\n",
       "      <td>64</td>\n",
       "      <td>0.019447</td>\n",
       "    </tr>\n",
       "    <tr>\n",
       "      <th>2</th>\n",
       "      <td>Sox17</td>\n",
       "      <td>876</td>\n",
       "      <td>3</td>\n",
       "      <td>9</td>\n",
       "      <td>12</td>\n",
       "      <td>0.013699</td>\n",
       "    </tr>\n",
       "    <tr>\n",
       "      <th>3</th>\n",
       "      <td>Mrpl15</td>\n",
       "      <td>1761</td>\n",
       "      <td>14</td>\n",
       "      <td>12</td>\n",
       "      <td>26</td>\n",
       "      <td>0.014764</td>\n",
       "    </tr>\n",
       "    <tr>\n",
       "      <th>4</th>\n",
       "      <td>Lypla1</td>\n",
       "      <td>591</td>\n",
       "      <td>6</td>\n",
       "      <td>5</td>\n",
       "      <td>11</td>\n",
       "      <td>0.018613</td>\n",
       "    </tr>\n",
       "    <tr>\n",
       "      <th>...</th>\n",
       "      <td>...</td>\n",
       "      <td>...</td>\n",
       "      <td>...</td>\n",
       "      <td>...</td>\n",
       "      <td>...</td>\n",
       "      <td>...</td>\n",
       "    </tr>\n",
       "    <tr>\n",
       "      <th>25017</th>\n",
       "      <td>Gm20854</td>\n",
       "      <td>684</td>\n",
       "      <td>8</td>\n",
       "      <td>9</td>\n",
       "      <td>17</td>\n",
       "      <td>0.024854</td>\n",
       "    </tr>\n",
       "    <tr>\n",
       "      <th>25018</th>\n",
       "      <td>Gm20819</td>\n",
       "      <td>739</td>\n",
       "      <td>10</td>\n",
       "      <td>0</td>\n",
       "      <td>10</td>\n",
       "      <td>0.013532</td>\n",
       "    </tr>\n",
       "    <tr>\n",
       "      <th>25019</th>\n",
       "      <td>LOC115489301</td>\n",
       "      <td>684</td>\n",
       "      <td>6</td>\n",
       "      <td>9</td>\n",
       "      <td>15</td>\n",
       "      <td>0.021930</td>\n",
       "    </tr>\n",
       "    <tr>\n",
       "      <th>25020</th>\n",
       "      <td>Gm20879</td>\n",
       "      <td>1218</td>\n",
       "      <td>14</td>\n",
       "      <td>14</td>\n",
       "      <td>28</td>\n",
       "      <td>0.022989</td>\n",
       "    </tr>\n",
       "    <tr>\n",
       "      <th>25021</th>\n",
       "      <td>Erdr1</td>\n",
       "      <td>530</td>\n",
       "      <td>1</td>\n",
       "      <td>0</td>\n",
       "      <td>1</td>\n",
       "      <td>0.001887</td>\n",
       "    </tr>\n",
       "  </tbody>\n",
       "</table>\n",
       "<p>25022 rows × 6 columns</p>\n",
       "</div>"
      ],
      "text/plain": [
       "          gene_name  gene_length  ACUK_count  WGGA_count  total_count  \\\n",
       "0              Xkr4         1944          10          16           26   \n",
       "1               Rp1         3291          30          34           64   \n",
       "2             Sox17          876           3           9           12   \n",
       "3            Mrpl15         1761          14          12           26   \n",
       "4            Lypla1          591           6           5           11   \n",
       "...             ...          ...         ...         ...          ...   \n",
       "25017       Gm20854          684           8           9           17   \n",
       "25018       Gm20819          739          10           0           10   \n",
       "25019  LOC115489301          684           6           9           15   \n",
       "25020       Gm20879         1218          14          14           28   \n",
       "25021         Erdr1          530           1           0            1   \n",
       "\n",
       "        density  \n",
       "0      0.013374  \n",
       "1      0.019447  \n",
       "2      0.013699  \n",
       "3      0.014764  \n",
       "4      0.018613  \n",
       "...         ...  \n",
       "25017  0.024854  \n",
       "25018  0.013532  \n",
       "25019  0.021930  \n",
       "25020  0.022989  \n",
       "25021  0.001887  \n",
       "\n",
       "[25022 rows x 6 columns]"
      ]
     },
     "execution_count": 41,
     "metadata": {},
     "output_type": "execute_result"
    }
   ],
   "source": [
    "non_asd_genes"
   ]
  },
  {
   "cell_type": "markdown",
   "id": "8eb8b653-f316-4737-a711-798f8aa03269",
   "metadata": {},
   "source": [
    "### Analysis of sequence counts within different length classes \n",
    "I believe my plan for my next steps here involved looking at the density of the sites, so look at the number of sites divided by length. "
   ]
  },
  {
   "cell_type": "code",
   "execution_count": 42,
   "id": "ed3e8d2f-d59c-4b2f-8fab-051255bf8a88",
   "metadata": {},
   "outputs": [],
   "source": [
    "# For some reason I have to convert this to numeric before filtering.\n",
    "asd_genes.gene_score = pd.to_numeric(asd_genes.gene_score)"
   ]
  },
  {
   "cell_type": "code",
   "execution_count": 56,
   "id": "b727349a-d8ed-4d97-96f5-5f62e4216e0d",
   "metadata": {},
   "outputs": [],
   "source": [
    "short_asd = asd_genes.query(\"gene_length < 1500 & gene_score <= 2 | gene_score == 'S'\")\n",
    "short_other = non_asd_genes.query(\"gene_length < 1500\")"
   ]
  },
  {
   "cell_type": "code",
   "execution_count": 57,
   "id": "73f5434c-fdb1-41be-a814-be3a07e51d6c",
   "metadata": {},
   "outputs": [
    {
     "data": {
      "image/png": "[encoded data removed]",
      "text/plain": [
       "<Figure size 432x288 with 1 Axes>"
      ]
     },
     "metadata": {
      "needs_background": "light"
     },
     "output_type": "display_data"
    },
    {
     "data": {
      "text/plain": [
       "(0.0, 0.04)"
      ]
     },
     "execution_count": 57,
     "metadata": {},
     "output_type": "execute_result"
    },
    {
     "data": {
      "image/png": "[encoded data removed]",
      "text/plain": [
       "<Figure size 432x288 with 1 Axes>"
      ]
     },
     "metadata": {
      "needs_background": "light"
     },
     "output_type": "display_data"
    }
   ],
   "source": [
    "plt.hist(short_asd.density)\n",
    "plt.xlim((0,0.04))\n",
    "plt.show()\n",
    "plt.hist(short_other.density, bins = 30)\n",
    "plt.xlim((0,0.04))"
   ]
  },
  {
   "cell_type": "code",
   "execution_count": 58,
   "id": "d500785b-5046-4403-998f-d99f9c42ea93",
   "metadata": {},
   "outputs": [],
   "source": [
    "long_asd = asd_genes.query(\"gene_length > 6000 & gene_score <= 2 | gene_score == 'S'\")\n",
    "long_other = non_asd_genes.query(\"gene_length > 6000 & gene_length < 60000\")"
   ]
  },
  {
   "cell_type": "code",
   "execution_count": 65,
   "id": "da2ce525-9a37-4a6a-835d-b6e8e0eee4d9",
   "metadata": {},
   "outputs": [
    {
     "data": {
      "image/png": "[encoded data removed]",
      "text/plain": [
       "<Figure size 432x288 with 1 Axes>"
      ]
     },
     "metadata": {
      "needs_background": "light"
     },
     "output_type": "display_data"
    },
    {
     "data": {
      "text/plain": [
       "(0.012, 0.03)"
      ]
     },
     "execution_count": 65,
     "metadata": {},
     "output_type": "execute_result"
    },
    {
     "data": {
      "image/png": "[encoded data removed]",
      "text/plain": [
       "<Figure size 432x288 with 1 Axes>"
      ]
     },
     "metadata": {
      "needs_background": "light"
     },
     "output_type": "display_data"
    }
   ],
   "source": [
    "plt.hist(long_asd.density)\n",
    "plt.xlim((0.012,0.03))\n",
    "plt.show()\n",
    "plt.hist(long_other.density, bins = 24)\n",
    "plt.xlim((0.012,0.03))"
   ]
  },
  {
   "cell_type": "markdown",
   "id": "5a343edb-098a-4226-aef2-5fced63b88b7",
   "metadata": {},
   "source": [
    "### Note too self:\n",
    "must confirm with someone at some point that I should have flipped these for the analysis since they listed mRNA sequences and I have DNA information. I am referring to the ACUK_WGGA_counter function and what I counted as the sequences. \n",
    "\n",
    "Also, was it right to ignore the 3' and 5' untranslated regions, or would including these be beneficial to the analysis? \n",
    "\n",
    "Also also, I should triple check that plastid always flips things in the right direction. "
   ]
  },
  {
   "cell_type": "code",
   "execution_count": null,
   "id": "0b2570ea-7413-491e-89cb-eb5efb0a367e",
   "metadata": {},
   "outputs": [],
   "source": []
  }
 ],
 "metadata": {
  "kernelspec": {
   "display_name": "Python 3 (ipykernel)",
   "language": "python",
   "name": "python3"
  },
  "language_info": {
   "codemirror_mode": {
    "name": "ipython",
    "version": 3
   },
   "file_extension": ".py",
   "mimetype": "text/x-python",
   "name": "python",
   "nbconvert_exporter": "python",
   "pygments_lexer": "ipython3",
   "version": "3.8.12"
  }
 },
 "nbformat": 4,
 "nbformat_minor": 5
}
