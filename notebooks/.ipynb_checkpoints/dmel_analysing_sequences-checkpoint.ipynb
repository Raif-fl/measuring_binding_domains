{
 "cells": [
  {
   "cell_type": "markdown",
   "id": "3183391c-a14f-4254-b2ed-6f55b95937d3",
   "metadata": {},
   "source": [
    "# NOTES:\n",
    "This is still identical to the mouse dataset as I have still not found out how to find autism genes for flies, is there any such thing as autism in flies? need to look into what the equivalent targets in flies \n",
    "\n",
    "It appears that apris has some good data for the fly primary isoform, oh, it actually has something good for mouse as well. I can start implementing this soon.  "
   ]
  },
  {
   "cell_type": "markdown",
   "id": "baf1a8b0-cac7-4961-a879-591b20d9b3c0",
   "metadata": {},
   "source": [
    "## Step 1:\n",
    "Let the program know where to find your tools file."
   ]
  },
  {
   "cell_type": "code",
   "execution_count": 42,
   "id": "f81eafa3-0e6c-4ed6-b0e1-f0b702a3a622",
   "metadata": {},
   "outputs": [],
   "source": [
    "import sys, os\n",
    "sys.path.append(os.path.join(os.path.realpath(\"..\"), \"Tools\"))"
   ]
  },
  {
   "cell_type": "markdown",
   "id": "39a9dfbc-f857-44bb-b78a-1e6e90a785b8",
   "metadata": {},
   "source": [
    "## Step 2:\n",
    "Load up all of the necessary packages"
   ]
  },
  {
   "cell_type": "code",
   "execution_count": 43,
   "id": "1f2fa5d5-89fd-4b2b-859f-c6d7f26148e3",
   "metadata": {},
   "outputs": [],
   "source": [
    "from plastid import BAMGenomeArray,GTF2_TranscriptAssembler,Transcript\n",
    "import numpy as np\n",
    "import pandas as pd\n",
    "from plastid.plotting.plots import *\n",
    "import utilities as utils\n",
    "import matplotlib.pyplot as plt\n",
    "from matplotlib.pyplot import figure\n",
    "from scipy import stats\n",
    "from Bio import SeqIO\n",
    "from Bio.Alphabet import generic_dna\n",
    "from Bio.Seq import Seq\n",
    "\n",
    "%matplotlib inline"
   ]
  },
  {
   "cell_type": "markdown",
   "id": "d61428b8-05ef-4f2b-9713-b1d80b0589b3",
   "metadata": {},
   "source": [
    "## Step 3:\n",
    "define the paths to our reference genome and annotation files as well as the path to our list of autism spectrum disorder (ASD) genes"
   ]
  },
  {
   "cell_type": "code",
   "execution_count": 72,
   "id": "a2d6b04d-3d04-47b2-b2dc-dd01ca2a80b5",
   "metadata": {},
   "outputs": [],
   "source": [
    "reference_path = \"/home/keeganfl/Desktop/Work_Fall_2021/Protocol_test/genome/dmel/\"\n",
    "data_path = \"/home/keeganfl/Desktop/measuring_binding_domains/data/\"\n",
    "figure_path = \"/home/keeganfl/Desktop/measuring_binding_domains/Q20/Figures/\"\n",
    "table_path = \"/home/keeganfl/Desktop/measuring_binding_domains/Q20/Tables/\""
   ]
  },
  {
   "cell_type": "markdown",
   "id": "b40fc270-0de1-416b-8fe0-8e6fd7a721e1",
   "metadata": {},
   "source": [
    "## Step 4: \n",
    "load the transcript and genome files so that we can find the sequence of each gene"
   ]
  },
  {
   "cell_type": "code",
   "execution_count": 4,
   "id": "f35accf9-0fb5-41c0-a3ed-e7191dcaf587",
   "metadata": {},
   "outputs": [],
   "source": [
    "# Loading up the transcrip[t information.\n",
    "transcripts = list(GTF2_TranscriptAssembler(open(reference_path + \"Drosophila_melanogaster.BDGP6.32.103.gtf\"),return_type=Transcript))\n",
    "\n",
    "# Loading up the genome information. \n",
    "genome = SeqIO.to_dict(SeqIO.parse(open(reference_path + \"Drosophila_melanogaster.BDGP6.32.dna.toplevel.fa\"),\"fasta\"))"
   ]
  },
  {
   "cell_type": "markdown",
   "id": "c2c52fca-1207-46f4-a7d1-2697af33a173",
   "metadata": {},
   "source": [
    "## Step 5:\n",
    "Create a dataframe that contains the gene name, gene length, and the counts for the FMRP target mRNA sequences"
   ]
  },
  {
   "cell_type": "code",
   "execution_count": 176,
   "id": "b778150d-378b-4ba6-a088-c70e030cdbc5",
   "metadata": {
    "tags": []
   },
   "outputs": [
    {
     "name": "stderr",
     "output_type": "stream",
     "text": [
      "---------------------------------------------------------------------------\n",
      "RuntimeWarning\n",
      "invalid value encountered in true_divide\n",
      "in /home/keeganfl/Desktop/measuring_binding_domains/Tools/utilities.py, line 66:\n",
      "\n",
      "64     # get the count density for each region.\n",
      "65     density_cds = np.array(total_cds)/np.array(lengths_cds)\n",
      "66     density_utr5 = np.array(total_utr5)/np.array(lengths_utr5)\n",
      "67     density_utr3 = np.array(total_utr3)/np.array(lengths_utr3)\n",
      "68     density_all = np.array(total_all)/np.array(lengths_all)\n",
      "\n",
      "---------------------------------------------------------------------------\n",
      "---------------------------------------------------------------------------\n",
      "RuntimeWarning\n",
      "invalid value encountered in true_divide\n",
      "in /home/keeganfl/Desktop/measuring_binding_domains/Tools/utilities.py, line 67:\n",
      "\n",
      "65     density_cds = np.array(total_cds)/np.array(lengths_cds)\n",
      "66     density_utr5 = np.array(total_utr5)/np.array(lengths_utr5)\n",
      "67     density_utr3 = np.array(total_utr3)/np.array(lengths_utr3)\n",
      "68     density_all = np.array(total_all)/np.array(lengths_all)\n",
      "69     \n",
      "\n",
      "---------------------------------------------------------------------------\n"
     ]
    }
   ],
   "source": [
    "# Choose the motif to analyze\n",
    "motif = [\"GAC\"]\n",
    "# Create a dataframe with all of the count data I want. \n",
    "GAC_counts = utils.counter(transcripts, genome, sites = motif)"
   ]
  },
  {
   "cell_type": "code",
   "execution_count": 177,
   "id": "28394a52-e983-4bea-9f53-afcdd9db05f8",
   "metadata": {
    "tags": []
   },
   "outputs": [],
   "source": [
    "# Choose the motif to analyze\n",
    "motif = [\"AGGA\", \"UGGA\"]\n",
    "# Create a dataframe with all of the count data I want. \n",
    "WGGA_counts = utils.counter(transcripts, genome, sites = motif)"
   ]
  },
  {
   "cell_type": "code",
   "execution_count": 178,
   "id": "3adfdf85-d14d-47e7-b291-61ad4bd4c79b",
   "metadata": {
    "tags": []
   },
   "outputs": [],
   "source": [
    "# Choose the motif to analyze\n",
    "motif = [\"ACUU\", \"ACUG\"]\n",
    "# Create a dataframe with all of the count data I want. \n",
    "ACUK_counts = utils.counter(transcripts, genome, sites = motif)"
   ]
  },
  {
   "cell_type": "code",
   "execution_count": 179,
   "id": "2d1b3258-6eb8-42a7-859a-f544bb574c09",
   "metadata": {
    "tags": []
   },
   "outputs": [],
   "source": [
    "# Choose the motif to analyze\n",
    "motif = [\"UUUU\"]\n",
    "# Create a dataframe with all of the count data I want. \n",
    "TTTT_counts = utils.counter(transcripts, genome, sites = motif)"
   ]
  },
  {
   "cell_type": "code",
   "execution_count": 180,
   "id": "55d270c6-9b22-4a5d-afcc-573f04d5550d",
   "metadata": {
    "tags": []
   },
   "outputs": [],
   "source": [
    "# Choose the motif to analyze\n",
    "motif = [\"UAU\", \"UAC\"]\n",
    "# Create a dataframe with all of the count data I want. \n",
    "TAY_counts = utils.counter(transcripts, genome, sites = motif)"
   ]
  },
  {
   "cell_type": "code",
   "execution_count": 181,
   "id": "bb7ce839-7128-475c-9190-1a3054fcdb2b",
   "metadata": {
    "tags": []
   },
   "outputs": [],
   "source": [
    "# Choose the motif to analyze\n",
    "motif = [\"CCAU\", \"CCAG\"]\n",
    "# Create a dataframe with all of the count data I want. \n",
    "random_counts = utils.counter(transcripts, genome, sites = motif)"
   ]
  },
  {
   "cell_type": "code",
   "execution_count": 182,
   "id": "d2cd064a-d139-4039-838a-a319410e45f7",
   "metadata": {},
   "outputs": [],
   "source": [
    "count_list = [GAC_counts, WGGA_counts, ACUK_counts, TTTT_counts, TAY_counts, random_counts]\n",
    "motif_list = [\"GAC\", \"WGGA\", \"ACUK\", \"TTTT\", \"TAY\"]"
   ]
  },
  {
   "cell_type": "markdown",
   "id": "b3271c3a-5cfe-4535-92f1-133fe3e8190c",
   "metadata": {},
   "source": [
    "## Step 6:\n",
    "Load up the list of APRIS genes. This list will include the transcript IDs of all of the primary isoforms, and will be used to select a single transcript for all genes."
   ]
  },
  {
   "cell_type": "code",
   "execution_count": 183,
   "id": "10795766-eb09-47b1-921d-383ea424fadf",
   "metadata": {},
   "outputs": [],
   "source": [
    "# Load up the Apris genes. \n",
    "prin_trans = pd.read_csv(data_path + \"apris_fly_data.txt\", names = [\"gene_name\", \"???\", \"gene_id\", \"rank\"])\n",
    "\n",
    "# Remove the extra decimal point from the gene ids so that the gene IDs are the same. \n",
    "gene_ids = [] \n",
    "for i in prin_trans.gene_id:\n",
    "    gene_ids.append(i.split('.',1)[0])\n",
    "prin_trans.gene_id = gene_ids"
   ]
  },
  {
   "cell_type": "code",
   "execution_count": 185,
   "id": "d09ec0c2-e515-4044-abd9-a8220f84e8a8",
   "metadata": {},
   "outputs": [],
   "source": [
    "new_count_list = []\n",
    "for i in count_list:\n",
    "    # Merge the count table with the table of ASD gene names and include an indicator column.\n",
    "    fly_counts = pd.merge(i, prin_trans, how=\"left\", on=\"gene_id\", indicator = True)\n",
    "\n",
    "    # Only keep counts with a transcript ID that matched one of the APRIS primary IDs.\n",
    "    fly_counts = fly_counts.loc[fly_counts._merge == \"both\"].copy()\n",
    "\n",
    "    # Drop any duplicate genes (duplicates may remain if multiple transcripts have identical cds regions).\n",
    "    fly_counts.drop_duplicates(subset =\"gene_name_x\",keep = \"first\", inplace = True) \n",
    "\n",
    "    # Remove unnecesary columns. \n",
    "    fly_counts.drop(columns = [\"gene_name_y\", \"???\", \"rank\", \"_merge\"], inplace = True)\n",
    "    new_count_list.append(fly_counts)"
   ]
  },
  {
   "cell_type": "markdown",
   "id": "3a3754f8-93b4-4fff-8a15-6a7965d95acc",
   "metadata": {},
   "source": [
    "## Step 7:\n",
    "Load up a list the top 200 most significantly changed genes and then select the 100 most significantly downregulated genes. "
   ]
  },
  {
   "cell_type": "code",
   "execution_count": 187,
   "id": "1368c0cc-5a25-492d-b3fd-ccad270205da",
   "metadata": {},
   "outputs": [],
   "source": [
    "top_200 = pd.read_csv(data_path + \"dmel_top_200.csv\")\n",
    "top_100 = top_200.query('Fold_change < 1')[0:100]"
   ]
  },
  {
   "cell_type": "markdown",
   "id": "3e92faf7-5872-4024-b474-3328fb63128d",
   "metadata": {},
   "source": [
    "## Step 8:\n",
    "merge the asd_gene_names and the fly counts together based on the shared gene names"
   ]
  },
  {
   "cell_type": "code",
   "execution_count": 188,
   "id": "c8977e8e-d2de-4f57-8e38-abddaf0c547d",
   "metadata": {},
   "outputs": [],
   "source": [
    "merged_list = []\n",
    "for i in new_count_list:\n",
    "    temp_df = pd.merge(i, top_100, how=\"left\", left_on = \"gene_name_x\", right_on = \"gene_ID\", indicator = True)\n",
    "\n",
    "    temp_df = temp_df.reset_index(drop=True)\n",
    "\n",
    "    # remove extremely long genes as they effect the analysis\n",
    "    temp_df = temp_df.drop(temp_df[temp_df.lengths_all > 35000].index)\n",
    "    merged_list.append(temp_df)"
   ]
  },
  {
   "cell_type": "markdown",
   "id": "6652cb5b-3232-463b-adc9-4c32e9abcce6",
   "metadata": {},
   "source": [
    "## Step 9:\n",
    "split the merged table into downreg_genes and non_downreg_genes tables"
   ]
  },
  {
   "cell_type": "code",
   "execution_count": 190,
   "id": "2afd309b-a659-441c-af54-c4898ee28f01",
   "metadata": {},
   "outputs": [],
   "source": [
    "downreg_list = []\n",
    "non_downreg_list = []\n",
    "short_downreg_list = []\n",
    "short_non_downreg_list = []\n",
    "long_downreg_list = []\n",
    "long_non_downreg_list = []\n",
    "\n",
    "for i in merged_list:\n",
    "    # split it into downreg_genes and non_downreg_genes tables\n",
    "    downreg_genes = i.loc[i._merge == \"both\"].copy()\n",
    "\n",
    "    non_downreg_genes = i.loc[i._merge == \"left_only\"].copy()\n",
    "\n",
    "    # drop the unecessary columns\n",
    "    non_downreg_genes.drop(columns = [\"_merge\"], inplace = True)\n",
    "\n",
    "    # Reset the indices\n",
    "    downreg_genes = downreg_genes.reset_index(drop=True)\n",
    "    non_downreg_genes = non_downreg_genes.reset_index(drop=True)\n",
    "    downreg_list.append(downreg_genes)\n",
    "    non_downreg_list.append(non_downreg_genes)\n",
    "    \n",
    "    short_downreg = downreg_genes.query(\"lengths_cds < 1500\")\n",
    "    short_other = non_downreg_genes.query(\"lengths_cds < 1500\")\n",
    "\n",
    "    long_downreg = downreg_genes.query(\"lengths_cds > 4000\")\n",
    "    long_other = non_downreg_genes.query(\"lengths_cds > 4000 & lengths_all < 60000\")\n",
    "    \n",
    "    short_downreg_list.append(short_downreg)\n",
    "    short_non_downreg_list.append(short_other)\n",
    "    \n",
    "    long_downreg_list.append(long_downreg)\n",
    "    long_non_downreg_list.append(long_other) "
   ]
  },
  {
   "cell_type": "markdown",
   "id": "df8820a9-7409-4fdb-a2e3-16f2e053640d",
   "metadata": {},
   "source": [
    "## Step 10\n",
    "Create a set of violin plots that show the distribution of FMRP binding site density in autism genes and non-autism genes. "
   ]
  },
  {
   "cell_type": "code",
   "execution_count": 191,
   "id": "74ba8dd5-a95d-4240-b657-c5a845a79a7f",
   "metadata": {},
   "outputs": [],
   "source": [
    "# Use the permutation test to determine if the FMRP binding site density is significantly\n",
    "# different for ASD genes.\n",
    "\n",
    "p_short_list = []\n",
    "p_long_list = []\n",
    "for short_downreg, short_other, long_downreg, long_other in zip(short_downreg_list,\n",
    "                                                                short_non_downreg_list,\n",
    "                                                                long_downreg_list,\n",
    "                                                                long_non_downreg_list):\n",
    "\n",
    "    short_test = stats.ttest_ind(short_downreg.density_all, short_other.density_all, equal_var = True,\n",
    "                nan_policy = \"omit\", alternative = \"greater\")\n",
    "\n",
    "    long_test = stats.ttest_ind(long_downreg.density_all, long_other.density_all, equal_var = True,\n",
    "                nan_policy = \"omit\", alternative = \"greater\")\n",
    "    \n",
    "    p_short_list.append(round(short_test[1], 3))\n",
    "    p_long_list.append(round(long_test[1], 3))"
   ]
  },
  {
   "cell_type": "code",
   "execution_count": 194,
   "id": "5069d8a0-8696-4b8e-aebf-512e8bb91c6d",
   "metadata": {},
   "outputs": [
    {
     "data": {
      "text/plain": [
       "[0.282, 0.944, 0.857, 0.728, 0.501, 0.508]"
      ]
     },
     "execution_count": 194,
     "metadata": {},
     "output_type": "execute_result"
    }
   ],
   "source": [
    "p_short_list"
   ]
  },
  {
   "cell_type": "code",
   "execution_count": 192,
   "id": "13cdb1aa-4a40-4ef4-b163-3f7ba11b18b1",
   "metadata": {},
   "outputs": [],
   "source": [
    "short_downreg_density_list = [short_downreg_list[0].density_all,\n",
    "                     short_downreg_list[1].density_all, \n",
    "                     short_downreg_list[2].density_all, \n",
    "                     short_downreg_list[3].density_all,\n",
    "                     short_downreg_list[4].density_all]\n",
    "short_other_density_list = [short_non_downreg_list[0].density_all,\n",
    "                     short_non_downreg_list[1].density_all, \n",
    "                     short_non_downreg_list[2].density_all, \n",
    "                     short_non_downreg_list[3].density_all,\n",
    "                     short_non_downreg_list[4].density_all]"
   ]
  },
  {
   "cell_type": "code",
   "execution_count": 193,
   "id": "66b78519-ee18-4013-abb3-260c94804380",
   "metadata": {},
   "outputs": [
    {
     "data": {
      "text/plain": [
       "Text(0.5, 1.0, 'Short genes')"
      ]
     },
     "execution_count": 193,
     "metadata": {},
     "output_type": "execute_result"
    },
    {
     "data": {
      "image/png": "[encoded data removed]",
      "text/plain": [
       "<Figure size 864x432 with 1 Axes>"
      ]
     },
     "metadata": {
      "needs_background": "light"
     },
     "output_type": "display_data"
    }
   ],
   "source": [
    "ticks = [\"GAC\", \"WGGA\", \"ACUK\", \"TTTT\", \"TAY\"]\n",
    "\n",
    "def set_box_color(bp, color):\n",
    "    plt.setp(bp['boxes'], color=color)\n",
    "    plt.setp(bp['whiskers'], color=color)\n",
    "    plt.setp(bp['caps'], color=color)\n",
    "    plt.setp(bp['medians'], color=color)\n",
    "\n",
    "plt.figure(figsize = (12,6))\n",
    "\n",
    "bpl = plt.boxplot(short_downreg_density_list, positions=np.array(range(len(short_downreg_density_list)))*2.0-0.4, sym='', widths=0.6)\n",
    "bpr = plt.boxplot(short_other_density_list, positions=np.array(range(len(short_other_density_list)))*2.0+0.4, sym='', widths=0.6)\n",
    "set_box_color(bpl, \"blue\") # colors are from http://colorbrewer2.org/\n",
    "set_box_color(bpr, 'red')\n",
    "\n",
    "# draw temporary red and blue lines and use them to create a legend\n",
    "plt.plot([], c=\"blue\", label='Downregulated')\n",
    "plt.plot([], c='red', label='Non-Downregulated')\n",
    "plt.legend()\n",
    "\n",
    "plt.xticks(range(0, len(ticks) * 2, 2), ticks, fontsize = 14)\n",
    "plt.xlim(-2, len(ticks)*2)\n",
    "plt.tight_layout()\n",
    "plt.savefig('boxcompare.png')\n",
    "plt.ylabel(\"Count Density\", fontsize = 16)\n",
    "plt.xlabel(\"Motif\", fontsize = 16)\n",
    "plt.title(\"Short genes\", fontsize = 18)"
   ]
  },
  {
   "cell_type": "code",
   "execution_count": 201,
   "id": "b3fa8a49-4afb-4e4a-b00f-1f40c6634d7e",
   "metadata": {},
   "outputs": [],
   "source": [
    "long_downreg_density_list = [long_downreg_list[0].density_all,\n",
    "                     long_downreg_list[1].density_all, \n",
    "                     long_downreg_list[2].density_all, \n",
    "                     long_downreg_list[3].density_all,\n",
    "                     long_downreg_list[4].density_all]\n",
    "long_other_density_list = [long_non_downreg_list[0].density_all,\n",
    "                     long_non_downreg_list[1].density_all, \n",
    "                     long_non_downreg_list[2].density_all, \n",
    "                     long_non_downreg_list[3].density_all,\n",
    "                     long_non_downreg_list[4].density_all]"
   ]
  },
  {
   "cell_type": "code",
   "execution_count": 202,
   "id": "03febc30-e99e-4476-a1b1-079267f3d8d1",
   "metadata": {},
   "outputs": [
    {
     "data": {
      "text/plain": [
       "Text(0.5, 1.0, 'Long Genes')"
      ]
     },
     "execution_count": 202,
     "metadata": {},
     "output_type": "execute_result"
    },
    {
     "data": {
      "image/png": "[encoded data removed]",
      "text/plain": [
       "<Figure size 864x432 with 1 Axes>"
      ]
     },
     "metadata": {
      "needs_background": "light"
     },
     "output_type": "display_data"
    }
   ],
   "source": [
    "ticks = [\"GAC\", \"WGGA\", \"ACUK\", \"TTTT\", \"TAY\"]\n",
    "\n",
    "def set_box_color(bp, color):\n",
    "    plt.setp(bp['boxes'], color=color)\n",
    "    plt.setp(bp['whiskers'], color=color)\n",
    "    plt.setp(bp['caps'], color=color)\n",
    "    plt.setp(bp['medians'], color=color)\n",
    "\n",
    "plt.figure(figsize = (12,6))\n",
    "\n",
    "bpl = plt.boxplot(long_downreg_density_list, positions=np.array(range(len(long_downreg_density_list)))*2.0-0.4, sym='', widths=0.6)\n",
    "bpr = plt.boxplot(long_other_density_list, positions=np.array(range(len(long_other_density_list)))*2.0+0.4, sym='', widths=0.6)\n",
    "set_box_color(bpl, 'blue') # colors are from http://colorbrewer2.org/\n",
    "set_box_color(bpr, 'red')\n",
    "\n",
    "# draw temporary red and blue lines and use them to create a legend\n",
    "plt.plot([], c='blue', label='Downregulated')\n",
    "plt.plot([], c='red', label='Non-Downregulated')\n",
    "plt.legend()\n",
    "\n",
    "plt.xticks(range(0, len(ticks) * 2, 2), ticks)\n",
    "plt.xlim(-2, len(ticks)*2)\n",
    "plt.tight_layout()\n",
    "plt.savefig('boxcompare.png')\n",
    "plt.ylabel(\"Count Density\")\n",
    "plt.xlabel(\"Motif\")\n",
    "plt.title(\"Long Genes\")"
   ]
  },
  {
   "cell_type": "code",
   "execution_count": 132,
   "id": "2a02749f-3704-4756-aab9-57b2cbe40333",
   "metadata": {},
   "outputs": [],
   "source": [
    "#means = [(short_downreg.density_all).mean(axis=0),\n",
    "#(short_other.density_all).mean(axis=0),\n",
    "#(long_downreg.density_all).mean(axis=0),\n",
    "#(long_other.density_all).mean(axis=0)]\n",
    "#samples = [\"Mouse Downregulated Short\", \"Mouse Non-downregulated Short\", \"Mouse Downregulated Long\", \"Mouse Non-downregulated Long\"]\n",
    "\n",
    "# Get the fraction of non-downregulated genes above the mean count of the downregulated genes. \n",
    "#short_frac = len(short_other.query(\"density_all > \" + str(means[0])).density_all)/len(short_other.density_all)\n",
    "#long_frac = len(long_other.query(\"density_all > \" + str(means[2])).density_all)/len(long_other.density_all)\n",
    "\n",
    "#frac = [np.nan, short_frac, np.nan, long_frac]\n",
    "\n",
    "#df = pd.DataFrame(zip(samples,means,frac), columns = [\"Sample\", \"Mean \" + motif_name + \" Frequency\", \"Fraction of Non-downregulated above mean\"])\n",
    "#df.to_csv(table_path + motif_name + \"_mouse_data\")"
   ]
  },
  {
   "cell_type": "markdown",
   "id": "90a327dd-934c-44f4-8e10-f462fa40f48f",
   "metadata": {
    "tags": []
   },
   "source": [
    "## Step 11\n",
    "Create a set of violin plots that show the distribution of total FMRP binding sites and CDS length for autism and non-autism genes"
   ]
  },
  {
   "cell_type": "code",
   "execution_count": 221,
   "id": "98e6026a-3b67-4259-9ce9-10ef33c3af36",
   "metadata": {},
   "outputs": [],
   "source": [
    "# Use the permutation test to determine if the FMRP binding site density is significantly\n",
    "# different for ASD genes.\n",
    "total_count_p_list = []\n",
    "for downreg, non_downreg in zip(downreg_list, non_downreg_list):\n",
    "\n",
    "    test = stats.ttest_ind(downreg.total_all, non_downreg.total_all, equal_var = True,\n",
    "                nan_policy = \"omit\")\n",
    "\n",
    "    total_count_p_list.append(test[1])"
   ]
  },
  {
   "cell_type": "code",
   "execution_count": 222,
   "id": "e6a1929e-da73-4c0b-9e64-5248ab81e635",
   "metadata": {},
   "outputs": [
    {
     "data": {
      "text/plain": [
       "[4.243014499048481e-132,\n",
       " 3.859080455569281e-120,\n",
       " 1.8718804599521485e-56,\n",
       " 2.1504607550822133e-10,\n",
       " 1.0746100030803156e-37,\n",
       " 1.267195589428343e-168]"
      ]
     },
     "execution_count": 222,
     "metadata": {},
     "output_type": "execute_result"
    }
   ],
   "source": [
    "total_count_p_list"
   ]
  },
  {
   "cell_type": "code",
   "execution_count": 206,
   "id": "734cf0d6-9ed6-401b-bcde-51bfb597eef4",
   "metadata": {},
   "outputs": [],
   "source": [
    "downreg_total_list = [downreg_list[1].total_all, \n",
    "                     downreg_list[2].total_all, \n",
    "                     downreg_list[5].total_all]\n",
    "other_total_list = [non_downreg_list[1].total_all, \n",
    "                     non_downreg_list[2].total_all, \n",
    "                     non_downreg_list[5].total_all]"
   ]
  },
  {
   "cell_type": "code",
   "execution_count": 211,
   "id": "9d30b2c9-fd92-4c2e-8363-f7aedeb73229",
   "metadata": {},
   "outputs": [
    {
     "data": {
      "text/plain": [
       "Text(0.5, 1.0, 'All Gene Lengths')"
      ]
     },
     "execution_count": 211,
     "metadata": {},
     "output_type": "execute_result"
    },
    {
     "data": {
      "image/png": "[encoded data removed]",
      "text/plain": [
       "<Figure size 864x432 with 1 Axes>"
      ]
     },
     "metadata": {
      "needs_background": "light"
     },
     "output_type": "display_data"
    }
   ],
   "source": [
    "ticks = [\"WGGA\", \"ACUK\", \"Random\"]\n",
    "\n",
    "def set_box_color(bp, color):\n",
    "    plt.setp(bp['boxes'], color=color)\n",
    "    plt.setp(bp['whiskers'], color=color)\n",
    "    plt.setp(bp['caps'], color=color)\n",
    "    plt.setp(bp['medians'], color=color)\n",
    "\n",
    "plt.figure(figsize = (12,6))\n",
    "\n",
    "bpl = plt.boxplot(downreg_total_list, positions=np.array(range(len(downreg_total_list)))*2.0-0.4, sym='', widths=0.6)\n",
    "bpr = plt.boxplot(other_total_list, positions=np.array(range(len(other_total_list)))*2.0+0.4, sym='', widths=0.6)\n",
    "set_box_color(bpl, \"purple\") # colors are from http://colorbrewer2.org/\n",
    "set_box_color(bpr, 'green')\n",
    "\n",
    "# draw temporary red and blue lines and use them to create a legend\n",
    "plt.plot([], c=\"purple\", label='Downregulated')\n",
    "plt.plot([], c='green', label='Non-Downregulated')\n",
    "plt.legend()\n",
    "\n",
    "plt.xticks(range(0, len(ticks) * 2, 2), ticks, fontsize = 14)\n",
    "plt.xlim(-2, len(ticks)*2)\n",
    "plt.tight_layout()\n",
    "plt.savefig('boxcompare.png')\n",
    "plt.ylabel(\"Total Count\", fontsize = 16)\n",
    "plt.xlabel(\"Motif\", fontsize = 16)\n",
    "plt.title(\"All Gene Lengths\", fontsize = 18)"
   ]
  },
  {
   "cell_type": "markdown",
   "id": "1d4a8cbf-3e76-425b-b96a-b4eaf319dac3",
   "metadata": {},
   "source": [
    "# Conclusions:\n",
    "from the data I am currently able to observe, I can conclude that although the total number of binding sites is higher in ASD gene populations, this is basically entirely dependent on the fact that the ASD genes are generally longer. When looking at binding site frequency/density, there is no biologically significant change even if there is a slight statistical significance.  "
   ]
  },
  {
   "cell_type": "code",
   "execution_count": null,
   "id": "fcb635bb-0347-4a85-871b-f96f22a72e36",
   "metadata": {},
   "outputs": [],
   "source": []
  }
 ],
 "metadata": {
  "kernelspec": {
   "display_name": "Python 3 (ipykernel)",
   "language": "python",
   "name": "python3"
  },
  "language_info": {
   "codemirror_mode": {
    "name": "ipython",
    "version": 3
   },
   "file_extension": ".py",
   "mimetype": "text/x-python",
   "name": "python",
   "nbconvert_exporter": "python",
   "pygments_lexer": "ipython3",
   "version": "3.8.12"
  }
 },
 "nbformat": 4,
 "nbformat_minor": 5
}
