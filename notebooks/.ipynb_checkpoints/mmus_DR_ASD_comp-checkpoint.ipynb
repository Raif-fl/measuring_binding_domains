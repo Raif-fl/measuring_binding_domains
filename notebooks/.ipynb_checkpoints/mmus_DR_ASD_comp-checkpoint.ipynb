{
 "cells": [
  {
   "cell_type": "markdown",
   "id": "1cd222d4-dc9a-4b3d-bc8f-47554483b3b5",
   "metadata": {},
   "source": [
    "## I have got to clean up the gene names used in here. "
   ]
  },
  {
   "cell_type": "markdown",
   "id": "baf1a8b0-cac7-4961-a879-591b20d9b3c0",
   "metadata": {},
   "source": [
    "## Step 1:\n",
    "Let the program know where to find your tools file."
   ]
  },
  {
   "cell_type": "code",
   "execution_count": 21,
   "id": "f81eafa3-0e6c-4ed6-b0e1-f0b702a3a622",
   "metadata": {},
   "outputs": [],
   "source": [
    "import sys, os\n",
    "sys.path.append(os.path.join(os.path.realpath(\"..\"), \"Tools\"))"
   ]
  },
  {
   "cell_type": "markdown",
   "id": "39a9dfbc-f857-44bb-b78a-1e6e90a785b8",
   "metadata": {},
   "source": [
    "## Step 2:\n",
    "Load up all of the necessary packages"
   ]
  },
  {
   "cell_type": "code",
   "execution_count": 22,
   "id": "1f2fa5d5-89fd-4b2b-859f-c6d7f26148e3",
   "metadata": {},
   "outputs": [],
   "source": [
    "from plastid import BAMGenomeArray,GTF2_TranscriptAssembler,Transcript\n",
    "import numpy as np\n",
    "import random\n",
    "import pandas as pd\n",
    "from plastid.plotting.plots import *\n",
    "import utilities as utils\n",
    "from scipy import stats\n",
    "import matplotlib.pyplot as plt\n",
    "from matplotlib.pyplot import figure\n",
    "from Bio import SeqIO\n",
    "from Bio.Alphabet import generic_dna\n",
    "from Bio.Seq import Seq\n",
    "import math\n",
    "\n",
    "%matplotlib inline"
   ]
  },
  {
   "cell_type": "markdown",
   "id": "d61428b8-05ef-4f2b-9713-b1d80b0589b3",
   "metadata": {},
   "source": [
    "## Step 3:\n",
    "Define the paths to our reference genome and annotation files as well as the path to our data for the Autism Spectrum Disorder (ASD) genes identified by Sfari, the top 200 genes whose regulation is altered by FMRP as determined by RiboDiff, The list of genes and their associated TPM values (used to select for genes with sufficient TPM), and the list of primary transcript isoforms provided by APRIS."
   ]
  },
  {
   "cell_type": "code",
   "execution_count": 23,
   "id": "a2d6b04d-3d04-47b2-b2dc-dd01ca2a80b5",
   "metadata": {},
   "outputs": [],
   "source": [
    "reference_path = \"/home/keeganfl/Desktop/Work_Fall_2021/Protocol_test/genome/mouse/\"\n",
    "data_path = \"/home/keeganfl/Desktop/measuring_binding_domains/data/\""
   ]
  },
  {
   "cell_type": "markdown",
   "id": "b40fc270-0de1-416b-8fe0-8e6fd7a721e1",
   "metadata": {},
   "source": [
    "## Step 4: \n",
    "Load the transcript file so that we can find the sequence of each gene"
   ]
  },
  {
   "cell_type": "code",
   "execution_count": 24,
   "id": "f35accf9-0fb5-41c0-a3ed-e7191dcaf587",
   "metadata": {},
   "outputs": [],
   "source": [
    "# Loading up the transcrip[t information.\n",
    "transcripts = list(GTF2_TranscriptAssembler(open(reference_path + \"mm10.refGene.gtf\"),return_type=Transcript))"
   ]
  },
  {
   "cell_type": "markdown",
   "id": "d93c65ba-c0f3-4012-a849-99c536bf09ad",
   "metadata": {},
   "source": [
    "## Step 5:\n",
    "Create a table that lists all genes and their associated lengths. "
   ]
  },
  {
   "cell_type": "code",
   "execution_count": 25,
   "id": "d1a08b18-562f-4af4-8f3a-94de35fcffbe",
   "metadata": {},
   "outputs": [],
   "source": [
    "lengths_cds = []\n",
    "gene_name = []\n",
    "gene_id = []\n",
    "for tran in transcripts:\n",
    "    try:\n",
    "        tran.attr[\"gene_name\"]\n",
    "    except:\n",
    "        continue\n",
    "    try:\n",
    "        lengths_cds.append(tran.cds_end - tran.cds_start)\n",
    "    except:\n",
    "        continue\n",
    "    gene_name.append(tran.attr[\"gene_name\"])\n",
    "    gene_id.append(tran.attr[\"transcript_id\"])\n",
    "all_genes = pd.DataFrame(list(zip(gene_name, gene_id, lengths_cds)))\n",
    "all_genes.columns = [\"gene_name\", \"gene_id\", \"lengths_cds\"]"
   ]
  },
  {
   "cell_type": "markdown",
   "id": "7af73c69-86e8-4dff-870d-442222cbce73",
   "metadata": {},
   "source": [
    "## Step 6:\n",
    "Load up the list of APRIS genes. This list will include the transcript IDs of all of the primary isoforms, and will be used to select a single transcript for all genes."
   ]
  },
  {
   "cell_type": "code",
   "execution_count": 26,
   "id": "7d28d669-76f1-4181-8c63-5419026c2ff1",
   "metadata": {},
   "outputs": [],
   "source": [
    "# Load up the Apris genes. \n",
    "prin_trans = pd.read_csv(data_path + \"apris_mouse_data.txt\", names = [\"gene_name\", \"???\", \"gene_id\", \"rank\"])\n",
    "\n",
    "# Remove the extra decimal point from the gene ids so that the gene IDs are the same. \n",
    "gene_ids = [] \n",
    "for i in prin_trans.gene_id:\n",
    "    gene_ids.append(i.split('.',1)[0])\n",
    "prin_trans.gene_id = gene_ids"
   ]
  },
  {
   "cell_type": "markdown",
   "id": "3a6d8284-2377-47d2-acb8-4cd1e7d835ee",
   "metadata": {},
   "source": [
    "## Step 7:\n",
    "Merge the list of APRIS genes with the list of all gene lengths in order to remove the non-primary isoforms. "
   ]
  },
  {
   "cell_type": "code",
   "execution_count": 27,
   "id": "79105b34-a7b2-425a-9239-65df7d42d875",
   "metadata": {},
   "outputs": [],
   "source": [
    "# Merge the count table with the table of APRIS genes\n",
    "prime_genes = pd.merge(all_genes, prin_trans, how=\"left\", on=\"gene_id\", indicator = True)\n",
    "\n",
    "# Only keep counts with a transcript ID that matched one of the APRIS primary IDs.\n",
    "prime_genes = prime_genes.loc[prime_genes._merge == \"both\"].copy()\n",
    "\n",
    "# Drop any duplicate genes (duplicates may remain if multiple transcripts have identical cds regions).\n",
    "prime_genes.drop_duplicates(subset =\"gene_name_x\",keep = \"first\", inplace = True) \n",
    "\n",
    "# Remove unnecesary columns. \n",
    "prime_genes.drop(columns = [\"gene_name_y\", \"???\", \"rank\", \"_merge\"], inplace = True)"
   ]
  },
  {
   "cell_type": "markdown",
   "id": "a616d1ba-c086-4442-87e6-ae5a8a22f5f6",
   "metadata": {},
   "source": [
    "## Step 8:\n",
    "Load up a list containing all of the autism spectrum genes and a seperate list containing top 200 genes with significantly altered gene expression. "
   ]
  },
  {
   "cell_type": "code",
   "execution_count": 28,
   "id": "942fe9d8-d91b-4cf6-a83a-34d448a9ccf4",
   "metadata": {},
   "outputs": [],
   "source": [
    "asd_gene_names = pd.read_csv(data_path + \"asd_genes_mouse.csv\", names = [\"gene_name\", \"gene_score\", \"syndromatic\"])\n",
    "top_200 = pd.read_csv(data_path+ \"mmus_top_200.csv\")\n",
    "\n",
    "# convert gene score to numeric. \n",
    "asd_gene_names.gene_score = pd.to_numeric(asd_gene_names.gene_score)\n",
    "\n",
    "# Filter the ASD genes to only look at class 1 and class 2 genes. \n",
    "asd_gene_names = asd_gene_names.query(\"gene_score <= 2 | syndromatic == '1'\")"
   ]
  },
  {
   "cell_type": "markdown",
   "id": "13af4abc-1d55-4757-b986-50b10fb5bdf0",
   "metadata": {},
   "source": [
    "## Step 9:\n",
    "Extract the long genes from our list of genes and then filter out all of the autism genes from this list. "
   ]
  },
  {
   "cell_type": "code",
   "execution_count": 30,
   "id": "0f3612db-b56a-419a-9e31-bc755104fdcc",
   "metadata": {},
   "outputs": [],
   "source": [
    "# Define long genes as genes with a cds region above 2000 base pairs. \n",
    "long_genes = prime_genes.query(\"lengths_cds > 3000\")\n",
    "\n",
    "# Merge the long genes with the asd_gene_names \n",
    "temp_df = pd.merge(long_genes, asd_gene_names, how=\"left\", right_on=\"gene_name\",\n",
    "                   left_on=\"gene_name_x\", indicator = True)\n",
    "# reset the indices.\n",
    "temp_df = temp_df.reset_index(drop=True)\n",
    "\n",
    "# Remove genes that match to the asd_gene_names dataframe. \n",
    "long_non_asd_genes = temp_df.loc[temp_df._merge == \"left_only\"].copy()\n",
    "\n",
    "# drop uneccessary columns\n",
    "long_non_asd_genes = long_non_asd_genes.drop(['gene_name', 'gene_score',\n",
    "       'syndromatic', '_merge'],axis=1)"
   ]
  },
  {
   "cell_type": "markdown",
   "id": "cf15847a-711e-409a-b37e-7b6217638f45",
   "metadata": {},
   "source": [
    "## Step 10:\n",
    "merge the long genes list with a list of TPM genes and the select only those genes that have a TPM above 1. This is done to ensure that rarely expressed genes do not interfere with our analysis."
   ]
  },
  {
   "cell_type": "code",
   "execution_count": 32,
   "id": "314c49f7-ddd6-4529-a30e-47c7a55cf6e2",
   "metadata": {},
   "outputs": [],
   "source": [
    "tpm_table = pd.read_csv(data_path + \"mmus_tpm_control.csv\")"
   ]
  },
  {
   "cell_type": "code",
   "execution_count": 33,
   "id": "1bce637a-9c19-4a76-a008-1c253d16a59f",
   "metadata": {},
   "outputs": [],
   "source": [
    "# Merge the tables\n",
    "temp_df = pd.merge(long_non_asd_genes, tpm_table, how = \"inner\", left_on=\"gene_name_x\", right_on=\"gene_name\")\n",
    "\n",
    "# Drop the many uneccessary columns \n",
    "temp_df = temp_df.drop(['gene_name','gene_id', 'tpm_rbctr1', 'tpm_rbctr2',\n",
    "       'tpm_rbctr3', 'tpm_rnactr1', 'tpm_rnactr2', 'tpm_rnactr3',\n",
    "       'tpm_rnactr4'], axis = 1)\n",
    "\n",
    "# Filter by the average TPM\n",
    "LSEnA_genes = temp_df.query(\"avg_rpf > 1 & avg_rna > 1\")"
   ]
  },
  {
   "cell_type": "markdown",
   "id": "c0a1ff42-8fd2-420c-8025-8739b5a2db96",
   "metadata": {},
   "source": [
    "## Step 11: \n",
    "Randomly select from our long, sfficiently expressed, non-ASD genes. The number of genes selected should be equal to the number of asd genes that we are using. "
   ]
  },
  {
   "cell_type": "code",
   "execution_count": 34,
   "id": "5de5819a-a666-4bc3-a33e-225cf8c4f9af",
   "metadata": {},
   "outputs": [],
   "source": [
    "random.seed(35)\n",
    "rn_genes = pd.DataFrame(random.sample(list(LSEnA_genes.gene_name_x),len(asd_gene_names.gene_name)))"
   ]
  },
  {
   "cell_type": "code",
   "execution_count": 35,
   "id": "7c4a7c71-9d04-4a19-a55c-48f0cc90a6a6",
   "metadata": {},
   "outputs": [],
   "source": [
    "rn_genes.columns = [\"gene_ID\"]"
   ]
  },
  {
   "cell_type": "markdown",
   "id": "0bce34df-a80f-4ef7-8320-8400eccf8e16",
   "metadata": {},
   "source": [
    "## Step 12:\n",
    "Merge the table of random long genes and ASD genes with the top 200 FMRP regulated genes using merge. This will allow us to see how many matches there are between the different tables. "
   ]
  },
  {
   "cell_type": "code",
   "execution_count": 36,
   "id": "4d95244a-a75c-4589-9dd5-5f37264cd90d",
   "metadata": {},
   "outputs": [],
   "source": [
    "# Merge the tables of random long genes and ASD genes with the top 200 translationally altered genes. \n",
    "top_200_rn = pd.merge(rn_genes, top_200, how=\"inner\", on = \"gene_ID\")\n",
    "top_200_asd = pd.merge(asd_gene_names, top_200, how = \"inner\", right_on = \"gene_ID\", left_on = \"gene_name\")\n",
    "\n",
    "# Drop any duplicates that may have come into \n",
    "top_200_rn.drop_duplicates(inplace = True)\n",
    "top_200_asd.drop_duplicates(inplace = True)"
   ]
  },
  {
   "cell_type": "markdown",
   "id": "eab1e2db-f23d-4eb0-bb43-33522e110698",
   "metadata": {},
   "source": [
    "## Step 13:\n",
    "Perform Fisher's exact test to determine if the probability of a translationally altered FMRP gene being an ASD gene is significantly different from it being a long gene. "
   ]
  },
  {
   "cell_type": "code",
   "execution_count": 37,
   "id": "0e0110a0-95af-4ba6-b40c-8554069d4394",
   "metadata": {},
   "outputs": [],
   "source": [
    "table = [[len(top_200_asd.gene_name), len(top_200.gene_ID)],[len(top_200_rn.gene_ID), len(top_200.gene_ID)]]"
   ]
  },
  {
   "cell_type": "code",
   "execution_count": 38,
   "id": "277e0452-2369-4b2c-b63c-0ff4b70b9cd0",
   "metadata": {},
   "outputs": [
    {
     "data": {
      "text/plain": [
       "(2.142857142857143, 0.12514819837870497)"
      ]
     },
     "execution_count": 38,
     "metadata": {},
     "output_type": "execute_result"
    }
   ],
   "source": [
    "stats.fisher_exact(table)"
   ]
  },
  {
   "cell_type": "code",
   "execution_count": null,
   "id": "d0f7836b-0ee3-4e68-8551-40a3323f9fe9",
   "metadata": {},
   "outputs": [],
   "source": []
  }
 ],
 "metadata": {
  "kernelspec": {
   "display_name": "Python 3 (ipykernel)",
   "language": "python",
   "name": "python3"
  },
  "language_info": {
   "codemirror_mode": {
    "name": "ipython",
    "version": 3
   },
   "file_extension": ".py",
   "mimetype": "text/x-python",
   "name": "python",
   "nbconvert_exporter": "python",
   "pygments_lexer": "ipython3",
   "version": "3.8.12"
  }
 },
 "nbformat": 4,
 "nbformat_minor": 5
}
