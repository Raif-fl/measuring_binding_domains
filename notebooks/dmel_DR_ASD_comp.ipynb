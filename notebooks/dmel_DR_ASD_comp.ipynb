{
 "cells": [
  {
   "cell_type": "markdown",
   "id": "baf1a8b0-cac7-4961-a879-591b20d9b3c0",
   "metadata": {},
   "source": [
    "## Step 1:\n",
    "Let the program know where to find your tools file."
   ]
  },
  {
   "cell_type": "code",
   "execution_count": 15,
   "id": "f81eafa3-0e6c-4ed6-b0e1-f0b702a3a622",
   "metadata": {},
   "outputs": [],
   "source": [
    "import sys, os\n",
    "sys.path.append(os.path.join(os.path.realpath(\"..\"), \"Tools\"))"
   ]
  },
  {
   "cell_type": "markdown",
   "id": "39a9dfbc-f857-44bb-b78a-1e6e90a785b8",
   "metadata": {},
   "source": [
    "## Step 2:\n",
    "Load up all of the necessary packages"
   ]
  },
  {
   "cell_type": "code",
   "execution_count": 16,
   "id": "1f2fa5d5-89fd-4b2b-859f-c6d7f26148e3",
   "metadata": {},
   "outputs": [],
   "source": [
    "from plastid import BAMGenomeArray,GTF2_TranscriptAssembler,Transcript\n",
    "import numpy as np\n",
    "import random\n",
    "import pandas as pd\n",
    "from plastid.plotting.plots import *\n",
    "import utilities as utils\n",
    "from scipy import stats\n",
    "import matplotlib.pyplot as plt\n",
    "from matplotlib.pyplot import figure\n",
    "from Bio import SeqIO\n",
    "from Bio.Alphabet import generic_dna\n",
    "from Bio.Seq import Seq\n",
    "import math\n",
    "\n",
    "%matplotlib inline"
   ]
  },
  {
   "cell_type": "markdown",
   "id": "ce27a563-283c-4ce5-9503-f8eef0faff16",
   "metadata": {},
   "source": [
    "## Step 3:\n",
    "Define the paths to our reference genome and annotation files as well as the path to our data for the Autism Spectrum Disorder (ASD) genes identified by Sfari, the top 200 genes whose regulation is altered by FMRP as determined by RiboDiff, The list of genes and their associated TPM values (used to select for genes with sufficient TPM), and the list of primary transcript isoforms provided by APRIS."
   ]
  },
  {
   "cell_type": "code",
   "execution_count": 17,
   "id": "a2d6b04d-3d04-47b2-b2dc-dd01ca2a80b5",
   "metadata": {},
   "outputs": [],
   "source": [
    "reference_path = \"/home/keeganfl/Desktop/Work_Fall_2021/Protocol_test/genome/dmel/\"\n",
    "data_path = \"/home/keeganfl/Desktop/measuring_binding_domains/data/\""
   ]
  },
  {
   "cell_type": "markdown",
   "id": "b40fc270-0de1-416b-8fe0-8e6fd7a721e1",
   "metadata": {},
   "source": [
    "## Step 4: \n",
    "load the transcript files so that we can find the sequence of each gene"
   ]
  },
  {
   "cell_type": "code",
   "execution_count": 18,
   "id": "f35accf9-0fb5-41c0-a3ed-e7191dcaf587",
   "metadata": {
    "collapsed": true,
    "jupyter": {
     "outputs_hidden": true
    },
    "tags": []
   },
   "outputs": [
    {
     "ename": "KeyboardInterrupt",
     "evalue": "",
     "output_type": "error",
     "traceback": [
      "\u001b[0;31m---------------------------------------------------------------------------\u001b[0m",
      "\u001b[0;31mKeyboardInterrupt\u001b[0m                         Traceback (most recent call last)",
      "\u001b[0;32m/tmp/ipykernel_685315/2034092030.py\u001b[0m in \u001b[0;36m<module>\u001b[0;34m\u001b[0m\n\u001b[1;32m      1\u001b[0m \u001b[0;31m# Loading up the transcrip[t information.\u001b[0m\u001b[0;34m\u001b[0m\u001b[0;34m\u001b[0m\u001b[0;34m\u001b[0m\u001b[0m\n\u001b[0;32m----> 2\u001b[0;31m \u001b[0mtranscripts\u001b[0m \u001b[0;34m=\u001b[0m \u001b[0mlist\u001b[0m\u001b[0;34m(\u001b[0m\u001b[0mGTF2_TranscriptAssembler\u001b[0m\u001b[0;34m(\u001b[0m\u001b[0mopen\u001b[0m\u001b[0;34m(\u001b[0m\u001b[0mreference_path\u001b[0m \u001b[0;34m+\u001b[0m \u001b[0;34m\"Drosophila_melanogaster.BDGP6.32.103.gtf\"\u001b[0m\u001b[0;34m)\u001b[0m\u001b[0;34m,\u001b[0m\u001b[0mreturn_type\u001b[0m\u001b[0;34m=\u001b[0m\u001b[0mTranscript\u001b[0m\u001b[0;34m)\u001b[0m\u001b[0;34m)\u001b[0m\u001b[0;34m\u001b[0m\u001b[0;34m\u001b[0m\u001b[0m\n\u001b[0m",
      "\u001b[0;32m~/miniconda3/envs/plastid/lib/python3.8/site-packages/plastid/readers/gff.py\u001b[0m in \u001b[0;36m__iter__\u001b[0;34m(self)\u001b[0m\n\u001b[1;32m    996\u001b[0m             \u001b[0mNext\u001b[0m \u001b[0mcomplex\u001b[0m \u001b[0mfeature\u001b[0m \u001b[0;32min\u001b[0m \u001b[0mannotation\u001b[0m \u001b[0;34m(\u001b[0m\u001b[0musually\u001b[0m \u001b[0ma\u001b[0m \u001b[0mtranscript\u001b[0m\u001b[0;34m)\u001b[0m\u001b[0;34m\u001b[0m\u001b[0;34m\u001b[0m\u001b[0m\n\u001b[1;32m    997\u001b[0m         \"\"\"\n\u001b[0;32m--> 998\u001b[0;31m         \u001b[0;32mfor\u001b[0m \u001b[0mmy_batch\u001b[0m \u001b[0;32min\u001b[0m \u001b[0mself\u001b[0m\u001b[0;34m.\u001b[0m\u001b[0m_get_transcript_batches\u001b[0m\u001b[0;34m(\u001b[0m\u001b[0;34m)\u001b[0m\u001b[0;34m:\u001b[0m\u001b[0;34m\u001b[0m\u001b[0;34m\u001b[0m\u001b[0m\n\u001b[0m\u001b[1;32m    999\u001b[0m             \u001b[0;32mfor\u001b[0m \u001b[0mmy_tx\u001b[0m \u001b[0;32min\u001b[0m \u001b[0mmy_batch\u001b[0m\u001b[0;34m:\u001b[0m\u001b[0;34m\u001b[0m\u001b[0;34m\u001b[0m\u001b[0m\n\u001b[1;32m   1000\u001b[0m                 \u001b[0;32myield\u001b[0m \u001b[0mself\u001b[0m\u001b[0;34m.\u001b[0m\u001b[0m_finalize\u001b[0m\u001b[0;34m(\u001b[0m\u001b[0mmy_tx\u001b[0m\u001b[0;34m)\u001b[0m\u001b[0;34m\u001b[0m\u001b[0;34m\u001b[0m\u001b[0m\n",
      "\u001b[0;32m~/miniconda3/envs/plastid/lib/python3.8/site-packages/plastid/readers/gff.py\u001b[0m in \u001b[0;36m_get_transcript_batches\u001b[0;34m(self)\u001b[0m\n\u001b[1;32m    949\u001b[0m             \u001b[0mSorted\u001b[0m \u001b[0mlist\u001b[0m \u001b[0mof\u001b[0m \u001b[0mtranscripts\u001b[0m \u001b[0;32min\u001b[0m \u001b[0mcurrent\u001b[0m \u001b[0mGFF\u001b[0m \u001b[0mblock\u001b[0m\u001b[0;34m\u001b[0m\u001b[0;34m\u001b[0m\u001b[0m\n\u001b[1;32m    950\u001b[0m         \"\"\"\n\u001b[0;32m--> 951\u001b[0;31m         \u001b[0;32mfor\u001b[0m \u001b[0mfeature\u001b[0m \u001b[0;32min\u001b[0m \u001b[0mself\u001b[0m\u001b[0;34m.\u001b[0m\u001b[0mstream\u001b[0m\u001b[0;34m:\u001b[0m\u001b[0;34m\u001b[0m\u001b[0;34m\u001b[0m\u001b[0m\n\u001b[0m\u001b[1;32m    952\u001b[0m             \u001b[0mself\u001b[0m\u001b[0;34m.\u001b[0m\u001b[0mcounter\u001b[0m \u001b[0;34m+=\u001b[0m \u001b[0;36m1\u001b[0m\u001b[0;34m\u001b[0m\u001b[0;34m\u001b[0m\u001b[0m\n\u001b[1;32m    953\u001b[0m \u001b[0;34m\u001b[0m\u001b[0m\n",
      "\u001b[0;32m~/miniconda3/envs/plastid/lib/python3.8/site-packages/plastid/util/io/filters.py\u001b[0m in \u001b[0;36m__next__\u001b[0;34m(self)\u001b[0m\n\u001b[1;32m    131\u001b[0m \u001b[0;34m\u001b[0m\u001b[0m\n\u001b[1;32m    132\u001b[0m     \u001b[0;32mdef\u001b[0m \u001b[0m__next__\u001b[0m\u001b[0;34m(\u001b[0m\u001b[0mself\u001b[0m\u001b[0;34m)\u001b[0m\u001b[0;34m:\u001b[0m\u001b[0;34m\u001b[0m\u001b[0;34m\u001b[0m\u001b[0m\n\u001b[0;32m--> 133\u001b[0;31m         \u001b[0;32mreturn\u001b[0m \u001b[0mself\u001b[0m\u001b[0;34m.\u001b[0m\u001b[0mfilter\u001b[0m\u001b[0;34m(\u001b[0m\u001b[0mnext\u001b[0m\u001b[0;34m(\u001b[0m\u001b[0mself\u001b[0m\u001b[0;34m.\u001b[0m\u001b[0mstream\u001b[0m\u001b[0;34m)\u001b[0m\u001b[0;34m)\u001b[0m\u001b[0;34m\u001b[0m\u001b[0;34m\u001b[0m\u001b[0m\n\u001b[0m\u001b[1;32m    134\u001b[0m \u001b[0;34m\u001b[0m\u001b[0m\n\u001b[1;32m    135\u001b[0m     \u001b[0;32mdef\u001b[0m \u001b[0m__iter__\u001b[0m\u001b[0;34m(\u001b[0m\u001b[0mself\u001b[0m\u001b[0;34m)\u001b[0m\u001b[0;34m:\u001b[0m\u001b[0;34m\u001b[0m\u001b[0;34m\u001b[0m\u001b[0m\n",
      "\u001b[0;32m~/miniconda3/envs/plastid/lib/python3.8/site-packages/plastid/readers/gff.py\u001b[0m in \u001b[0;36mfilter\u001b[0;34m(self, line)\u001b[0m\n\u001b[1;32m    558\u001b[0m \u001b[0;34m\u001b[0m\u001b[0m\n\u001b[1;32m    559\u001b[0m         \u001b[0;32melse\u001b[0m\u001b[0;34m:\u001b[0m\u001b[0;34m\u001b[0m\u001b[0;34m\u001b[0m\u001b[0m\n\u001b[0;32m--> 560\u001b[0;31m             \u001b[0;32mreturn\u001b[0m \u001b[0mself\u001b[0m\u001b[0;34m.\u001b[0m\u001b[0m_parse_genomic_feature\u001b[0m\u001b[0;34m(\u001b[0m\u001b[0mline\u001b[0m\u001b[0;34m)\u001b[0m\u001b[0;34m\u001b[0m\u001b[0;34m\u001b[0m\u001b[0m\n\u001b[0m\u001b[1;32m    561\u001b[0m \u001b[0;34m\u001b[0m\u001b[0m\n\u001b[1;32m    562\u001b[0m \u001b[0;34m\u001b[0m\u001b[0m\n",
      "\u001b[0;32m~/miniconda3/envs/plastid/lib/python3.8/site-packages/plastid/readers/gff.py\u001b[0m in \u001b[0;36m_parse_genomic_feature\u001b[0;34m(self, line)\u001b[0m\n\u001b[1;32m    506\u001b[0m         \u001b[0mattr_string\u001b[0m  \u001b[0;34m=\u001b[0m \u001b[0mitems\u001b[0m\u001b[0;34m[\u001b[0m\u001b[0;36m8\u001b[0m\u001b[0;34m]\u001b[0m\u001b[0;34m\u001b[0m\u001b[0;34m\u001b[0m\u001b[0m\n\u001b[1;32m    507\u001b[0m \u001b[0;34m\u001b[0m\u001b[0m\n\u001b[0;32m--> 508\u001b[0;31m         \u001b[0minfo_dict\u001b[0m \u001b[0;34m=\u001b[0m \u001b[0mself\u001b[0m\u001b[0;34m.\u001b[0m\u001b[0m_parse_tokens\u001b[0m\u001b[0;34m(\u001b[0m\u001b[0mattr_string\u001b[0m\u001b[0;34m)\u001b[0m\u001b[0;34m\u001b[0m\u001b[0;34m\u001b[0m\u001b[0m\n\u001b[0m\u001b[1;32m    509\u001b[0m         \u001b[0minfo_dict\u001b[0m\u001b[0;34m[\u001b[0m\u001b[0;34m\"source\"\u001b[0m\u001b[0;34m]\u001b[0m \u001b[0;34m=\u001b[0m \u001b[0msource\u001b[0m\u001b[0;34m\u001b[0m\u001b[0;34m\u001b[0m\u001b[0m\n\u001b[1;32m    510\u001b[0m         \u001b[0minfo_dict\u001b[0m\u001b[0;34m[\u001b[0m\u001b[0;34m\"score\"\u001b[0m\u001b[0;34m]\u001b[0m  \u001b[0;34m=\u001b[0m \u001b[0mscore\u001b[0m\u001b[0;34m\u001b[0m\u001b[0;34m\u001b[0m\u001b[0m\n",
      "\u001b[0;32m~/miniconda3/envs/plastid/lib/python3.8/site-packages/plastid/readers/gff.py\u001b[0m in \u001b[0;36m_parse_tokens\u001b[0;34m(self, inp)\u001b[0m\n\u001b[1;32m    797\u001b[0m             \u001b[0mDictionary\u001b[0m \u001b[0mof\u001b[0m \u001b[0mparsed\u001b[0m \u001b[0mtokens\u001b[0m \u001b[0;32mfrom\u001b[0m \u001b[0mninth\u001b[0m\u001b[0;31m \u001b[0m\u001b[0;31m`\u001b[0m\u001b[0mGTF2\u001b[0m\u001b[0;31m`\u001b[0m\u001b[0m_\u001b[0m \u001b[0mcolumn\u001b[0m\u001b[0;34m\u001b[0m\u001b[0;34m\u001b[0m\u001b[0m\n\u001b[1;32m    798\u001b[0m         \"\"\"\n\u001b[0;32m--> 799\u001b[0;31m         \u001b[0;32mreturn\u001b[0m \u001b[0mparse_GTF2_tokens\u001b[0m\u001b[0;34m(\u001b[0m\u001b[0minp\u001b[0m\u001b[0;34m)\u001b[0m\u001b[0;34m\u001b[0m\u001b[0;34m\u001b[0m\u001b[0m\n\u001b[0m\u001b[1;32m    800\u001b[0m \u001b[0;34m\u001b[0m\u001b[0m\n\u001b[1;32m    801\u001b[0m \u001b[0;34m\u001b[0m\u001b[0m\n",
      "\u001b[0;32m~/miniconda3/envs/plastid/lib/python3.8/site-packages/plastid/readers/gff_tokens.py\u001b[0m in \u001b[0;36mparse_GTF2_tokens\u001b[0;34m(inp)\u001b[0m\n\u001b[1;32m    577\u001b[0m     \"\"\"\n\u001b[1;32m    578\u001b[0m     \u001b[0md\u001b[0m \u001b[0;34m=\u001b[0m \u001b[0;34m{\u001b[0m\u001b[0;34m}\u001b[0m\u001b[0;34m\u001b[0m\u001b[0;34m\u001b[0m\u001b[0m\n\u001b[0;32m--> 579\u001b[0;31m     \u001b[0mitems\u001b[0m \u001b[0;34m=\u001b[0m \u001b[0mshlex\u001b[0m\u001b[0;34m.\u001b[0m\u001b[0msplit\u001b[0m\u001b[0;34m(\u001b[0m\u001b[0minp\u001b[0m\u001b[0;34m.\u001b[0m\u001b[0mstrip\u001b[0m\u001b[0;34m(\u001b[0m\u001b[0;34m\"\\n\"\u001b[0m\u001b[0;34m)\u001b[0m\u001b[0;34m)\u001b[0m\u001b[0;34m\u001b[0m\u001b[0;34m\u001b[0m\u001b[0m\n\u001b[0m\u001b[1;32m    580\u001b[0m     \u001b[0;32massert\u001b[0m \u001b[0mlen\u001b[0m\u001b[0;34m(\u001b[0m\u001b[0mitems\u001b[0m\u001b[0;34m)\u001b[0m \u001b[0;34m%\u001b[0m \u001b[0;36m2\u001b[0m \u001b[0;34m==\u001b[0m \u001b[0;36m0\u001b[0m\u001b[0;34m\u001b[0m\u001b[0;34m\u001b[0m\u001b[0m\n\u001b[1;32m    581\u001b[0m     \u001b[0;32mfor\u001b[0m \u001b[0mi\u001b[0m \u001b[0;32min\u001b[0m \u001b[0mrange\u001b[0m\u001b[0;34m(\u001b[0m\u001b[0;36m0\u001b[0m\u001b[0;34m,\u001b[0m \u001b[0mlen\u001b[0m\u001b[0;34m(\u001b[0m\u001b[0mitems\u001b[0m\u001b[0;34m)\u001b[0m\u001b[0;34m,\u001b[0m \u001b[0;36m2\u001b[0m\u001b[0;34m)\u001b[0m\u001b[0;34m:\u001b[0m\u001b[0;34m\u001b[0m\u001b[0;34m\u001b[0m\u001b[0m\n",
      "\u001b[0;32m~/miniconda3/envs/plastid/lib/python3.8/shlex.py\u001b[0m in \u001b[0;36msplit\u001b[0;34m(s, comments, posix)\u001b[0m\n\u001b[1;32m    309\u001b[0m     \u001b[0;32mif\u001b[0m \u001b[0;32mnot\u001b[0m \u001b[0mcomments\u001b[0m\u001b[0;34m:\u001b[0m\u001b[0;34m\u001b[0m\u001b[0;34m\u001b[0m\u001b[0m\n\u001b[1;32m    310\u001b[0m         \u001b[0mlex\u001b[0m\u001b[0;34m.\u001b[0m\u001b[0mcommenters\u001b[0m \u001b[0;34m=\u001b[0m \u001b[0;34m''\u001b[0m\u001b[0;34m\u001b[0m\u001b[0;34m\u001b[0m\u001b[0m\n\u001b[0;32m--> 311\u001b[0;31m     \u001b[0;32mreturn\u001b[0m \u001b[0mlist\u001b[0m\u001b[0;34m(\u001b[0m\u001b[0mlex\u001b[0m\u001b[0;34m)\u001b[0m\u001b[0;34m\u001b[0m\u001b[0;34m\u001b[0m\u001b[0m\n\u001b[0m\u001b[1;32m    312\u001b[0m \u001b[0;34m\u001b[0m\u001b[0m\n\u001b[1;32m    313\u001b[0m \u001b[0;34m\u001b[0m\u001b[0m\n",
      "\u001b[0;32m~/miniconda3/envs/plastid/lib/python3.8/shlex.py\u001b[0m in \u001b[0;36m__next__\u001b[0;34m(self)\u001b[0m\n\u001b[1;32m    298\u001b[0m \u001b[0;34m\u001b[0m\u001b[0m\n\u001b[1;32m    299\u001b[0m     \u001b[0;32mdef\u001b[0m \u001b[0m__next__\u001b[0m\u001b[0;34m(\u001b[0m\u001b[0mself\u001b[0m\u001b[0;34m)\u001b[0m\u001b[0;34m:\u001b[0m\u001b[0;34m\u001b[0m\u001b[0;34m\u001b[0m\u001b[0m\n\u001b[0;32m--> 300\u001b[0;31m         \u001b[0mtoken\u001b[0m \u001b[0;34m=\u001b[0m \u001b[0mself\u001b[0m\u001b[0;34m.\u001b[0m\u001b[0mget_token\u001b[0m\u001b[0;34m(\u001b[0m\u001b[0;34m)\u001b[0m\u001b[0;34m\u001b[0m\u001b[0;34m\u001b[0m\u001b[0m\n\u001b[0m\u001b[1;32m    301\u001b[0m         \u001b[0;32mif\u001b[0m \u001b[0mtoken\u001b[0m \u001b[0;34m==\u001b[0m \u001b[0mself\u001b[0m\u001b[0;34m.\u001b[0m\u001b[0meof\u001b[0m\u001b[0;34m:\u001b[0m\u001b[0;34m\u001b[0m\u001b[0;34m\u001b[0m\u001b[0m\n\u001b[1;32m    302\u001b[0m             \u001b[0;32mraise\u001b[0m \u001b[0mStopIteration\u001b[0m\u001b[0;34m\u001b[0m\u001b[0;34m\u001b[0m\u001b[0m\n",
      "\u001b[0;32m~/miniconda3/envs/plastid/lib/python3.8/shlex.py\u001b[0m in \u001b[0;36mget_token\u001b[0;34m(self)\u001b[0m\n\u001b[1;32m    107\u001b[0m             \u001b[0;32mreturn\u001b[0m \u001b[0mtok\u001b[0m\u001b[0;34m\u001b[0m\u001b[0;34m\u001b[0m\u001b[0m\n\u001b[1;32m    108\u001b[0m         \u001b[0;31m# No pushback.  Get a token.\u001b[0m\u001b[0;34m\u001b[0m\u001b[0;34m\u001b[0m\u001b[0;34m\u001b[0m\u001b[0m\n\u001b[0;32m--> 109\u001b[0;31m         \u001b[0mraw\u001b[0m \u001b[0;34m=\u001b[0m \u001b[0mself\u001b[0m\u001b[0;34m.\u001b[0m\u001b[0mread_token\u001b[0m\u001b[0;34m(\u001b[0m\u001b[0;34m)\u001b[0m\u001b[0;34m\u001b[0m\u001b[0;34m\u001b[0m\u001b[0m\n\u001b[0m\u001b[1;32m    110\u001b[0m         \u001b[0;31m# Handle inclusions\u001b[0m\u001b[0;34m\u001b[0m\u001b[0;34m\u001b[0m\u001b[0;34m\u001b[0m\u001b[0m\n\u001b[1;32m    111\u001b[0m         \u001b[0;32mif\u001b[0m \u001b[0mself\u001b[0m\u001b[0;34m.\u001b[0m\u001b[0msource\u001b[0m \u001b[0;32mis\u001b[0m \u001b[0;32mnot\u001b[0m \u001b[0;32mNone\u001b[0m\u001b[0;34m:\u001b[0m\u001b[0;34m\u001b[0m\u001b[0;34m\u001b[0m\u001b[0m\n",
      "\u001b[0;32m~/miniconda3/envs/plastid/lib/python3.8/shlex.py\u001b[0m in \u001b[0;36mread_token\u001b[0;34m(self)\u001b[0m\n\u001b[1;32m    141\u001b[0m             \u001b[0;32mif\u001b[0m \u001b[0mnextchar\u001b[0m \u001b[0;34m==\u001b[0m \u001b[0;34m'\\n'\u001b[0m\u001b[0;34m:\u001b[0m\u001b[0;34m\u001b[0m\u001b[0;34m\u001b[0m\u001b[0m\n\u001b[1;32m    142\u001b[0m                 \u001b[0mself\u001b[0m\u001b[0;34m.\u001b[0m\u001b[0mlineno\u001b[0m \u001b[0;34m+=\u001b[0m \u001b[0;36m1\u001b[0m\u001b[0;34m\u001b[0m\u001b[0;34m\u001b[0m\u001b[0m\n\u001b[0;32m--> 143\u001b[0;31m             \u001b[0;32mif\u001b[0m \u001b[0mself\u001b[0m\u001b[0;34m.\u001b[0m\u001b[0mdebug\u001b[0m \u001b[0;34m>=\u001b[0m \u001b[0;36m3\u001b[0m\u001b[0;34m:\u001b[0m\u001b[0;34m\u001b[0m\u001b[0;34m\u001b[0m\u001b[0m\n\u001b[0m\u001b[1;32m    144\u001b[0m                 print(\"shlex: in state %r I see character: %r\" % (self.state,\n\u001b[1;32m    145\u001b[0m                                                                   nextchar))\n",
      "\u001b[0;31mKeyboardInterrupt\u001b[0m: "
     ]
    }
   ],
   "source": [
    "# Loading up the transcrip[t information.\n",
    "transcripts = list(GTF2_TranscriptAssembler(open(reference_path + \"Drosophila_melanogaster.BDGP6.32.103.gtf\"),return_type=Transcript))"
   ]
  },
  {
   "cell_type": "markdown",
   "id": "62029a89-e772-46d9-9122-64cc156bb527",
   "metadata": {},
   "source": [
    "## Step 5:\n",
    "Create a table that lists all genes and their associated lengths. "
   ]
  },
  {
   "cell_type": "code",
   "execution_count": null,
   "id": "d1a08b18-562f-4af4-8f3a-94de35fcffbe",
   "metadata": {},
   "outputs": [],
   "source": [
    "lengths_cds = []\n",
    "gene_name = []\n",
    "gene_id = []\n",
    "for tran in transcripts:\n",
    "    try:\n",
    "        tran.attr[\"gene_name\"]\n",
    "    except:\n",
    "        continue\n",
    "    try:\n",
    "        lengths_cds.append(tran.cds_end - tran.cds_start)\n",
    "    except:\n",
    "        continue\n",
    "    gene_name.append(tran.attr[\"gene_name\"])\n",
    "    gene_id.append(tran.attr[\"transcript_id\"])\n",
    "all_genes = pd.DataFrame(list(zip(gene_name, gene_id, lengths_cds)))\n",
    "all_genes.columns = [\"gene_name\", \"gene_id\", \"lengths_cds\"]"
   ]
  },
  {
   "cell_type": "markdown",
   "id": "227d3ff6-f3d0-4937-b4c8-d4c540a25472",
   "metadata": {},
   "source": [
    "## Step 6:\n",
    "Load up the list of APRIS genes. This list will include the transcript IDs of all of the primary isoforms, and will be used to select a single transcript for all genes."
   ]
  },
  {
   "cell_type": "code",
   "execution_count": 6,
   "id": "7d28d669-76f1-4181-8c63-5419026c2ff1",
   "metadata": {},
   "outputs": [],
   "source": [
    "# Load up the Apris genes. \n",
    "prin_trans = pd.read_csv(data_path + \"apris_fly_data.txt\", names = [\"gene_name\", \"???\", \"gene_id\", \"rank\"])\n",
    "\n",
    "# Remove the extra decimal point from the gene ids so that the gene IDs are the same. \n",
    "gene_ids = [] \n",
    "for i in prin_trans.gene_id:\n",
    "    gene_ids.append(i.split('.',1)[0])\n",
    "prin_trans.gene_id = gene_ids"
   ]
  },
  {
   "cell_type": "markdown",
   "id": "6c78b899-6720-4bd7-b2d5-cee279b993a5",
   "metadata": {},
   "source": [
    "## Step 7:\n",
    "Merge the list of APRIS genes with the list of all gene lengths in order to remove the non-primary isoforms. "
   ]
  },
  {
   "cell_type": "code",
   "execution_count": 7,
   "id": "79105b34-a7b2-425a-9239-65df7d42d875",
   "metadata": {},
   "outputs": [],
   "source": [
    "# Merge the count table with the table of APRIS genes\n",
    "prime_genes = pd.merge(all_genes, prin_trans, how=\"left\", on=\"gene_id\", indicator = True)\n",
    "\n",
    "# Only keep counts with a transcript ID that matched one of the APRIS primary IDs.\n",
    "prime_genes = prime_genes.loc[prime_genes._merge == \"both\"].copy()\n",
    "\n",
    "# Drop any duplicate genes (duplicates may remain if multiple transcripts have identical cds regions).\n",
    "prime_genes.drop_duplicates(subset =\"gene_name_x\",keep = \"first\", inplace = True) \n",
    "\n",
    "# Remove unnecesary columns. \n",
    "prime_genes.drop(columns = [\"gene_name_y\", \"???\", \"rank\", \"_merge\"], inplace = True)"
   ]
  },
  {
   "cell_type": "markdown",
   "id": "f08a0324-42cd-45a3-8ee4-83b4b1453ee0",
   "metadata": {},
   "source": [
    "## Step 8:\n",
    "Load up a list containing all of the autism spectrum genes and a seperate list containing top 200 genes with significantly altered gene expression. "
   ]
  },
  {
   "cell_type": "code",
   "execution_count": 8,
   "id": "942fe9d8-d91b-4cf6-a83a-34d448a9ccf4",
   "metadata": {},
   "outputs": [],
   "source": [
    "asd_gene_names = pd.read_csv(data_path + \"asd_genes_fly.csv\", names = [\"gene_name\"])\n",
    "top_200 = pd.read_csv(data_path+ \"dmel_top_200.csv\")"
   ]
  },
  {
   "cell_type": "markdown",
   "id": "13af4abc-1d55-4757-b986-50b10fb5bdf0",
   "metadata": {},
   "source": [
    "## Step 7:\n",
    "Extract the long genes from our list of genes and then filter out all of the autism genes from this list. "
   ]
  },
  {
   "cell_type": "code",
   "execution_count": 9,
   "id": "0f3612db-b56a-419a-9e31-bc755104fdcc",
   "metadata": {},
   "outputs": [],
   "source": [
    "# Define long genes as genes with a cds region above 2000 base pairs. \n",
    "long_genes = prime_genes.query(\"lengths_cds > 3000\")"
   ]
  },
  {
   "cell_type": "code",
   "execution_count": 10,
   "id": "8a94e949-e0d5-417c-bbe2-16054b58062d",
   "metadata": {},
   "outputs": [],
   "source": [
    "# Merge the long genes with the asd_gene_names \n",
    "temp_df = pd.merge(long_genes, asd_gene_names, how=\"left\", right_on=\"gene_name\", left_on=\"gene_name_x\", indicator = True)\n",
    "# reset the indices.\n",
    "temp_df = temp_df.reset_index(drop=True)\n",
    "# Remove genes that match to the asd_gene_names dataframe. \n",
    "long_non_asd_genes = temp_df.loc[temp_df._merge == \"left_only\"].copy()"
   ]
  },
  {
   "cell_type": "code",
   "execution_count": 11,
   "id": "5de5819a-a666-4bc3-a33e-225cf8c4f9af",
   "metadata": {},
   "outputs": [],
   "source": [
    "random.seed(35)\n",
    "rn_genes = pd.DataFrame(random.sample(list(long_non_asd_genes.gene_name_x),len(asd_gene_names.gene_name)))\n",
    "rn_genes.columns = [\"gene_ID\"]"
   ]
  },
  {
   "cell_type": "markdown",
   "id": "0bce34df-a80f-4ef7-8320-8400eccf8e16",
   "metadata": {},
   "source": [
    "## Step 8:\n",
    "As a beginning step compare the total number of ASD genes vs the total number of random long genes that match to the top 200. "
   ]
  },
  {
   "cell_type": "code",
   "execution_count": 12,
   "id": "4d95244a-a75c-4589-9dd5-5f37264cd90d",
   "metadata": {},
   "outputs": [],
   "source": [
    "# Merge the tables of random long genes and ASD genes with the top 200 translationally altered genes. \n",
    "top_200_rn = pd.merge(rn_genes, top_200, how=\"inner\", on = \"gene_ID\")\n",
    "top_200_asd = pd.merge(asd_gene_names, top_200, how = \"inner\", right_on = \"gene_ID\", left_on = \"gene_name\")\n",
    "\n",
    "# Drop any duplicates that may have come into \n",
    "top_200_rn.drop_duplicates(inplace = True)\n",
    "top_200_asd.drop_duplicates(inplace = True)"
   ]
  },
  {
   "cell_type": "markdown",
   "id": "d2be5356-ee9c-4797-9cc3-aed6bc674de6",
   "metadata": {},
   "source": [
    "## Step 9:\n",
    "Perform Fisher's exact test to determine if the probability of a translationally altered FMRP gene being an ASD gene is significantly different from it being a long gene. "
   ]
  },
  {
   "cell_type": "code",
   "execution_count": 13,
   "id": "277e0452-2369-4b2c-b63c-0ff4b70b9cd0",
   "metadata": {},
   "outputs": [
    {
     "data": {
      "text/plain": [
       "(0.4444444444444444, 0.2596399601776505)"
      ]
     },
     "execution_count": 13,
     "metadata": {},
     "output_type": "execute_result"
    }
   ],
   "source": [
    "table = [[len(top_200_asd.gene_name), len(top_200.gene_ID)],[len(top_200_rn.gene_ID), len(top_200.gene_ID)]]\n",
    "stats.fisher_exact(table)"
   ]
  },
  {
   "cell_type": "code",
   "execution_count": 14,
   "id": "3dfe1b83-61b4-44ed-a8b3-e7e203abbbe5",
   "metadata": {},
   "outputs": [
    {
     "data": {
      "text/html": [
       "<div>\n",
       "<style scoped>\n",
       "    .dataframe tbody tr th:only-of-type {\n",
       "        vertical-align: middle;\n",
       "    }\n",
       "\n",
       "    .dataframe tbody tr th {\n",
       "        vertical-align: top;\n",
       "    }\n",
       "\n",
       "    .dataframe thead th {\n",
       "        text-align: right;\n",
       "    }\n",
       "</style>\n",
       "<table border=\"1\" class=\"dataframe\">\n",
       "  <thead>\n",
       "    <tr style=\"text-align: right;\">\n",
       "      <th></th>\n",
       "      <th>gene_name</th>\n",
       "      <th>gene_ID</th>\n",
       "      <th>Fold_change</th>\n",
       "      <th>padj</th>\n",
       "      <th>CDS_length_bps</th>\n",
       "    </tr>\n",
       "  </thead>\n",
       "  <tbody>\n",
       "    <tr>\n",
       "      <th>0</th>\n",
       "      <td>Dys</td>\n",
       "      <td>Dys</td>\n",
       "      <td>0.62</td>\n",
       "      <td>4.460000e-10</td>\n",
       "      <td>9381.0</td>\n",
       "    </tr>\n",
       "    <tr>\n",
       "      <th>1</th>\n",
       "      <td>Fmr1</td>\n",
       "      <td>Fmr1</td>\n",
       "      <td>1.82</td>\n",
       "      <td>2.030000e-05</td>\n",
       "      <td>2052.0</td>\n",
       "    </tr>\n",
       "    <tr>\n",
       "      <th>2</th>\n",
       "      <td>Nf1</td>\n",
       "      <td>Nf1</td>\n",
       "      <td>0.31</td>\n",
       "      <td>0.000000e+00</td>\n",
       "      <td>8292.0</td>\n",
       "    </tr>\n",
       "    <tr>\n",
       "      <th>3</th>\n",
       "      <td>Prosap</td>\n",
       "      <td>Prosap</td>\n",
       "      <td>0.56</td>\n",
       "      <td>0.000000e+00</td>\n",
       "      <td>5418.0</td>\n",
       "    </tr>\n",
       "  </tbody>\n",
       "</table>\n",
       "</div>"
      ],
      "text/plain": [
       "  gene_name gene_ID  Fold_change          padj  CDS_length_bps \n",
       "0       Dys     Dys         0.62  4.460000e-10           9381.0\n",
       "1      Fmr1    Fmr1         1.82  2.030000e-05           2052.0\n",
       "2       Nf1     Nf1         0.31  0.000000e+00           8292.0\n",
       "3    Prosap  Prosap         0.56  0.000000e+00           5418.0"
      ]
     },
     "execution_count": 14,
     "metadata": {},
     "output_type": "execute_result"
    }
   ],
   "source": [
    "top_200_asd"
   ]
  },
  {
   "cell_type": "code",
   "execution_count": null,
   "id": "135d54bf-dadf-4725-923d-5687722fd1a2",
   "metadata": {},
   "outputs": [],
   "source": []
  }
 ],
 "metadata": {
  "kernelspec": {
   "display_name": "Python 3 (ipykernel)",
   "language": "python",
   "name": "python3"
  },
  "language_info": {
   "codemirror_mode": {
    "name": "ipython",
    "version": 3
   },
   "file_extension": ".py",
   "mimetype": "text/x-python",
   "name": "python",
   "nbconvert_exporter": "python",
   "pygments_lexer": "ipython3",
   "version": "3.8.12"
  }
 },
 "nbformat": 4,
 "nbformat_minor": 5
}
