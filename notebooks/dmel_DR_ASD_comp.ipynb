{
 "cells": [
  {
   "cell_type": "markdown",
   "id": "baf1a8b0-cac7-4961-a879-591b20d9b3c0",
   "metadata": {},
   "source": [
    "## Step 1:\n",
    "Let the program know where to find your tools file."
   ]
  },
  {
   "cell_type": "code",
   "execution_count": 1,
   "id": "f81eafa3-0e6c-4ed6-b0e1-f0b702a3a622",
   "metadata": {},
   "outputs": [],
   "source": [
    "import sys, os\n",
    "sys.path.append(os.path.join(os.path.realpath(\"..\"), \"Tools\"))"
   ]
  },
  {
   "cell_type": "markdown",
   "id": "39a9dfbc-f857-44bb-b78a-1e6e90a785b8",
   "metadata": {},
   "source": [
    "## Step 2:\n",
    "Load up all of the necessary packages"
   ]
  },
  {
   "cell_type": "code",
   "execution_count": 2,
   "id": "1f2fa5d5-89fd-4b2b-859f-c6d7f26148e3",
   "metadata": {},
   "outputs": [],
   "source": [
    "from plastid import BAMGenomeArray,GTF2_TranscriptAssembler,Transcript\n",
    "import numpy as np\n",
    "import random\n",
    "import pandas as pd\n",
    "from plastid.plotting.plots import *\n",
    "import utilities as utils\n",
    "from scipy import stats\n",
    "import matplotlib.pyplot as plt\n",
    "from matplotlib.pyplot import figure\n",
    "from Bio import SeqIO\n",
    "from Bio.Alphabet import generic_dna\n",
    "from Bio.Seq import Seq\n",
    "import math\n",
    "\n",
    "%matplotlib inline"
   ]
  },
  {
   "cell_type": "markdown",
   "id": "ce27a563-283c-4ce5-9503-f8eef0faff16",
   "metadata": {},
   "source": [
    "## Step 3:\n",
    "Define the paths to our reference genome and annotation files as well as the path to our data for the Autism Spectrum Disorder (ASD) genes identified by Sfari, the top 200 genes whose regulation is altered by FMRP as determined by RiboDiff, The list of genes and their associated TPM values (used to select for genes with sufficient TPM), and the list of primary transcript isoforms provided by APRIS."
   ]
  },
  {
   "cell_type": "code",
   "execution_count": 3,
   "id": "a2d6b04d-3d04-47b2-b2dc-dd01ca2a80b5",
   "metadata": {},
   "outputs": [],
   "source": [
    "reference_path = \"/home/keeganfl/Desktop/Work_Fall_2021/Protocol_test/genome/dmel/\"\n",
    "data_path = \"/home/keeganfl/Desktop/measuring_binding_domains/data/\"\n",
    "counts_path = \"/home/keeganfl/Desktop/measuring_binding_domains/Extra_tables/TE_tables/\""
   ]
  },
  {
   "cell_type": "markdown",
   "id": "b40fc270-0de1-416b-8fe0-8e6fd7a721e1",
   "metadata": {},
   "source": [
    "## Step 4: \n",
    "load the transcript files so that we can find the sequence of each gene"
   ]
  },
  {
   "cell_type": "code",
   "execution_count": 4,
   "id": "f35accf9-0fb5-41c0-a3ed-e7191dcaf587",
   "metadata": {
    "tags": []
   },
   "outputs": [],
   "source": [
    "# Loading up the transcrip[t information.\n",
    "transcripts = list(GTF2_TranscriptAssembler(open(reference_path + \"Drosophila_melanogaster.BDGP6.32.103.gtf\"),return_type=Transcript))"
   ]
  },
  {
   "cell_type": "markdown",
   "id": "62029a89-e772-46d9-9122-64cc156bb527",
   "metadata": {},
   "source": [
    "## Step 5:\n",
    "Create a table that lists all genes and their associated lengths. "
   ]
  },
  {
   "cell_type": "code",
   "execution_count": 5,
   "id": "d1a08b18-562f-4af4-8f3a-94de35fcffbe",
   "metadata": {},
   "outputs": [],
   "source": [
    "lengths_cds = []\n",
    "gene_name = []\n",
    "transcript_id = []\n",
    "gene_id = []\n",
    "for tran in transcripts:\n",
    "    try:\n",
    "        tran.attr[\"gene_name\"]\n",
    "    except:\n",
    "        continue\n",
    "    try:\n",
    "        lengths_cds.append(tran.cds_end - tran.cds_start)\n",
    "    except:\n",
    "        continue\n",
    "    gene_name.append(tran.attr[\"gene_name\"])\n",
    "    gene_id.append(tran.attr[\"gene_id\"])\n",
    "    transcript_id.append(tran.attr[\"transcript_id\"])\n",
    "all_genes = pd.DataFrame(list(zip(gene_name, gene_id, transcript_id, lengths_cds)))\n",
    "all_genes.columns = [\"gene_name\", \"gene_id\",\"transcript_id\", \"lengths_cds\"]"
   ]
  },
  {
   "cell_type": "markdown",
   "id": "227d3ff6-f3d0-4937-b4c8-d4c540a25472",
   "metadata": {},
   "source": [
    "## Step 6:\n",
    "Load up the list of APRIS genes. This list will include the transcript IDs of all of the primary isoforms, and will be used to select a single transcript for all genes."
   ]
  },
  {
   "cell_type": "code",
   "execution_count": 6,
   "id": "7d28d669-76f1-4181-8c63-5419026c2ff1",
   "metadata": {},
   "outputs": [],
   "source": [
    "# Load up the Apris genes. \n",
    "prin_trans = pd.read_csv(data_path + \"apris_fly_data.txt\", names = [\"gene_name\", \"???\", \"gene_id\", \"rank\"])\n",
    "\n",
    "# Remove the extra decimal point from the gene ids so that the gene IDs are the same. \n",
    "gene_ids = [] \n",
    "for i in prin_trans.gene_id:\n",
    "    gene_ids.append(i.split('.',1)[0])\n",
    "prin_trans.gene_id = gene_ids"
   ]
  },
  {
   "cell_type": "markdown",
   "id": "6c78b899-6720-4bd7-b2d5-cee279b993a5",
   "metadata": {},
   "source": [
    "## Step 7:\n",
    "Merge the list of APRIS genes with the list of all gene lengths in order to remove the non-primary isoforms. "
   ]
  },
  {
   "cell_type": "code",
   "execution_count": 7,
   "id": "79105b34-a7b2-425a-9239-65df7d42d875",
   "metadata": {},
   "outputs": [],
   "source": [
    "# Merge the count table with the table of APRIS genes\n",
    "prime_genes = pd.merge(all_genes, prin_trans, how=\"left\", left_on=\"transcript_id\", right_on=\"gene_id\", indicator = True)\n",
    "\n",
    "# Only keep counts with a transcript ID that matched one of the APRIS primary IDs.\n",
    "prime_genes = prime_genes.loc[prime_genes._merge == \"both\"].copy()\n",
    "\n",
    "# Drop any duplicate genes (duplicates may remain if multiple transcripts have identical cds regions).\n",
    "prime_genes.drop_duplicates(subset =\"gene_name_x\",keep = \"first\", inplace = True) \n",
    "\n",
    "# Remove unnecesary columns. \n",
    "prime_genes.drop(columns = [\"gene_name_y\", \"???\", \"rank\", \"_merge\"], inplace = True)"
   ]
  },
  {
   "cell_type": "markdown",
   "id": "f08a0324-42cd-45a3-8ee4-83b4b1453ee0",
   "metadata": {},
   "source": [
    "## Step 8:\n",
    "Load up a list containing all of the autism spectrum genes and a seperate list containing top 200 genes with significantly altered gene expression. "
   ]
  },
  {
   "cell_type": "code",
   "execution_count": 8,
   "id": "942fe9d8-d91b-4cf6-a83a-34d448a9ccf4",
   "metadata": {},
   "outputs": [],
   "source": [
    "asd_gene_names = pd.read_csv(data_path + \"asd_genes_fly.csv\", names = [\"gene_name\"])\n",
    "top_200 = pd.read_csv(data_path+ \"dmel_top_200.csv\")"
   ]
  },
  {
   "cell_type": "markdown",
   "id": "13af4abc-1d55-4757-b986-50b10fb5bdf0",
   "metadata": {},
   "source": [
    "## Step 9:\n",
    "Extract the long genes from our list of genes and then filter out all of the autism genes from this list. "
   ]
  },
  {
   "cell_type": "code",
   "execution_count": 80,
   "id": "0f3612db-b56a-419a-9e31-bc755104fdcc",
   "metadata": {},
   "outputs": [],
   "source": [
    "# Define long genes as genes with a cds region above 2000 base pairs. \n",
    "long_genes = prime_genes.query(\"lengths_cds > 5400\")"
   ]
  },
  {
   "cell_type": "code",
   "execution_count": 81,
   "id": "8a94e949-e0d5-417c-bbe2-16054b58062d",
   "metadata": {},
   "outputs": [],
   "source": [
    "# Merge the long genes with the asd_gene_names \n",
    "temp_df = pd.merge(long_genes, asd_gene_names, how=\"left\", right_on=\"gene_name\", left_on=\"gene_name_x\", indicator = True)\n",
    "# reset the indices.\n",
    "temp_df = temp_df.reset_index(drop=True)\n",
    "# Remove genes that match to the asd_gene_names dataframe. \n",
    "long_non_asd_genes = temp_df.loc[temp_df._merge == \"left_only\"].copy()\n",
    "long_non_asd_genes.drop(columns = [\"gene_name\"], inplace = True)"
   ]
  },
  {
   "cell_type": "markdown",
   "id": "1e293856-939c-4a60-bac3-1f46766f1aa8",
   "metadata": {},
   "source": [
    "## Step 10:\n",
    "merge the long genes list with a list of TPM genes and the select only those genes that have a TPM above 1. This is done to ensure that rarely expressed genes do not interfere with our analysis."
   ]
  },
  {
   "cell_type": "code",
   "execution_count": 82,
   "id": "295f9c2c-1988-4096-8790-434f98f95d92",
   "metadata": {},
   "outputs": [],
   "source": [
    "tpm_table = pd.read_csv(counts_path + \"TE_fly.csv\")"
   ]
  },
  {
   "cell_type": "code",
   "execution_count": 83,
   "id": "260c4829-97f2-4d18-b2d0-90773c35233d",
   "metadata": {},
   "outputs": [],
   "source": [
    "# Merge the tables\n",
    "temp_df = pd.merge(long_non_asd_genes, tpm_table, how = \"inner\", left_on=\"gene_id_x\", right_on=\"Entry\")\n",
    "\n",
    "# Drop the many uneccessary columns \n",
    "temp_df = temp_df.drop(['Entry', 'RbCtlR1', 'RbCtlR2', 'RbCtlR3', 'RbCtlR4', 'RbTrtR1',\n",
    "       'RbTrtR2', 'RbTrtR3', 'RbTrtR4', 'RbTrtR5', 'RbTrtR6', 'RbTrtR7',\n",
    "       'RnaCtlR1', 'RnaCtlR2', 'RnaCtlR3', 'RnaTrtR1', 'RnaTrtR2', 'RnaTrtR3',\n",
    "       'RnaTrtR4', 'RnaTrtR5', 'RnaTrtR6', 'RbCtlR1_tpm', 'RbCtlR2_tpm',\n",
    "       'RbCtlR3_tpm', 'RbCtlR4_tpm', 'RbTrtR1_tpm', 'RbTrtR2_tpm',\n",
    "       'RbTrtR3_tpm', 'RbTrtR4_tpm', 'RbTrtR5_tpm', 'RbTrtR6_tpm',\n",
    "       'RbTrtR7_tpm', 'RnaCtlR1_tpm', 'RnaCtlR2_tpm', 'RnaCtlR3_tpm',\n",
    "       'RnaTrtR1_tpm', 'RnaTrtR2_tpm', 'RnaTrtR3_tpm', 'RnaTrtR4_tpm',\n",
    "       'RnaTrtR5_tpm', 'RnaTrtR6_tpm', 'Ctl_TE', 'Trt_TE', 'FldChng_TE'], axis = 1)\n",
    "\n",
    "# Filter by the average TPM\n",
    "LSEnA_genes = temp_df.query(\"RbCtl_avg_tpm > 1 & RnaCtl_avg_tpm > 1\")"
   ]
  },
  {
   "cell_type": "markdown",
   "id": "55e7ed00-cc28-4c4d-b5b5-d16000dcafc3",
   "metadata": {},
   "source": [
    "## Step 11: \n",
    "Randomly select from our long, sfficiently expressed, non-ASD genes. The number of genes selected should be equal to the number of asd genes that we are using. "
   ]
  },
  {
   "cell_type": "code",
   "execution_count": 84,
   "id": "325f4b61-1cbe-48c3-bb2c-c551cd87b989",
   "metadata": {},
   "outputs": [],
   "source": [
    "random.seed(35)\n",
    "rn_genes = pd.DataFrame(random.sample(list(LSEnA_genes.gene_name_x),len(asd_gene_names.gene_name)))"
   ]
  },
  {
   "cell_type": "code",
   "execution_count": 85,
   "id": "3e8ae271-0a77-42ec-965e-e15b52fc4f1d",
   "metadata": {},
   "outputs": [],
   "source": [
    "rn_genes.columns = [\"gene_ID\"]"
   ]
  },
  {
   "cell_type": "markdown",
   "id": "c1ac6795-1bcf-418e-8de9-b5cd16c9e3e5",
   "metadata": {},
   "source": [
    "## Step 12:\n",
    "Merge the table of random long genes and ASD genes with the top 200 FMRP regulated genes using merge. This will allow us to see how many matches there are between the different tables. "
   ]
  },
  {
   "cell_type": "code",
   "execution_count": 86,
   "id": "907f3775-4e7f-41a1-b703-b6b3145d84e5",
   "metadata": {},
   "outputs": [],
   "source": [
    "# Merge the tables of random long genes and ASD genes with the top 200 translationally altered genes. \n",
    "top_200_rn = pd.merge(LSEnA_genes, top_200, how=\"inner\", right_on = \"gene_ID\", left_on = \"gene_name_x\")\n",
    "top_200_asd = pd.merge(asd_gene_names, top_200, how = \"inner\", right_on = \"gene_ID\", left_on = \"gene_name\")\n",
    "\n",
    "# Drop any duplicates that may have come into \n",
    "top_200_rn.drop_duplicates(inplace = True)\n",
    "top_200_asd.drop_duplicates(inplace = True)"
   ]
  },
  {
   "cell_type": "code",
   "execution_count": 87,
   "id": "fd63f5c4-8ca1-4927-b3ea-9fcb412ea07f",
   "metadata": {},
   "outputs": [
    {
     "data": {
      "text/plain": [
       "4"
      ]
     },
     "execution_count": 87,
     "metadata": {},
     "output_type": "execute_result"
    }
   ],
   "source": [
    "len(top_200_asd.gene_name)"
   ]
  },
  {
   "cell_type": "code",
   "execution_count": 88,
   "id": "ea41d8aa-f3ce-4d55-8cd6-306554c329ff",
   "metadata": {},
   "outputs": [
    {
     "data": {
      "text/plain": [
       "39"
      ]
     },
     "execution_count": 88,
     "metadata": {},
     "output_type": "execute_result"
    }
   ],
   "source": [
    "len(top_200_rn.gene_ID)"
   ]
  },
  {
   "cell_type": "markdown",
   "id": "43cf4a72-f19d-46c9-8ae4-dde7ac4df558",
   "metadata": {},
   "source": [
    "## Step 13:\n",
    "Perform Fisher's exact test to determine if the probability of a translationally altered FMRP gene being an ASD gene is significantly different from it being a long gene. "
   ]
  },
  {
   "cell_type": "code",
   "execution_count": 89,
   "id": "8d73e534-cc15-45e1-9ac6-51f95d870caa",
   "metadata": {},
   "outputs": [],
   "source": [
    "table = [[len(top_200_asd.gene_name), len(asd_gene_names.gene_name)],[len(top_200_rn.gene_ID), len(LSEnA_genes.gene_name_x)]]"
   ]
  },
  {
   "cell_type": "code",
   "execution_count": 90,
   "id": "77023625-a712-4409-a418-760c2c5d3057",
   "metadata": {},
   "outputs": [
    {
     "data": {
      "text/plain": [
       "[[4, 158], [39, 256]]"
      ]
     },
     "execution_count": 90,
     "metadata": {},
     "output_type": "execute_result"
    }
   ],
   "source": [
    "table"
   ]
  },
  {
   "cell_type": "code",
   "execution_count": 91,
   "id": "402255b7-b2a9-4f29-95a6-0fd813e17d23",
   "metadata": {},
   "outputs": [
    {
     "data": {
      "text/plain": [
       "(0.166179811749432, 7.832442446726226e-05)"
      ]
     },
     "execution_count": 91,
     "metadata": {},
     "output_type": "execute_result"
    }
   ],
   "source": [
    "stats.fisher_exact(table)"
   ]
  },
  {
   "cell_type": "code",
   "execution_count": null,
   "id": "d11d7041-5a1e-4b4c-bcf5-e616b515e0fb",
   "metadata": {},
   "outputs": [],
   "source": []
  }
 ],
 "metadata": {
  "kernelspec": {
   "display_name": "Python 3 (ipykernel)",
   "language": "python",
   "name": "python3"
  },
  "language_info": {
   "codemirror_mode": {
    "name": "ipython",
    "version": 3
   },
   "file_extension": ".py",
   "mimetype": "text/x-python",
   "name": "python",
   "nbconvert_exporter": "python",
   "pygments_lexer": "ipython3",
   "version": "3.8.12"
  }
 },
 "nbformat": 4,
 "nbformat_minor": 5
}
