{
 "cells": [
  {
   "cell_type": "markdown",
   "id": "baf1a8b0-cac7-4961-a879-591b20d9b3c0",
   "metadata": {},
   "source": [
    "## Step 1:\n",
    "Let the program know where to find your tools file."
   ]
  },
  {
   "cell_type": "code",
   "execution_count": 1,
   "id": "f81eafa3-0e6c-4ed6-b0e1-f0b702a3a622",
   "metadata": {},
   "outputs": [],
   "source": [
    "import sys, os\n",
    "sys.path.append(os.path.join(os.path.realpath(\"..\"), \"Tools\"))"
   ]
  },
  {
   "cell_type": "markdown",
   "id": "39a9dfbc-f857-44bb-b78a-1e6e90a785b8",
   "metadata": {},
   "source": [
    "## Step 2:\n",
    "Load up all of the necessary packages"
   ]
  },
  {
   "cell_type": "code",
   "execution_count": 2,
   "id": "1f2fa5d5-89fd-4b2b-859f-c6d7f26148e3",
   "metadata": {},
   "outputs": [],
   "source": [
    "from plastid import BAMGenomeArray,GTF2_TranscriptAssembler,Transcript\n",
    "import numpy as np\n",
    "import pandas as pd\n",
    "from plastid.plotting.plots import *\n",
    "import utilities as utils\n",
    "import matplotlib.pyplot as plt\n",
    "from matplotlib.pyplot import figure\n",
    "from Bio import SeqIO\n",
    "from Bio.Alphabet import generic_dna\n",
    "from Bio.Seq import Seq\n",
    "from scipy import stats\n",
    "import math\n",
    "\n",
    "%matplotlib inline"
   ]
  },
  {
   "cell_type": "markdown",
   "id": "d61428b8-05ef-4f2b-9713-b1d80b0589b3",
   "metadata": {},
   "source": [
    "## Step 3:\n",
    "define the paths to our reference genome and annotation files as well as the path to our list of autism spectrum disorder (ASD) genes"
   ]
  },
  {
   "cell_type": "code",
   "execution_count": 223,
   "id": "47bcf30e-c2f5-4887-95e5-8bba3a0162cb",
   "metadata": {},
   "outputs": [],
   "source": [
    "reference_path = \"/home/keeganfl/Desktop/Work_Fall_2021/Protocol_test/genome/dmel/\"\n",
    "data_path = \"/home/keeganfl/Desktop/measuring_binding_domains/data/\"\n",
    "figure_path = \"/home/keeganfl/Desktop/measuring_binding_domains/Q20/reworked_figures/\"\n",
    "table_path = \"/home/keeganfl/Desktop/measuring_binding_domains/Q20/Tables/\""
   ]
  },
  {
   "cell_type": "markdown",
   "id": "b40fc270-0de1-416b-8fe0-8e6fd7a721e1",
   "metadata": {},
   "source": [
    "## Step 4: \n",
    "load the transcript and genome files so that we can find the sequence of each gene"
   ]
  },
  {
   "cell_type": "code",
   "execution_count": 4,
   "id": "f35accf9-0fb5-41c0-a3ed-e7191dcaf587",
   "metadata": {},
   "outputs": [],
   "source": [
    "# Loading up the transcrip[t information.\n",
    "transcripts = list(GTF2_TranscriptAssembler(open(reference_path + \"mm10.refGene.gtf\"),return_type=Transcript))\n",
    "\n",
    "# Loading up the genome information. \n",
    "genome = SeqIO.to_dict(SeqIO.parse(open(reference_path + \"mm10.fa\"),\"fasta\"))"
   ]
  },
  {
   "cell_type": "markdown",
   "id": "81090ac1-e640-408b-a64c-d9dcbee61b83",
   "metadata": {},
   "source": [
    "## Step 5:\n",
    "Create a dataframe that contains the gene name, gene length, and the counts for the FMRP target mRNA sequences"
   ]
  },
  {
   "cell_type": "code",
   "execution_count": 133,
   "id": "7a4fcd06-1bc0-4102-a78b-8bffcbafc62e",
   "metadata": {
    "collapsed": true,
    "jupyter": {
     "outputs_hidden": true
    },
    "tags": []
   },
   "outputs": [
    {
     "name": "stderr",
     "output_type": "stream",
     "text": [
      "---------------------------------------------------------------------------\n",
      "RuntimeWarning\n",
      "invalid value encountered in true_divide\n",
      "in /home/keeganfl/Desktop/measuring_binding_domains/Tools/utilities.py, line 66:\n",
      "\n",
      "64     # get the count density for each region.\n",
      "65     density_cds = np.array(total_cds)/np.array(lengths_cds)\n",
      "66     density_utr5 = np.array(total_utr5)/np.array(lengths_utr5)\n",
      "67     density_utr3 = np.array(total_utr3)/np.array(lengths_utr3)\n",
      "68     density_all = np.array(total_all)/np.array(lengths_all)\n",
      "\n",
      "---------------------------------------------------------------------------\n",
      "---------------------------------------------------------------------------\n",
      "RuntimeWarning\n",
      "invalid value encountered in true_divide\n",
      "in /home/keeganfl/Desktop/measuring_binding_domains/Tools/utilities.py, line 67:\n",
      "\n",
      "65     density_cds = np.array(total_cds)/np.array(lengths_cds)\n",
      "66     density_utr5 = np.array(total_utr5)/np.array(lengths_utr5)\n",
      "67     density_utr3 = np.array(total_utr3)/np.array(lengths_utr3)\n",
      "68     density_all = np.array(total_all)/np.array(lengths_all)\n",
      "69     \n",
      "\n",
      "---------------------------------------------------------------------------\n"
     ]
    }
   ],
   "source": [
    "# Choose the motif to analyze\n",
    "motif = [\"GAC\"]\n",
    "# Create a dataframe with all of the count data I want. \n",
    "GAC_counts = utils.counter(transcripts, genome, sites = motif)"
   ]
  },
  {
   "cell_type": "code",
   "execution_count": 134,
   "id": "4b6aed50-d977-4f50-8c4b-5150cc1b611b",
   "metadata": {
    "tags": []
   },
   "outputs": [],
   "source": [
    "# Choose the motif to analyze\n",
    "motif = [\"AGGA\", \"UGGA\"]\n",
    "# Create a dataframe with all of the count data I want. \n",
    "WGGA_counts = utils.counter(transcripts, genome, sites = motif)"
   ]
  },
  {
   "cell_type": "code",
   "execution_count": 135,
   "id": "1e8eded8-d528-491d-88a5-dc3caa7a4fe1",
   "metadata": {
    "tags": []
   },
   "outputs": [],
   "source": [
    "# Choose the motif to analyze\n",
    "motif = [\"ACUU\", \"ACUG\"]\n",
    "# Create a dataframe with all of the count data I want. \n",
    "ACUK_counts = utils.counter(transcripts, genome, sites = motif)"
   ]
  },
  {
   "cell_type": "code",
   "execution_count": 136,
   "id": "0abcb52f-d54a-4bae-90da-8af8d1efe8f2",
   "metadata": {
    "tags": []
   },
   "outputs": [],
   "source": [
    "# Choose the motif to analyze\n",
    "motif = [\"UUUU\"]\n",
    "# Create a dataframe with all of the count data I want. \n",
    "TTTT_counts = utils.counter(transcripts, genome, sites = motif)"
   ]
  },
  {
   "cell_type": "code",
   "execution_count": 137,
   "id": "8a9cc0c9-6b3b-4f5d-89d0-c1a8b5c19025",
   "metadata": {
    "tags": []
   },
   "outputs": [],
   "source": [
    "# Choose the motif to analyze\n",
    "motif = [\"UAU\", \"UAC\"]\n",
    "# Create a dataframe with all of the count data I want. \n",
    "TAY_counts = utils.counter(transcripts, genome, sites = motif)"
   ]
  },
  {
   "cell_type": "code",
   "execution_count": 191,
   "id": "6186b815-c900-499c-92d3-87ef30aad1aa",
   "metadata": {
    "tags": []
   },
   "outputs": [
    {
     "name": "stderr",
     "output_type": "stream",
     "text": [
      "---------------------------------------------------------------------------\n",
      "RuntimeWarning\n",
      "invalid value encountered in true_divide\n",
      "in /home/keeganfl/Desktop/measuring_binding_domains/Tools/utilities.py, line 66:\n",
      "\n",
      "64     # get the count density for each region.\n",
      "65     density_cds = np.array(total_cds)/np.array(lengths_cds)\n",
      "66     density_utr5 = np.array(total_utr5)/np.array(lengths_utr5)\n",
      "67     density_utr3 = np.array(total_utr3)/np.array(lengths_utr3)\n",
      "68     density_all = np.array(total_all)/np.array(lengths_all)\n",
      "\n",
      "---------------------------------------------------------------------------\n",
      "---------------------------------------------------------------------------\n",
      "RuntimeWarning\n",
      "invalid value encountered in true_divide\n",
      "in /home/keeganfl/Desktop/measuring_binding_domains/Tools/utilities.py, line 67:\n",
      "\n",
      "65     density_cds = np.array(total_cds)/np.array(lengths_cds)\n",
      "66     density_utr5 = np.array(total_utr5)/np.array(lengths_utr5)\n",
      "67     density_utr3 = np.array(total_utr3)/np.array(lengths_utr3)\n",
      "68     density_all = np.array(total_all)/np.array(lengths_all)\n",
      "69     \n",
      "\n",
      "---------------------------------------------------------------------------\n"
     ]
    }
   ],
   "source": [
    "# Choose the motif to analyze\n",
    "motif = [\"CCAU\", \"CCAG\"]\n",
    "# Create a dataframe with all of the count data I want. \n",
    "random_counts = utils.counter(transcripts, genome, sites = motif)"
   ]
  },
  {
   "cell_type": "code",
   "execution_count": 192,
   "id": "bb21f9d4-d98f-4eb9-ba2f-49641c66a56e",
   "metadata": {},
   "outputs": [],
   "source": [
    "count_list = [GAC_counts, WGGA_counts, ACUK_counts, TTTT_counts, TAY_counts, random_counts]\n",
    "motif_list = [\"GAC\", \"WGGA\", \"ACUK\", \"TTTT\", \"TAY\"]"
   ]
  },
  {
   "cell_type": "markdown",
   "id": "7af73c69-86e8-4dff-870d-442222cbce73",
   "metadata": {},
   "source": [
    "## Step 6:\n",
    "Load up the list of APRIS genes. This list will include the transcript IDs of all of the primary isoforms, and will be used to select a single transcript for all genes."
   ]
  },
  {
   "cell_type": "code",
   "execution_count": 193,
   "id": "4912284b-708c-4fb9-8a28-13d7e8b7e14d",
   "metadata": {},
   "outputs": [],
   "source": [
    "# Load up the Apris genes. \n",
    "prin_trans = pd.read_csv(data_path + \"apris_mouse_data.txt\", names = [\"gene_name\", \"???\", \"gene_id\", \"rank\"])\n",
    "\n",
    "# Remove the extra decimal point from the gene ids so that the gene IDs are the same. \n",
    "gene_ids = [] \n",
    "for i in prin_trans.gene_id:\n",
    "    gene_ids.append(i.split('.',1)[0])\n",
    "prin_trans.gene_id = gene_ids"
   ]
  },
  {
   "cell_type": "code",
   "execution_count": 194,
   "id": "264b005d-4c95-4b71-9c6b-b91e7d274eb6",
   "metadata": {},
   "outputs": [],
   "source": [
    "new_count_list = []\n",
    "for i in count_list:\n",
    "    # Merge the count table with the table of ASD gene names and include an indicator column.\n",
    "    mouse_counts = pd.merge(i, prin_trans, how=\"left\", on=\"gene_id\", indicator = True)\n",
    "\n",
    "    # Only keep counts with a transcript ID that matched one of the APRIS primary IDs.\n",
    "    mouse_counts = mouse_counts.loc[mouse_counts._merge == \"both\"].copy()\n",
    "\n",
    "    # Drop any duplicate genes (duplicates may remain if multiple transcripts have identical cds regions).\n",
    "    mouse_counts.drop_duplicates(subset =\"gene_name_x\",keep = \"first\", inplace = True) \n",
    "\n",
    "    # Remove unnecesary columns. \n",
    "    mouse_counts.drop(columns = [\"gene_name_y\", \"???\", \"rank\", \"_merge\"], inplace = True)\n",
    "    new_count_list.append(mouse_counts)"
   ]
  },
  {
   "cell_type": "markdown",
   "id": "8a0bb18c-2e61-46f3-96be-52f73b8d08d8",
   "metadata": {},
   "source": [
    "## Step 7:\n",
    "Load up a list the top 200 most significantly changed genes and then select the 100 most significantly downregulated genes. "
   ]
  },
  {
   "cell_type": "code",
   "execution_count": 236,
   "id": "624f2ab5-b7ab-4369-bb34-2c932091d2fc",
   "metadata": {},
   "outputs": [],
   "source": [
    "top_400 = pd.read_csv(data_path + \"mmus_top_400.csv\")\n",
    "top_downreg = top_400.query('Fold_change < 1')[0:100]\n",
    "top_upreg = top_400.query('Fold_change > 1')[0:100]"
   ]
  },
  {
   "cell_type": "markdown",
   "id": "08638ff2-0a86-473b-a3ec-ae4957b143df",
   "metadata": {},
   "source": [
    "## Step 8:\n",
    "merge the asd_gene_names and the fly counts together based on the shared gene names"
   ]
  },
  {
   "cell_type": "code",
   "execution_count": 238,
   "id": "cbb8276c-d389-49ff-ad95-d36c4bb10d87",
   "metadata": {},
   "outputs": [],
   "source": [
    "merged_down = []\n",
    "merged_up = []\n",
    "for i in new_count_list:\n",
    "    temp_df = pd.merge(i, top_downreg, how=\"left\", left_on = \"gene_name_x\", right_on = \"gene_ID\", indicator = True)\n",
    "    temp_df = temp_df.reset_index(drop=True)\n",
    "    # remove extremely long genes as they effect the analysis\n",
    "    temp_df = temp_df.drop(temp_df[temp_df.lengths_all > 35000].index)\n",
    "    merged_down.append(temp_df)\n",
    "    \n",
    "    temp_df = pd.merge(i, top_upreg, how=\"left\", left_on = \"gene_name_x\", right_on = \"gene_ID\", indicator = True)\n",
    "    temp_df = temp_df.reset_index(drop=True)\n",
    "    # remove extremely long genes as they effect the analysis\n",
    "    temp_df = temp_df.drop(temp_df[temp_df.lengths_all > 35000].index)\n",
    "    merged_up.append(temp_df)"
   ]
  },
  {
   "cell_type": "markdown",
   "id": "36a77faa-cafd-4efd-8e15-4f534e4fe940",
   "metadata": {},
   "source": [
    "## Step 9:\n",
    "split the merged table into downreg_genes and non_downreg_genes tables"
   ]
  },
  {
   "cell_type": "code",
   "execution_count": 239,
   "id": "083f2841-d979-4b82-9fc3-b4050917e34e",
   "metadata": {},
   "outputs": [],
   "source": [
    "downreg_list = []\n",
    "non_downreg_list = []\n",
    "upreg_list = []\n",
    "non_upreg_list = []\n",
    "\n",
    "for up,down in zip(merged_up, merged_down):\n",
    "    # split it into downreg_genes and non_downreg_genes tables\n",
    "    downreg_genes = down.loc[down._merge == \"both\"].copy()\n",
    "\n",
    "    non_downreg_genes = down.loc[down._merge == \"left_only\"].copy()\n",
    "\n",
    "    # drop the unecessary columns\n",
    "    non_downreg_genes.drop(columns = [\"_merge\"], inplace = True)\n",
    "\n",
    "    # Reset the indices\n",
    "    downreg_genes = downreg_genes.reset_index(drop=True)\n",
    "    non_downreg_genes = non_downreg_genes.reset_index(drop=True)\n",
    "    downreg_list.append(downreg_genes)\n",
    "    non_downreg_list.append(non_downreg_genes)\n",
    "    \n",
    "    # split it into upreg_genes and non_upreg_genes tables\n",
    "    upreg_genes = up.loc[up._merge == \"both\"].copy()\n",
    "\n",
    "    non_upreg_genes = up.loc[up._merge == \"left_only\"].copy()\n",
    "\n",
    "    # drop the unecessary columns\n",
    "    non_upreg_genes.drop(columns = [\"_merge\"], inplace = True)\n",
    "\n",
    "    # Reset the indices\n",
    "    upreg_genes = upreg_genes.reset_index(drop=True)\n",
    "    non_upreg_genes = non_upreg_genes.reset_index(drop=True)\n",
    "    upreg_list.append(upreg_genes)\n",
    "    non_upreg_list.append(non_upreg_genes)"
   ]
  },
  {
   "cell_type": "markdown",
   "id": "7aa4b5b8-c9aa-4688-a0d2-e255a6c9a236",
   "metadata": {},
   "source": [
    "## Step 10\n",
    "Create a set of violin plots that show the distribution of FMRP binding site density in autism genes and non-autism genes. "
   ]
  },
  {
   "cell_type": "code",
   "execution_count": 251,
   "id": "cb909c51-377a-4704-bbaf-c14d6f52aa82",
   "metadata": {},
   "outputs": [],
   "source": [
    "# Use the permutation test to determine if the FMRP binding site density is significantly\n",
    "# different for ASD genes.\n",
    "\n",
    "p_up_list = []\n",
    "p_down_list = []\n",
    "for down, non_down, up, non_up in zip(downreg_list, non_downreg_list,\n",
    "                                      upreg_list, non_upreg_list):\n",
    "\n",
    "    up_test = stats.ttest_ind(up.density_all, non_up.density_all, equal_var = True,\n",
    "                nan_policy = \"omit\", alternative = \"greater\")\n",
    "\n",
    "    down_test = stats.ttest_ind(down.density_all, non_down.density_all, equal_var = True,\n",
    "                nan_policy = \"omit\", alternative = \"greater\")\n",
    "    \n",
    "    p_up_list.append(round(up_test[1], 6))\n",
    "    p_down_list.append(round(down_test[1], 6))"
   ]
  },
  {
   "cell_type": "code",
   "execution_count": 252,
   "id": "51ba227a-8794-4b11-a62b-e778c4949ee0",
   "metadata": {},
   "outputs": [
    {
     "data": {
      "text/plain": [
       "[0.003249, 0.000447, 1.0, 0.999996, 1.0, 0.0]"
      ]
     },
     "execution_count": 252,
     "metadata": {},
     "output_type": "execute_result"
    }
   ],
   "source": [
    "p_down_list"
   ]
  },
  {
   "cell_type": "code",
   "execution_count": 249,
   "id": "a44e6e15-dcc2-48c3-a8a9-74ee6b03d1fe",
   "metadata": {},
   "outputs": [],
   "source": [
    "downreg_density_list = [downreg_list[0].density_all,\n",
    "                     downreg_list[1].density_all, \n",
    "                     downreg_list[2].density_all, \n",
    "                     downreg_list[3].density_all,\n",
    "                     downreg_list[4].density_all]\n",
    "other_density_list = [non_downreg_list[0].density_all,\n",
    "                     non_downreg_list[1].density_all, \n",
    "                     non_downreg_list[2].density_all, \n",
    "                     non_downreg_list[3].density_all,\n",
    "                     non_downreg_list[4].density_all]"
   ]
  },
  {
   "cell_type": "code",
   "execution_count": 256,
   "id": "7f10115c-0890-4800-8567-81ae24f3743e",
   "metadata": {},
   "outputs": [
    {
     "data": {
      "image/png": "[encoded data removed]",
      "text/plain": [
       "<Figure size 864x432 with 1 Axes>"
      ]
     },
     "metadata": {
      "needs_background": "light"
     },
     "output_type": "display_data"
    }
   ],
   "source": [
    "ticks = [\"GAC\", \"WGGA\", \"ACUK\", \"TTTT\", \"TAY\"]\n",
    "\n",
    "def set_box_color(bp, color):\n",
    "    plt.setp(bp['boxes'], color=color)\n",
    "    plt.setp(bp['whiskers'], color=color)\n",
    "    plt.setp(bp['caps'], color=color)\n",
    "    plt.setp(bp['medians'], color=color)\n",
    "\n",
    "plt.figure(figsize = (12,6))\n",
    "\n",
    "bpl = plt.boxplot(downreg_density_list, positions=np.array(range(len(downreg_density_list)))*2.0-0.4, sym='', widths=0.6)\n",
    "bpr = plt.boxplot(other_density_list, positions=np.array(range(len(other_density_list)))*2.0+0.4, sym='', widths=0.6)\n",
    "set_box_color(bpl, \"blue\") # colors are from http://colorbrewer2.org/\n",
    "set_box_color(bpr, 'red')\n",
    "\n",
    "# draw temporary red and blue lines and use them to create a legend\n",
    "plt.plot([], c=\"blue\", label='Downregulated')\n",
    "plt.plot([], c='red', label='Non-Downregulated')\n",
    "plt.legend()\n",
    "\n",
    "plt.xticks(range(0, len(ticks) * 2, 2), ticks, fontsize = 14)\n",
    "plt.xlim(-2, len(ticks)*2)\n",
    "plt.tight_layout()\n",
    "plt.savefig('boxcompare.png')\n",
    "plt.ylabel(\"Count Density\", fontsize = 16)\n",
    "plt.xlabel(\"Motif\", fontsize = 16)\n",
    "plt.title(\"Mouse genes all sizes\", fontsize = 18)\n",
    "\n",
    "plt.savefig(figure_path + \"mouse_down_freq.pdf\")"
   ]
  },
  {
   "cell_type": "code",
   "execution_count": 254,
   "id": "593d6d39-29ab-45cc-b729-5b2926b76dad",
   "metadata": {},
   "outputs": [],
   "source": [
    "upreg_density_list = [upreg_list[0].density_all,\n",
    "                     upreg_list[1].density_all, \n",
    "                     upreg_list[2].density_all, \n",
    "                     upreg_list[3].density_all,\n",
    "                     upreg_list[4].density_all]\n",
    "non_upreg_density_list = [non_upreg_list[0].density_all,\n",
    "                     non_upreg_list[1].density_all, \n",
    "                     non_upreg_list[2].density_all, \n",
    "                     non_upreg_list[3].density_all,\n",
    "                     non_upreg_list[4].density_all]"
   ]
  },
  {
   "cell_type": "code",
   "execution_count": 257,
   "id": "88791820-85fd-4bc6-8a9c-4130fac93a12",
   "metadata": {},
   "outputs": [
    {
     "data": {
      "image/png": "[encoded data removed]",
      "text/plain": [
       "<Figure size 864x432 with 1 Axes>"
      ]
     },
     "metadata": {
      "needs_background": "light"
     },
     "output_type": "display_data"
    }
   ],
   "source": [
    "ticks = [\"GAC\", \"WGGA\", \"ACUK\", \"TTTT\", \"TAY\"]\n",
    "\n",
    "def set_box_color(bp, color):\n",
    "    plt.setp(bp['boxes'], color=color)\n",
    "    plt.setp(bp['whiskers'], color=color)\n",
    "    plt.setp(bp['caps'], color=color)\n",
    "    plt.setp(bp['medians'], color=color)\n",
    "\n",
    "plt.figure(figsize = (12,6))\n",
    "\n",
    "bpl = plt.boxplot(upreg_density_list, positions=np.array(range(len(upreg_density_list)))*2.0-0.4, sym='', widths=0.6)\n",
    "bpr = plt.boxplot(non_upreg_density_list, positions=np.array(range(len(non_upreg_density_list)))*2.0+0.4, sym='', widths=0.6)\n",
    "set_box_color(bpl, 'blue') # colors are from http://colorbrewer2.org/\n",
    "set_box_color(bpr, 'red')\n",
    "\n",
    "# draw temporary red and blue lines and use them to create a legend\n",
    "plt.plot([], c='blue', label='upregulated')\n",
    "plt.plot([], c='red', label='Non-upregulated')\n",
    "plt.legend()\n",
    "\n",
    "plt.xticks(range(0, len(ticks) * 2, 2), ticks, fontsize = 14)\n",
    "plt.xlim(-2, len(ticks)*2)\n",
    "plt.tight_layout()\n",
    "plt.ylabel(\"Count Density\", fontsize = 16)\n",
    "plt.xlabel(\"Motif\", fontsize = 16)\n",
    "plt.title(\"Mouse Genes all sizes\", fontsize = 18)\n",
    "\n",
    "plt.savefig(figure_path + \"mouse_up_freq.pdf\")"
   ]
  },
  {
   "cell_type": "code",
   "execution_count": 261,
   "id": "0798d9a6-385d-4202-bae1-0c9d36c004f3",
   "metadata": {},
   "outputs": [
    {
     "data": {
      "text/plain": [
       "['GAC', 'WGGA', 'ACUK', 'TTTT', 'TAY']"
      ]
     },
     "execution_count": 261,
     "metadata": {},
     "output_type": "execute_result"
    }
   ],
   "source": [
    "motif_list"
   ]
  },
  {
   "cell_type": "code",
   "execution_count": 264,
   "id": "4e621cb5-24c7-4b63-a4cc-c9d8ae9e6842",
   "metadata": {},
   "outputs": [],
   "source": [
    "for up, non_up, down, non_down, motif in zip(upreg_list, non_upreg_list,\n",
    "                                      downreg_list, non_downreg_list, motif_list):\n",
    "    means = [(up.density_all).mean(axis=0),(non_up.density_all).mean(axis=0),\n",
    "                (down.density_all).mean(axis=0),\n",
    "                (non_down.density_all).mean(axis=0)]\n",
    "    samples = [\"Upregulated\", \"Non-upregulated Short\", \"Downregulated\", \"Non-downregulated\"]\n",
    "\n",
    "    # Get the fraction of non-downregulated genes above the mean count of the downregulated genes. \n",
    "    up_frac = len(non_up.query(\"density_all > \" + str(means[0])).density_all)/len(non_up.density_all)\n",
    "    down_frac = len(non_down.query(\"density_all > \" + str(means[2])).density_all)/len(non_down.density_all)\n",
    "    \n",
    "    up_test = stats.ttest_ind(up.density_all, non_up.density_all, equal_var = True,\n",
    "                nan_policy = \"omit\", alternative = \"greater\")\n",
    "\n",
    "    down_test = stats.ttest_ind(down.density_all, non_down.density_all, equal_var = True,\n",
    "                nan_policy = \"omit\", alternative = \"greater\")\n",
    "    \n",
    "    p_values = [np.nan, round(up_test[1],6), np.nan, round(down_test[1],6)]\n",
    "\n",
    "    frac = [np.nan, up_frac, np.nan, down_frac]\n",
    "\n",
    "    df = pd.DataFrame(zip(samples,means,frac, p_values), columns = [\"Sample\", \"Mean \" + motif + \" Frequency\", \"Fraction of Non-downregulated above mean\", \"P values\"])\n",
    "    df.to_csv(table_path + motif + \"_mouse_data\", index = False)"
   ]
  },
  {
   "cell_type": "markdown",
   "id": "9ab1f3dc-fe8c-47ef-9161-7304fa335394",
   "metadata": {
    "tags": []
   },
   "source": [
    "## Step 11\n",
    "Create a set of violin plots that show the distribution of total FMRP binding sites and CDS length for autism and non-autism genes"
   ]
  },
  {
   "cell_type": "code",
   "execution_count": 221,
   "id": "53187112-7f70-44cc-947b-1160ca4d243b",
   "metadata": {},
   "outputs": [],
   "source": [
    "# Use the permutation test to determine if the FMRP binding site density is significantly\n",
    "# different for ASD genes.\n",
    "total_count_p_list = []\n",
    "for downreg, non_downreg in zip(downreg_list, non_downreg_list):\n",
    "\n",
    "    test = stats.ttest_ind(downreg.total_all, non_downreg.total_all, equal_var = True,\n",
    "                nan_policy = \"omit\")\n",
    "\n",
    "    total_count_p_list.append(test[1])"
   ]
  },
  {
   "cell_type": "code",
   "execution_count": 222,
   "id": "5cf034fb-80a8-414e-b67b-24dda95c6722",
   "metadata": {},
   "outputs": [
    {
     "data": {
      "text/plain": [
       "[4.243014499048481e-132,\n",
       " 3.859080455569281e-120,\n",
       " 1.8718804599521485e-56,\n",
       " 2.1504607550822133e-10,\n",
       " 1.0746100030803156e-37,\n",
       " 1.267195589428343e-168]"
      ]
     },
     "execution_count": 222,
     "metadata": {},
     "output_type": "execute_result"
    }
   ],
   "source": [
    "total_count_p_list"
   ]
  },
  {
   "cell_type": "code",
   "execution_count": 206,
   "id": "058c653e-2b91-4db6-b8dc-373b66d42f99",
   "metadata": {},
   "outputs": [],
   "source": [
    "downreg_total_list = [downreg_list[1].total_all, \n",
    "                     downreg_list[2].total_all, \n",
    "                     downreg_list[5].total_all]\n",
    "other_total_list = [non_downreg_list[1].total_all, \n",
    "                     non_downreg_list[2].total_all, \n",
    "                     non_downreg_list[5].total_all]"
   ]
  },
  {
   "cell_type": "code",
   "execution_count": 226,
   "id": "c972671b-2368-42ba-9bc7-917b44e9d573",
   "metadata": {},
   "outputs": [
    {
     "data": {
      "image/png": "[encoded data removed]",
      "text/plain": [
       "<Figure size 864x432 with 1 Axes>"
      ]
     },
     "metadata": {
      "needs_background": "light"
     },
     "output_type": "display_data"
    }
   ],
   "source": [
    "ticks = [\"WGGA\", \"ACUK\", \"Random\"]\n",
    "\n",
    "def set_box_color(bp, color):\n",
    "    plt.setp(bp['boxes'], color=color)\n",
    "    plt.setp(bp['whiskers'], color=color)\n",
    "    plt.setp(bp['caps'], color=color)\n",
    "    plt.setp(bp['medians'], color=color)\n",
    "\n",
    "plt.figure(figsize = (12,6))\n",
    "\n",
    "bpl = plt.boxplot(downreg_total_list, positions=np.array(range(len(downreg_total_list)))*2.0-0.4, sym='', widths=0.6)\n",
    "bpr = plt.boxplot(other_total_list, positions=np.array(range(len(other_total_list)))*2.0+0.4, sym='', widths=0.6)\n",
    "set_box_color(bpl, \"purple\") # colors are from http://colorbrewer2.org/\n",
    "set_box_color(bpr, 'green')\n",
    "\n",
    "# draw temporary red and blue lines and use them to create a legend\n",
    "plt.plot([], c=\"purple\", label='Downregulated')\n",
    "plt.plot([], c='green', label='Non-Downregulated')\n",
    "plt.legend()\n",
    "\n",
    "plt.xticks(range(0, len(ticks) * 2, 2), ticks, fontsize = 14)\n",
    "plt.xlim(-2, len(ticks)*2)\n",
    "plt.tight_layout()\n",
    "plt.savefig('boxcompare.png')\n",
    "plt.ylabel(\"Total Count\", fontsize = 16)\n",
    "plt.xlabel(\"Motif\", fontsize = 16)\n",
    "plt.title(\"Mouse All Gene Lengths\", fontsize = 18)\n",
    "\n",
    "plt.savefig(figure_path + \"mouse_all_counts.pdf\")"
   ]
  },
  {
   "cell_type": "markdown",
   "id": "1d4a8cbf-3e76-425b-b96a-b4eaf319dac3",
   "metadata": {},
   "source": [
    "# Conclusions:\n",
    "from the data I am currently able to observe, I can conclude that although the total number of binding sites is higher in ASD gene populations, this is basically entirely dependent on the fact that the ASD genes are generally longer. When looking at binding site frequency/density, there is essentially no change whatsoever. "
   ]
  },
  {
   "cell_type": "code",
   "execution_count": null,
   "id": "9e1fdb3b-3d1e-47b1-a4ed-63411c7a2b16",
   "metadata": {},
   "outputs": [],
   "source": []
  }
 ],
 "metadata": {
  "kernelspec": {
   "display_name": "Python 3 (ipykernel)",
   "language": "python",
   "name": "python3"
  },
  "language_info": {
   "codemirror_mode": {
    "name": "ipython",
    "version": 3
   },
   "file_extension": ".py",
   "mimetype": "text/x-python",
   "name": "python",
   "nbconvert_exporter": "python",
   "pygments_lexer": "ipython3",
   "version": "3.8.12"
  }
 },
 "nbformat": 4,
 "nbformat_minor": 5
}
