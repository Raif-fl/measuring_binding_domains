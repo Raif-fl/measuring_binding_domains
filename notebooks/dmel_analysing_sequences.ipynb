{
 "cells": [
  {
   "cell_type": "markdown",
   "id": "3183391c-a14f-4254-b2ed-6f55b95937d3",
   "metadata": {},
   "source": [
    "# NOTES:\n",
    "This is still identical to the mouse dataset as I have still not found out how to find autism genes for flies, is there any such thing as autism in flies? need to look into what the equivalent targets in flies \n",
    "\n",
    "It appears that apris has some good data for the fly primary isoform, oh, it actually has something good for mouse as well. I can start implementing this soon.  "
   ]
  },
  {
   "cell_type": "markdown",
   "id": "baf1a8b0-cac7-4961-a879-591b20d9b3c0",
   "metadata": {},
   "source": [
    "## Step 1:\n",
    "Let the program know where to find your tools file."
   ]
  },
  {
   "cell_type": "code",
   "execution_count": 42,
   "id": "f81eafa3-0e6c-4ed6-b0e1-f0b702a3a622",
   "metadata": {},
   "outputs": [],
   "source": [
    "import sys, os\n",
    "sys.path.append(os.path.join(os.path.realpath(\"..\"), \"Tools\"))"
   ]
  },
  {
   "cell_type": "markdown",
   "id": "39a9dfbc-f857-44bb-b78a-1e6e90a785b8",
   "metadata": {},
   "source": [
    "## Step 2:\n",
    "Load up all of the necessary packages"
   ]
  },
  {
   "cell_type": "code",
   "execution_count": 43,
   "id": "1f2fa5d5-89fd-4b2b-859f-c6d7f26148e3",
   "metadata": {},
   "outputs": [],
   "source": [
    "from plastid import BAMGenomeArray,GTF2_TranscriptAssembler,Transcript\n",
    "import numpy as np\n",
    "import pandas as pd\n",
    "from plastid.plotting.plots import *\n",
    "import utilities as utils\n",
    "import matplotlib.pyplot as plt\n",
    "from matplotlib.pyplot import figure\n",
    "from scipy import stats\n",
    "from Bio import SeqIO\n",
    "from Bio.Alphabet import generic_dna\n",
    "from Bio.Seq import Seq\n",
    "\n",
    "%matplotlib inline"
   ]
  },
  {
   "cell_type": "markdown",
   "id": "d61428b8-05ef-4f2b-9713-b1d80b0589b3",
   "metadata": {},
   "source": [
    "## Step 3:\n",
    "define the paths to our reference genome and annotation files as well as the path to our list of autism spectrum disorder (ASD) genes"
   ]
  },
  {
   "cell_type": "code",
   "execution_count": 72,
   "id": "a2d6b04d-3d04-47b2-b2dc-dd01ca2a80b5",
   "metadata": {},
   "outputs": [],
   "source": [
    "reference_path = \"/home/keeganfl/Desktop/Work_Fall_2021/Protocol_test/genome/dmel/\"\n",
    "data_path = \"/home/keeganfl/Desktop/measuring_binding_domains/data/\"\n",
    "figure_path = \"/home/keeganfl/Desktop/measuring_binding_domains/Q20/Figures/\"\n",
    "table_path = \"/home/keeganfl/Desktop/measuring_binding_domains/Q20/Tables/\""
   ]
  },
  {
   "cell_type": "markdown",
   "id": "b40fc270-0de1-416b-8fe0-8e6fd7a721e1",
   "metadata": {},
   "source": [
    "## Step 4: \n",
    "load the transcript and genome files so that we can find the sequence of each gene"
   ]
  },
  {
   "cell_type": "code",
   "execution_count": 4,
   "id": "f35accf9-0fb5-41c0-a3ed-e7191dcaf587",
   "metadata": {},
   "outputs": [],
   "source": [
    "# Loading up the transcrip[t information.\n",
    "transcripts = list(GTF2_TranscriptAssembler(open(reference_path + \"Drosophila_melanogaster.BDGP6.32.103.gtf\"),return_type=Transcript))\n",
    "\n",
    "# Loading up the genome information. \n",
    "genome = SeqIO.to_dict(SeqIO.parse(open(reference_path + \"Drosophila_melanogaster.BDGP6.32.dna.toplevel.fa\"),\"fasta\"))"
   ]
  },
  {
   "cell_type": "markdown",
   "id": "81090ac1-e640-408b-a64c-d9dcbee61b83",
   "metadata": {},
   "source": [
    "## Step 5:\n",
    "Create a dataframe that contains the gene name, gene length, and the counts for the FMRP target mRNA sequences"
   ]
  },
  {
   "cell_type": "code",
   "execution_count": 163,
   "id": "eb0c0ba5-04cd-445a-899e-263b353365c9",
   "metadata": {
    "tags": []
   },
   "outputs": [
    {
     "name": "stderr",
     "output_type": "stream",
     "text": [
      "---------------------------------------------------------------------------\n",
      "RuntimeWarning\n",
      "invalid value encountered in true_divide\n",
      "in /home/keeganfl/Desktop/measuring_binding_domains/Tools/utilities.py, line 66:\n",
      "\n",
      "64     # get the count density for each region.\n",
      "65     density_cds = np.array(total_cds)/np.array(lengths_cds)\n",
      "66     density_utr5 = np.array(total_utr5)/np.array(lengths_utr5)\n",
      "67     density_utr3 = np.array(total_utr3)/np.array(lengths_utr3)\n",
      "68     density_all = np.array(total_all)/np.array(lengths_all)\n",
      "\n",
      "---------------------------------------------------------------------------\n",
      "---------------------------------------------------------------------------\n",
      "RuntimeWarning\n",
      "invalid value encountered in true_divide\n",
      "in /home/keeganfl/Desktop/measuring_binding_domains/Tools/utilities.py, line 67:\n",
      "\n",
      "65     density_cds = np.array(total_cds)/np.array(lengths_cds)\n",
      "66     density_utr5 = np.array(total_utr5)/np.array(lengths_utr5)\n",
      "67     density_utr3 = np.array(total_utr3)/np.array(lengths_utr3)\n",
      "68     density_all = np.array(total_all)/np.array(lengths_all)\n",
      "69     \n",
      "\n",
      "---------------------------------------------------------------------------\n"
     ]
    }
   ],
   "source": [
    "# Choose the motif to analyze\n",
    "motif_name = \"WGGA\"\n",
    "motif = [\"UGGA\", \"AGGA\"]\n",
    "# Create a dataframe with all of the count data I want. \n",
    "temp_counts = utils.counter(transcripts, genome, sites = motif)"
   ]
  },
  {
   "cell_type": "markdown",
   "id": "49a4b06d-4f08-47d7-9dee-4be7048011a7",
   "metadata": {},
   "source": [
    "## Step 6:\n",
    "Load up the list of APRIS genes. This list will include the transcript IDs of all of the primary isoforms, and will be used to select a single transcript for all genes."
   ]
  },
  {
   "cell_type": "code",
   "execution_count": 164,
   "id": "80529316-c35d-44b8-8209-a8fa3226e3cc",
   "metadata": {},
   "outputs": [],
   "source": [
    "# Load up the Apris genes. \n",
    "prin_trans = pd.read_csv(data_path + \"apris_fly_data.txt\", names = [\"gene_name\", \"???\", \"gene_id\", \"rank\"])"
   ]
  },
  {
   "cell_type": "code",
   "execution_count": 165,
   "id": "3de8a6a6-6c9a-45c7-8322-0a667d44bfb0",
   "metadata": {},
   "outputs": [],
   "source": [
    "# Merge the count table with the table of ASD gene names and include an indicator column.\n",
    "fly_counts = pd.merge(temp_counts, prin_trans, how=\"left\", on=\"gene_id\", indicator = True)\n",
    "\n",
    "# Only keep counts with a transcript ID that matched one of the APRIS primary IDs.\n",
    "fly_counts = fly_counts.loc[fly_counts._merge == \"both\"].copy()\n",
    "\n",
    "# Drop any duplicate genes (duplicates may remain if multiple transcripts have identical cds regions).\n",
    "fly_counts.drop_duplicates(subset =\"gene_name_x\",keep = \"first\", inplace = True) \n",
    "\n",
    "# Remove unnecesary columns. \n",
    "fly_counts.drop(columns = [\"gene_name_y\", \"???\", \"rank\", \"_merge\"], inplace = True)"
   ]
  },
  {
   "cell_type": "markdown",
   "id": "a616d1ba-c086-4442-87e6-ae5a8a22f5f6",
   "metadata": {},
   "source": [
    "## Step 7:\n",
    "Load up a list the top 200 most significantly changed genes and then select the 100 most significantly downregulated genes. "
   ]
  },
  {
   "cell_type": "code",
   "execution_count": 166,
   "id": "942fe9d8-d91b-4cf6-a83a-34d448a9ccf4",
   "metadata": {},
   "outputs": [],
   "source": [
    "top_200 = pd.read_csv(data_path + \"dmel_top_200.csv\")\n",
    "top_100 = top_200.query('Fold_change < 1')[0:100]"
   ]
  },
  {
   "cell_type": "markdown",
   "id": "e068fba5-e7b7-4989-91a2-de3a281c60cb",
   "metadata": {},
   "source": [
    "## Step 8:\n",
    "merge the asd_gene_names and the fly counts together based on the shared gene names"
   ]
  },
  {
   "cell_type": "code",
   "execution_count": 167,
   "id": "b0f4283d-e047-4887-a060-ce7c5ba8de8d",
   "metadata": {},
   "outputs": [],
   "source": [
    "temp_df = pd.merge(fly_counts, top_100, how=\"left\", left_on = \"gene_name_x\", right_on = \"gene_ID\", indicator = True)\n",
    "\n",
    "temp_df = temp_df.reset_index(drop=True)\n",
    "\n",
    "# remove extremely long genes as they effect the analysis\n",
    "temp_df = temp_df.drop(temp_df[temp_df.lengths_all > 35000].index)"
   ]
  },
  {
   "cell_type": "markdown",
   "id": "78a4bb10-5a91-44ba-a8fa-138661744929",
   "metadata": {},
   "source": [
    "## Step 9:\n",
    "split the merged table into downreg_genes and non_downreg_genes tables"
   ]
  },
  {
   "cell_type": "code",
   "execution_count": 168,
   "id": "385b0d82-10c5-4be9-9627-3ed42e753ef6",
   "metadata": {},
   "outputs": [],
   "source": [
    "# split it into downreg_genes and non_downreg_genes tables\n",
    "downreg_genes = temp_df.loc[temp_df._merge == \"both\"].copy()\n",
    "\n",
    "non_downreg_genes = temp_df.loc[temp_df._merge == \"left_only\"].copy()\n",
    "\n",
    "# drop the unecessary columns\n",
    "non_downreg_genes.drop(columns = [\"_merge\"], inplace = True)\n",
    "\n",
    "# Reset the indices\n",
    "downreg_genes = downreg_genes.reset_index(drop=True)\n",
    "non_downreg_genes = non_downreg_genes.reset_index(drop=True)"
   ]
  },
  {
   "cell_type": "markdown",
   "id": "2f5a43ee-b2a0-49ac-a83c-a954f0ffb3a4",
   "metadata": {},
   "source": [
    "## Step 10\n",
    "Create a set of violin plots that show the distribution of FMRP binding site density in autism genes and non-autism genes. "
   ]
  },
  {
   "cell_type": "code",
   "execution_count": 169,
   "id": "33e67fcf-6438-459c-b07a-ad06ff1f071c",
   "metadata": {},
   "outputs": [],
   "source": [
    "short_downreg = downreg_genes.query(\"lengths_cds < 1500\")\n",
    "short_other = non_downreg_genes.query(\"lengths_cds < 1500\")\n",
    "\n",
    "long_downreg = downreg_genes.query(\"lengths_cds > 4000\")\n",
    "long_other = non_downreg_genes.query(\"lengths_cds > 4000 & lengths_all < 60000\")"
   ]
  },
  {
   "cell_type": "code",
   "execution_count": 170,
   "id": "ca5126df-b69f-455e-ae8e-d945cd83f5cf",
   "metadata": {},
   "outputs": [],
   "source": [
    "def label_diff(i,j,text,X,Y,ax, y_boost):\n",
    "    x = (X[i]+X[j])/2\n",
    "    y = 1.1*max(Y[i], Y[j])\n",
    "    dx = abs(X[i]-X[j])\n",
    "\n",
    "    props = {'connectionstyle':'bar','arrowstyle':'-',\\\n",
    "                 'shrinkA':40,'shrinkB':40,'linewidth':2}\n",
    "    ax.annotate(text, xy=(X[i]*1.35,y+y_boost), zorder=10)\n",
    "    ax.annotate('', xy=(X[i],y), xytext=(X[j],y), arrowprops=props)"
   ]
  },
  {
   "cell_type": "code",
   "execution_count": 171,
   "id": "111a33f1-7e02-4188-9c26-15aabd61daab",
   "metadata": {},
   "outputs": [
    {
     "name": "stdout",
     "output_type": "stream",
     "text": [
      "Ttest_indResult(statistic=-1.5931744934815502, pvalue=0.9444214533833387)\n",
      "Ttest_indResult(statistic=1.988257541891057, pvalue=0.02355623906967833)\n"
     ]
    }
   ],
   "source": [
    "# Use the permutation test to determine if the FMRP binding site density is significantly\n",
    "# different for ASD genes.\n",
    "short_test = stats.ttest_ind(short_downreg.density_all, short_other.density_all, equal_var = True,\n",
    "                nan_policy = \"omit\", alternative = \"greater\")\n",
    "\n",
    "long_test = stats.ttest_ind(long_downreg.density_all, long_other.density_all, equal_var = True,\n",
    "                nan_policy = \"omit\", alternative = \"greater\")\n",
    "print(short_test)\n",
    "print(long_test)"
   ]
  },
  {
   "cell_type": "code",
   "execution_count": 172,
   "id": "c57d3966-c7cd-47b2-8a6f-08839a49de51",
   "metadata": {},
   "outputs": [],
   "source": [
    "p_short = round(short_test[1], 3)\n",
    "p_long = round(long_test[1], 3)"
   ]
  },
  {
   "cell_type": "code",
   "execution_count": 174,
   "id": "6a696048-eb48-4d11-b528-e93d0e8b6c97",
   "metadata": {},
   "outputs": [
    {
     "data": {
      "image/png": "[encoded data removed]",
      "text/plain": [
       "<Figure size 936x360 with 2 Axes>"
      ]
     },
     "metadata": {
      "needs_background": "light"
     },
     "output_type": "display_data"
    }
   ],
   "source": [
    "# Creating axes objects\n",
    "fig, ax = plt.subplots(1,2, figsize = (13,5))\n",
    "\n",
    "# Adding violin plots\n",
    "violin_parts = ax[0].violinplot([short_downreg.density_all, short_other.density_all], showmeans = True)\n",
    "\n",
    "for pc in violin_parts[\"bodies\"]:\n",
    "    pc.set_facecolor(\"grey\")\n",
    "    pc.set_edgecolor(\"grey\")\n",
    "    \n",
    "for partname in (\"cbars\",\"cmins\",\"cmaxes\",\"cmeans\"):\n",
    "    vp = violin_parts[partname]\n",
    "    vp.set_edgecolor(\"grey\")\n",
    "    \n",
    "violin_parts = ax[1].violinplot([long_downreg.density_all, long_other.density_all], showmeans = True)\n",
    "\n",
    "for pc in violin_parts[\"bodies\"]:\n",
    "    pc.set_facecolor(\"grey\")\n",
    "    pc.set_edgecolor(\"grey\")\n",
    "    \n",
    "for partname in (\"cbars\",\"cmins\",\"cmaxes\",\"cmeans\"):\n",
    "    vp = violin_parts[partname]\n",
    "    vp.set_edgecolor(\"grey\")\n",
    "    \n",
    "# Adding dotplots\n",
    "x = np.random.normal(1, 0.04, size=len(short_downreg.density_all))\n",
    "ax[0].scatter(x, short_downreg.density_all, s = 12, color = \"darkorange\", alpha=0.8)\n",
    "x = np.random.normal(2, 0.04, size=len(short_other.density_all))\n",
    "ax[0].scatter(x, short_other.density_all, s = 12,  color = \"darkturquoise\", alpha=0.8)\n",
    "\n",
    "x = np.random.normal(1, 0.04, size=len(long_downreg.density_all))\n",
    "ax[1].scatter(x, long_downreg.density_all, s = 12, color = \"darkorange\", alpha=0.8)\n",
    "x = np.random.normal(2, 0.04, size=len(long_other.density_all))\n",
    "ax[1].scatter(x, long_other.density_all, s = 12,  color = \"darkturquoise\", alpha=0.8)\n",
    "\n",
    "# Determining x and y axis limits\n",
    "ax[0].set_xlim(0.5,2.5)\n",
    "ax[0].set_ylim(-0.005,0.06)\n",
    "ax[1].set_xlim(0.5,2.5)\n",
    "ax[1].set_ylim(-0.005,0.06)\n",
    "\n",
    "# Labelling the axes.\n",
    "positions = (1,2)\n",
    "labels = (\"FMRP Downreg genes\", \"Other genes\")\n",
    "ax[0].set_xticks(positions, labels, fontsize = 13)\n",
    "ax[1].set_xticks(positions, labels, fontsize = 13)\n",
    "ax[0].set_ylabel(motif_name + \" motif density\", fontsize = 13)\n",
    "ax[1].set_ylabel(motif_name + \" motif density\", fontsize = 13)\n",
    "\n",
    "# Giving plot titles.\n",
    "ax[0].set_title(\"Short genes (cds < 1500 bp)\")\n",
    "ax[1].set_title(\"long genes (cds > 4000 bp)\")\n",
    "\n",
    "# Creating grid lines\n",
    "ax[0].yaxis.grid(linestyle = \"--\")\n",
    "ax[1].yaxis.grid(linestyle = \"--\")\n",
    "\n",
    "# Add P values\n",
    "label_diff(0,1,\"p = \" + str(p_short), [1,2], [0.0001,0.035], ax[0], 0.014)\n",
    "label_diff(0,1,\"p = \" + str(p_long), [1,2], [0.0001,0.022], ax[1], 0.014)\n",
    "\n",
    "# Save the figure\n",
    "fig.savefig(figure_path + \"fly_\" + motif_name + \"_frequency.pdf\")"
   ]
  },
  {
   "cell_type": "code",
   "execution_count": 175,
   "id": "52c1d710-54d1-403f-9727-7bc259c97211",
   "metadata": {},
   "outputs": [],
   "source": [
    "means = [(short_downreg.density_all).mean(axis=0),\n",
    "(short_other.density_all).mean(axis=0),\n",
    "(long_downreg.density_all).mean(axis=0),\n",
    "(long_other.density_all).mean(axis=0)]\n",
    "samples = [\"Fly Downregulated Short\", \"Fly Non-downregulated Short\", \"Fly Downregulated Long\", \"Fly Non-downregulated Long\"]\n",
    "\n",
    "# Get the fraction of non-downregulated genes above the mean count of the downregulated genes. \n",
    "short_frac = len(short_other.query(\"density_all > \" + str(means[0])).density_all)/len(short_other.density_all)\n",
    "long_frac = len(long_other.query(\"density_all > \" + str(means[2])).density_all)/len(long_other.density_all)\n",
    "\n",
    "frac = [np.nan, short_frac, np.nan, long_frac]\n",
    "\n",
    "df = pd.DataFrame(zip(samples,means,frac), columns = [\"Sample\", \"Mean \" + motif_name + \" Frequency\", \"Fraction of Non-downregulated above mean\"])\n",
    "df.to_csv(table_path + motif_name + \"_fly_data\")"
   ]
  },
  {
   "cell_type": "markdown",
   "id": "d50d9e26-35b8-4819-a90c-f6f4d942f3e7",
   "metadata": {
    "tags": []
   },
   "source": [
    "## Step 11\n",
    "Create a set of violin plots that show the distribution of total FMRP binding sites and CDS length for autism and non-autism genes"
   ]
  },
  {
   "cell_type": "code",
   "execution_count": 17,
   "id": "063cba59-7455-464b-8af8-2d667186bd33",
   "metadata": {},
   "outputs": [
    {
     "data": {
      "image/png": "[encoded data removed]",
      "text/plain": [
       "<Figure size 432x360 with 1 Axes>"
      ]
     },
     "metadata": {
      "needs_background": "light"
     },
     "output_type": "display_data"
    }
   ],
   "source": [
    "# Creating axes objects\n",
    "fig, ax = plt.subplots(1,1, figsize = (6,5))\n",
    "\n",
    "# Adding violin plots\n",
    "violin_parts = ax.violinplot([downreg_genes.total_all, non_downreg_genes.total_all], showmeans = True)\n",
    "\n",
    "for pc in violin_parts[\"bodies\"]:\n",
    "    pc.set_facecolor(\"grey\")\n",
    "    pc.set_edgecolor(\"grey\")\n",
    "    \n",
    "for partname in (\"cbars\",\"cmins\",\"cmaxes\",\"cmeans\"):\n",
    "    vp = violin_parts[partname]\n",
    "    vp.set_edgecolor(\"grey\")\n",
    "    \n",
    "# Adding dotplots\n",
    "x = np.random.normal(1, 0.04, size=len(downreg_genes.total_all))\n",
    "ax.scatter(x, downreg_genes.total_all, s = 12, color = \"green\", alpha=0.8)\n",
    "x = np.random.normal(2, 0.04, size=len(non_downreg_genes.total_all))\n",
    "ax.scatter(x, non_downreg_genes.total_all, s = 12,  color = \"purple\", alpha=0.8)\n",
    "\n",
    "# Determining x and y axis limits\n",
    "ax.set_xlim(0.5,2.5)\n",
    "ax.set_ylim(-50,800)\n",
    "\n",
    "# Labelling the axes.\n",
    "positions = (1,2)\n",
    "labels = (\"FMRP Downreg Genes\", \"Other Genes\")\n",
    "ax.set_xticks(positions, labels, fontsize = 13)\n",
    "ax.set_ylabel(\"WGGA ACUK motif count\", fontsize = 13)\n",
    "\n",
    "# Giving plot titles.\n",
    "ax.set_title(\"All gene lengths\")\n",
    "\n",
    "# Creating grid lines\n",
    "ax.yaxis.grid(linestyle = \"--\")\n",
    "    \n",
    "# Add P values\n",
    "label_diff(0,1,\"p = 0.0008\", [1,2], [0.02,500], ax, 180)\n",
    "\n",
    "# Save the figure\n",
    "fig.savefig(save_path + \"fly_total_motifs.pdf\")"
   ]
  },
  {
   "cell_type": "code",
   "execution_count": 166,
   "id": "d97d9c8f-3375-4dd7-bdf4-4f8ed7bcc2b5",
   "metadata": {},
   "outputs": [
    {
     "name": "stdout",
     "output_type": "stream",
     "text": [
      "Ttest_indResult(statistic=16.758711511849906, pvalue=0.0)\n"
     ]
    }
   ],
   "source": [
    "# Use the permutation test to determine if the total FMRP binding sites and length\n",
    "# Are significantly different between all other genes. \n",
    "test = stats.ttest_ind(downreg_genes.total_all, non_downreg_genes.total_all, equal_var = True,\n",
    "                nan_policy = \"omit\", permutations = 3000)\n",
    "print(test)"
   ]
  },
  {
   "cell_type": "markdown",
   "id": "1d4a8cbf-3e76-425b-b96a-b4eaf319dac3",
   "metadata": {},
   "source": [
    "# Conclusions:\n",
    "from the data I am currently able to observe, I can conclude that although the total number of binding sites is higher in ASD gene populations, this is basically entirely dependent on the fact that the ASD genes are generally longer. When looking at binding site frequency/density, there is no biologically significant change even if there is a slight statistical significance.  "
   ]
  },
  {
   "cell_type": "code",
   "execution_count": null,
   "id": "fcb635bb-0347-4a85-871b-f96f22a72e36",
   "metadata": {},
   "outputs": [],
   "source": []
  }
 ],
 "metadata": {
  "kernelspec": {
   "display_name": "Python 3 (ipykernel)",
   "language": "python",
   "name": "python3"
  },
  "language_info": {
   "codemirror_mode": {
    "name": "ipython",
    "version": 3
   },
   "file_extension": ".py",
   "mimetype": "text/x-python",
   "name": "python",
   "nbconvert_exporter": "python",
   "pygments_lexer": "ipython3",
   "version": "3.8.12"
  }
 },
 "nbformat": 4,
 "nbformat_minor": 5
}
