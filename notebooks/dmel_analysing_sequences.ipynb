{
 "cells": [
  {
   "cell_type": "markdown",
   "id": "3183391c-a14f-4254-b2ed-6f55b95937d3",
   "metadata": {},
   "source": [
    "# NOTES:\n",
    "This is still identical to the mouse dataset as I have still not found out how to find autism genes for flies, is there any such thing as autism in flies? need to look into what the equivalent targets in flies \n",
    "\n",
    "It appears that apris has some good data for the fly primary isoform, oh, it actually has something good for mouse as well. I can start implementing this soon.  "
   ]
  },
  {
   "cell_type": "markdown",
   "id": "baf1a8b0-cac7-4961-a879-591b20d9b3c0",
   "metadata": {},
   "source": [
    "## Step 1:\n",
    "Let the program know where to find your tools file."
   ]
  },
  {
   "cell_type": "code",
   "execution_count": 42,
   "id": "f81eafa3-0e6c-4ed6-b0e1-f0b702a3a622",
   "metadata": {},
   "outputs": [],
   "source": [
    "import sys, os\n",
    "sys.path.append(os.path.join(os.path.realpath(\"..\"), \"Tools\"))"
   ]
  },
  {
   "cell_type": "markdown",
   "id": "39a9dfbc-f857-44bb-b78a-1e6e90a785b8",
   "metadata": {},
   "source": [
    "## Step 2:\n",
    "Load up all of the necessary packages"
   ]
  },
  {
   "cell_type": "code",
   "execution_count": 43,
   "id": "1f2fa5d5-89fd-4b2b-859f-c6d7f26148e3",
   "metadata": {},
   "outputs": [],
   "source": [
    "from plastid import BAMGenomeArray,GTF2_TranscriptAssembler,Transcript\n",
    "import numpy as np\n",
    "import pandas as pd\n",
    "from plastid.plotting.plots import *\n",
    "import utilities as utils\n",
    "import matplotlib.pyplot as plt\n",
    "from matplotlib.pyplot import figure\n",
    "from scipy import stats\n",
    "from Bio import SeqIO\n",
    "from Bio.Alphabet import generic_dna\n",
    "from Bio.Seq import Seq\n",
    "\n",
    "%matplotlib inline"
   ]
  },
  {
   "cell_type": "markdown",
   "id": "d61428b8-05ef-4f2b-9713-b1d80b0589b3",
   "metadata": {},
   "source": [
    "## Step 3:\n",
    "define the paths to our reference genome and annotation files as well as the path to our list of autism spectrum disorder (ASD) genes"
   ]
  },
  {
   "cell_type": "code",
   "execution_count": 203,
   "id": "a2d6b04d-3d04-47b2-b2dc-dd01ca2a80b5",
   "metadata": {},
   "outputs": [],
   "source": [
    "reference_path = \"/home/keeganfl/Desktop/Work_Fall_2021/Protocol_test/genome/dmel/\"\n",
    "data_path = \"/home/keeganfl/Desktop/measuring_binding_domains/data/\"\n",
    "figure_path = \"/home/keeganfl/Desktop/measuring_binding_domains/Q20/reworked_figures/\"\n",
    "table_path = \"/home/keeganfl/Desktop/measuring_binding_domains/Q20/Tables/\""
   ]
  },
  {
   "cell_type": "markdown",
   "id": "b40fc270-0de1-416b-8fe0-8e6fd7a721e1",
   "metadata": {},
   "source": [
    "## Step 4: \n",
    "load the transcript and genome files so that we can find the sequence of each gene"
   ]
  },
  {
   "cell_type": "code",
   "execution_count": 4,
   "id": "f35accf9-0fb5-41c0-a3ed-e7191dcaf587",
   "metadata": {},
   "outputs": [],
   "source": [
    "# Loading up the transcrip[t information.\n",
    "transcripts = list(GTF2_TranscriptAssembler(open(reference_path + \"Drosophila_melanogaster.BDGP6.32.103.gtf\"),return_type=Transcript))\n",
    "\n",
    "# Loading up the genome information. \n",
    "genome = SeqIO.to_dict(SeqIO.parse(open(reference_path + \"Drosophila_melanogaster.BDGP6.32.dna.toplevel.fa\"),\"fasta\"))"
   ]
  },
  {
   "cell_type": "markdown",
   "id": "c2c52fca-1207-46f4-a7d1-2697af33a173",
   "metadata": {},
   "source": [
    "## Step 5:\n",
    "Create a dataframe that contains the gene name, gene length, and the counts for the FMRP target mRNA sequences"
   ]
  },
  {
   "cell_type": "code",
   "execution_count": 176,
   "id": "b778150d-378b-4ba6-a088-c70e030cdbc5",
   "metadata": {
    "tags": []
   },
   "outputs": [
    {
     "name": "stderr",
     "output_type": "stream",
     "text": [
      "---------------------------------------------------------------------------\n",
      "RuntimeWarning\n",
      "invalid value encountered in true_divide\n",
      "in /home/keeganfl/Desktop/measuring_binding_domains/Tools/utilities.py, line 66:\n",
      "\n",
      "64     # get the count density for each region.\n",
      "65     density_cds = np.array(total_cds)/np.array(lengths_cds)\n",
      "66     density_utr5 = np.array(total_utr5)/np.array(lengths_utr5)\n",
      "67     density_utr3 = np.array(total_utr3)/np.array(lengths_utr3)\n",
      "68     density_all = np.array(total_all)/np.array(lengths_all)\n",
      "\n",
      "---------------------------------------------------------------------------\n",
      "---------------------------------------------------------------------------\n",
      "RuntimeWarning\n",
      "invalid value encountered in true_divide\n",
      "in /home/keeganfl/Desktop/measuring_binding_domains/Tools/utilities.py, line 67:\n",
      "\n",
      "65     density_cds = np.array(total_cds)/np.array(lengths_cds)\n",
      "66     density_utr5 = np.array(total_utr5)/np.array(lengths_utr5)\n",
      "67     density_utr3 = np.array(total_utr3)/np.array(lengths_utr3)\n",
      "68     density_all = np.array(total_all)/np.array(lengths_all)\n",
      "69     \n",
      "\n",
      "---------------------------------------------------------------------------\n"
     ]
    }
   ],
   "source": [
    "# Choose the motif to analyze\n",
    "motif = [\"GAC\"]\n",
    "# Create a dataframe with all of the count data I want. \n",
    "GAC_counts = utils.counter(transcripts, genome, sites = motif)"
   ]
  },
  {
   "cell_type": "code",
   "execution_count": 177,
   "id": "28394a52-e983-4bea-9f53-afcdd9db05f8",
   "metadata": {
    "tags": []
   },
   "outputs": [],
   "source": [
    "# Choose the motif to analyze\n",
    "motif = [\"AGGA\", \"UGGA\"]\n",
    "# Create a dataframe with all of the count data I want. \n",
    "WGGA_counts = utils.counter(transcripts, genome, sites = motif)"
   ]
  },
  {
   "cell_type": "code",
   "execution_count": 178,
   "id": "3adfdf85-d14d-47e7-b291-61ad4bd4c79b",
   "metadata": {
    "tags": []
   },
   "outputs": [],
   "source": [
    "# Choose the motif to analyze\n",
    "motif = [\"ACUU\", \"ACUG\"]\n",
    "# Create a dataframe with all of the count data I want. \n",
    "ACUK_counts = utils.counter(transcripts, genome, sites = motif)"
   ]
  },
  {
   "cell_type": "code",
   "execution_count": 179,
   "id": "2d1b3258-6eb8-42a7-859a-f544bb574c09",
   "metadata": {
    "tags": []
   },
   "outputs": [],
   "source": [
    "# Choose the motif to analyze\n",
    "motif = [\"UUUU\"]\n",
    "# Create a dataframe with all of the count data I want. \n",
    "TTTT_counts = utils.counter(transcripts, genome, sites = motif)"
   ]
  },
  {
   "cell_type": "code",
   "execution_count": 180,
   "id": "55d270c6-9b22-4a5d-afcc-573f04d5550d",
   "metadata": {
    "tags": []
   },
   "outputs": [],
   "source": [
    "# Choose the motif to analyze\n",
    "motif = [\"UAU\", \"UAC\"]\n",
    "# Create a dataframe with all of the count data I want. \n",
    "TAY_counts = utils.counter(transcripts, genome, sites = motif)"
   ]
  },
  {
   "cell_type": "code",
   "execution_count": 181,
   "id": "bb7ce839-7128-475c-9190-1a3054fcdb2b",
   "metadata": {
    "tags": []
   },
   "outputs": [],
   "source": [
    "# Choose the motif to analyze\n",
    "motif = [\"CCAU\", \"CCAG\"]\n",
    "# Create a dataframe with all of the count data I want. \n",
    "random_counts = utils.counter(transcripts, genome, sites = motif)"
   ]
  },
  {
   "cell_type": "code",
   "execution_count": 182,
   "id": "d2cd064a-d139-4039-838a-a319410e45f7",
   "metadata": {},
   "outputs": [],
   "source": [
    "count_list = [GAC_counts, WGGA_counts, ACUK_counts, TTTT_counts, TAY_counts, random_counts]\n",
    "motif_list = [\"GAC\", \"WGGA\", \"ACUK\", \"TTTT\", \"TAY\"]"
   ]
  },
  {
   "cell_type": "markdown",
   "id": "b3271c3a-5cfe-4535-92f1-133fe3e8190c",
   "metadata": {},
   "source": [
    "## Step 6:\n",
    "Load up the list of APRIS genes. This list will include the transcript IDs of all of the primary isoforms, and will be used to select a single transcript for all genes."
   ]
  },
  {
   "cell_type": "code",
   "execution_count": 183,
   "id": "10795766-eb09-47b1-921d-383ea424fadf",
   "metadata": {},
   "outputs": [],
   "source": [
    "# Load up the Apris genes. \n",
    "prin_trans = pd.read_csv(data_path + \"apris_fly_data.txt\", names = [\"gene_name\", \"???\", \"gene_id\", \"rank\"])\n",
    "\n",
    "# Remove the extra decimal point from the gene ids so that the gene IDs are the same. \n",
    "gene_ids = [] \n",
    "for i in prin_trans.gene_id:\n",
    "    gene_ids.append(i.split('.',1)[0])\n",
    "prin_trans.gene_id = gene_ids"
   ]
  },
  {
   "cell_type": "code",
   "execution_count": 185,
   "id": "d09ec0c2-e515-4044-abd9-a8220f84e8a8",
   "metadata": {},
   "outputs": [],
   "source": [
    "new_count_list = []\n",
    "for i in count_list:\n",
    "    # Merge the count table with the table of ASD gene names and include an indicator column.\n",
    "    fly_counts = pd.merge(i, prin_trans, how=\"left\", on=\"gene_id\", indicator = True)\n",
    "\n",
    "    # Only keep counts with a transcript ID that matched one of the APRIS primary IDs.\n",
    "    fly_counts = fly_counts.loc[fly_counts._merge == \"both\"].copy()\n",
    "\n",
    "    # Drop any duplicate genes (duplicates may remain if multiple transcripts have identical cds regions).\n",
    "    fly_counts.drop_duplicates(subset =\"gene_name_x\",keep = \"first\", inplace = True) \n",
    "\n",
    "    # Remove unnecesary columns. \n",
    "    fly_counts.drop(columns = [\"gene_name_y\", \"???\", \"rank\", \"_merge\"], inplace = True)\n",
    "    new_count_list.append(fly_counts)"
   ]
  },
  {
   "cell_type": "markdown",
   "id": "3a3754f8-93b4-4fff-8a15-6a7965d95acc",
   "metadata": {},
   "source": [
    "## Step 7:\n",
    "Load up a list the top 200 most significantly changed genes and then select the 100 most significantly downregulated genes. "
   ]
  },
  {
   "cell_type": "code",
   "execution_count": 217,
   "id": "1368c0cc-5a25-492d-b3fd-ccad270205da",
   "metadata": {},
   "outputs": [],
   "source": [
    "top_400 = pd.read_csv(data_path + \"dmel_top_400.csv\")\n",
    "top_downreg = top_400.query('Fold_change < 1')[0:100]\n",
    "top_upreg = top_400.query('Fold_change > 1')[0:100]"
   ]
  },
  {
   "cell_type": "markdown",
   "id": "3e92faf7-5872-4024-b474-3328fb63128d",
   "metadata": {},
   "source": [
    "## Step 8:\n",
    "merge the asd_gene_names and the fly counts together based on the shared gene names"
   ]
  },
  {
   "cell_type": "code",
   "execution_count": 218,
   "id": "64b43d96-4996-4b85-9bb4-7921e57d9b6b",
   "metadata": {},
   "outputs": [],
   "source": [
    "merged_down = []\n",
    "merged_up = []\n",
    "for i in new_count_list:\n",
    "    temp_df = pd.merge(i, top_downreg, how=\"left\", left_on = \"gene_name_x\", right_on = \"gene_ID\", indicator = True)\n",
    "    temp_df = temp_df.reset_index(drop=True)\n",
    "    # remove extremely long genes as they effect the analysis\n",
    "    temp_df = temp_df.drop(temp_df[temp_df.lengths_all > 35000].index)\n",
    "    merged_down.append(temp_df)\n",
    "    \n",
    "    temp_df = pd.merge(i, top_upreg, how=\"left\", left_on = \"gene_name_x\", right_on = \"gene_ID\", indicator = True)\n",
    "    temp_df = temp_df.reset_index(drop=True)\n",
    "    # remove extremely long genes as they effect the analysis\n",
    "    temp_df = temp_df.drop(temp_df[temp_df.lengths_all > 35000].index)\n",
    "    merged_up.append(temp_df)"
   ]
  },
  {
   "cell_type": "markdown",
   "id": "b7ff253f-ddf2-473b-942e-650858b25650",
   "metadata": {},
   "source": [
    "## Step 9:\n",
    "split the merged table into downreg_genes and non_downreg_genes tables"
   ]
  },
  {
   "cell_type": "code",
   "execution_count": 219,
   "id": "c9a8bebb-4e61-409a-82c8-28ab96d7dcf1",
   "metadata": {},
   "outputs": [],
   "source": [
    "downreg_list = []\n",
    "non_downreg_list = []\n",
    "upreg_list = []\n",
    "non_upreg_list = []\n",
    "\n",
    "for up,down in zip(merged_up, merged_down):\n",
    "    # split it into downreg_genes and non_downreg_genes tables\n",
    "    downreg_genes = down.loc[down._merge == \"both\"].copy()\n",
    "\n",
    "    non_downreg_genes = down.loc[down._merge == \"left_only\"].copy()\n",
    "\n",
    "    # drop the unecessary columns\n",
    "    non_downreg_genes.drop(columns = [\"_merge\"], inplace = True)\n",
    "\n",
    "    # Reset the indices\n",
    "    downreg_genes = downreg_genes.reset_index(drop=True)\n",
    "    non_downreg_genes = non_downreg_genes.reset_index(drop=True)\n",
    "    downreg_list.append(downreg_genes)\n",
    "    non_downreg_list.append(non_downreg_genes)\n",
    "    \n",
    "    # split it into upreg_genes and non_upreg_genes tables\n",
    "    upreg_genes = up.loc[up._merge == \"both\"].copy()\n",
    "\n",
    "    non_upreg_genes = up.loc[up._merge == \"left_only\"].copy()\n",
    "\n",
    "    # drop the unecessary columns\n",
    "    non_upreg_genes.drop(columns = [\"_merge\"], inplace = True)\n",
    "\n",
    "    # Reset the indices\n",
    "    upreg_genes = upreg_genes.reset_index(drop=True)\n",
    "    non_upreg_genes = non_upreg_genes.reset_index(drop=True)\n",
    "    upreg_list.append(upreg_genes)\n",
    "    non_upreg_list.append(non_upreg_genes)"
   ]
  },
  {
   "cell_type": "markdown",
   "id": "a0c9a097-9df7-49bf-a1f7-596378134850",
   "metadata": {},
   "source": [
    "## Step 10\n",
    "Create a set of violin plots that show the distribution of FMRP binding site density in autism genes and non-autism genes. "
   ]
  },
  {
   "cell_type": "code",
   "execution_count": 220,
   "id": "4be98756-59e5-4741-9306-fa1c55e64dcf",
   "metadata": {},
   "outputs": [],
   "source": [
    "# Use the permutation test to determine if the FMRP binding site density is significantly\n",
    "# different for ASD genes.\n",
    "\n",
    "p_up_list = []\n",
    "p_down_list = []\n",
    "for down, non_down, up, non_up in zip(downreg_list, non_downreg_list,\n",
    "                                      upreg_list, non_upreg_list):\n",
    "\n",
    "    up_test = stats.ttest_ind(up.density_all, non_up.density_all, equal_var = True,\n",
    "                nan_policy = \"omit\", alternative = \"greater\")\n",
    "\n",
    "    down_test = stats.ttest_ind(down.density_all, non_down.density_all, equal_var = True,\n",
    "                nan_policy = \"omit\", alternative = \"greater\")\n",
    "    \n",
    "    p_up_list.append(round(up_test[1], 6))\n",
    "    p_down_list.append(round(down_test[1], 6))"
   ]
  },
  {
   "cell_type": "code",
   "execution_count": 221,
   "id": "11c783de-c566-4724-b0e1-b3e931ee075d",
   "metadata": {},
   "outputs": [
    {
     "data": {
      "text/plain": [
       "[0.021737, 0.196928, 0.777466, 0.999778, 0.998466, 0.075329]"
      ]
     },
     "execution_count": 221,
     "metadata": {},
     "output_type": "execute_result"
    }
   ],
   "source": [
    "p_down_list"
   ]
  },
  {
   "cell_type": "code",
   "execution_count": 222,
   "id": "8c855e38-a34f-4d3d-b5a4-fb8f4534d024",
   "metadata": {},
   "outputs": [],
   "source": [
    "downreg_density_list = [downreg_list[0].density_all,\n",
    "                     downreg_list[1].density_all, \n",
    "                     downreg_list[2].density_all, \n",
    "                     downreg_list[3].density_all,\n",
    "                     downreg_list[4].density_all]\n",
    "other_density_list = [non_downreg_list[0].density_all,\n",
    "                     non_downreg_list[1].density_all, \n",
    "                     non_downreg_list[2].density_all, \n",
    "                     non_downreg_list[3].density_all,\n",
    "                     non_downreg_list[4].density_all]"
   ]
  },
  {
   "cell_type": "code",
   "execution_count": 223,
   "id": "089ca167-4d52-461f-8955-ace0da5f281b",
   "metadata": {},
   "outputs": [
    {
     "data": {
      "image/png": "[encoded data removed]",
      "text/plain": [
       "<Figure size 864x432 with 1 Axes>"
      ]
     },
     "metadata": {
      "needs_background": "light"
     },
     "output_type": "display_data"
    }
   ],
   "source": [
    "ticks = [\"GAC\", \"WGGA\", \"ACUK\", \"TTTT\", \"TAY\"]\n",
    "\n",
    "def set_box_color(bp, color):\n",
    "    plt.setp(bp['boxes'], color=color)\n",
    "    plt.setp(bp['whiskers'], color=color)\n",
    "    plt.setp(bp['caps'], color=color)\n",
    "    plt.setp(bp['medians'], color=color)\n",
    "\n",
    "plt.figure(figsize = (12,6))\n",
    "\n",
    "bpl = plt.boxplot(downreg_density_list, positions=np.array(range(len(downreg_density_list)))*2.0-0.4, sym='', widths=0.6)\n",
    "bpr = plt.boxplot(other_density_list, positions=np.array(range(len(other_density_list)))*2.0+0.4, sym='', widths=0.6)\n",
    "set_box_color(bpl, \"blue\") # colors are from http://colorbrewer2.org/\n",
    "set_box_color(bpr, 'red')\n",
    "\n",
    "# draw temporary red and blue lines and use them to create a legend\n",
    "plt.plot([], c=\"blue\", label='Downregulated')\n",
    "plt.plot([], c='red', label='Non-Downregulated')\n",
    "plt.legend()\n",
    "\n",
    "plt.xticks(range(0, len(ticks) * 2, 2), ticks, fontsize = 14)\n",
    "plt.xlim(-2, len(ticks)*2)\n",
    "plt.tight_layout()\n",
    "plt.savefig('boxcompare.png')\n",
    "plt.ylabel(\"Count Density\", fontsize = 16)\n",
    "plt.xlabel(\"Motif\", fontsize = 16)\n",
    "plt.title(\"Fly genes downregulated all sizes\", fontsize = 18)\n",
    "\n",
    "plt.savefig(figure_path + \"fly_down_freq.pdf\")"
   ]
  },
  {
   "cell_type": "code",
   "execution_count": 224,
   "id": "20fd960b-58d0-40d1-96dd-66b571026147",
   "metadata": {},
   "outputs": [],
   "source": [
    "upreg_density_list = [upreg_list[0].density_all,\n",
    "                     upreg_list[1].density_all, \n",
    "                     upreg_list[2].density_all, \n",
    "                     upreg_list[3].density_all,\n",
    "                     upreg_list[4].density_all]\n",
    "non_upreg_density_list = [non_upreg_list[0].density_all,\n",
    "                     non_upreg_list[1].density_all, \n",
    "                     non_upreg_list[2].density_all, \n",
    "                     non_upreg_list[3].density_all,\n",
    "                     non_upreg_list[4].density_all]"
   ]
  },
  {
   "cell_type": "code",
   "execution_count": 225,
   "id": "89ac9bea-748f-4ed3-b346-37f4735d01f8",
   "metadata": {},
   "outputs": [
    {
     "data": {
      "image/png": "[encoded data removed]",
      "text/plain": [
       "<Figure size 864x432 with 1 Axes>"
      ]
     },
     "metadata": {
      "needs_background": "light"
     },
     "output_type": "display_data"
    }
   ],
   "source": [
    "ticks = [\"GAC\", \"WGGA\", \"ACUK\", \"TTTT\", \"TAY\"]\n",
    "\n",
    "def set_box_color(bp, color):\n",
    "    plt.setp(bp['boxes'], color=color)\n",
    "    plt.setp(bp['whiskers'], color=color)\n",
    "    plt.setp(bp['caps'], color=color)\n",
    "    plt.setp(bp['medians'], color=color)\n",
    "\n",
    "plt.figure(figsize = (12,6))\n",
    "\n",
    "bpl = plt.boxplot(upreg_density_list, positions=np.array(range(len(upreg_density_list)))*2.0-0.4, sym='', widths=0.6)\n",
    "bpr = plt.boxplot(non_upreg_density_list, positions=np.array(range(len(non_upreg_density_list)))*2.0+0.4, sym='', widths=0.6)\n",
    "set_box_color(bpl, 'blue') # colors are from http://colorbrewer2.org/\n",
    "set_box_color(bpr, 'red')\n",
    "\n",
    "# draw temporary red and blue lines and use them to create a legend\n",
    "plt.plot([], c='blue', label='upregulated')\n",
    "plt.plot([], c='red', label='Non-upregulated')\n",
    "plt.legend()\n",
    "\n",
    "plt.xticks(range(0, len(ticks) * 2, 2), ticks, fontsize = 14)\n",
    "plt.xlim(-2, len(ticks)*2)\n",
    "plt.tight_layout()\n",
    "plt.ylabel(\"Count Density\", fontsize = 16)\n",
    "plt.xlabel(\"Motif\", fontsize = 16)\n",
    "plt.title(\"Fly Genes upregulated all sizes\", fontsize = 18)\n",
    "\n",
    "plt.savefig(figure_path + \"fly_up_freq.pdf\")"
   ]
  },
  {
   "cell_type": "code",
   "execution_count": 226,
   "id": "aa8edb31-cd28-4507-8c57-d294c0740b98",
   "metadata": {},
   "outputs": [
    {
     "data": {
      "text/plain": [
       "['GAC', 'WGGA', 'ACUK', 'TTTT', 'TAY']"
      ]
     },
     "execution_count": 226,
     "metadata": {},
     "output_type": "execute_result"
    }
   ],
   "source": [
    "motif_list"
   ]
  },
  {
   "cell_type": "code",
   "execution_count": 229,
   "id": "86baabc2-3a30-4f36-9eef-775549ec5b50",
   "metadata": {},
   "outputs": [],
   "source": [
    "for up, non_up, down, non_down, motif in zip(upreg_list, non_upreg_list,\n",
    "                                      downreg_list, non_downreg_list, motif_list):\n",
    "    means = [(up.density_all).mean(axis=0),(non_up.density_all).mean(axis=0),\n",
    "                (down.density_all).mean(axis=0),\n",
    "                (non_down.density_all).mean(axis=0)]\n",
    "    samples = [\"Upregulated\", \"Non-upregulated Short\", \"Downregulated\", \"Non-downregulated\"]\n",
    "\n",
    "    # Get the fraction of non-downregulated genes above the mean count of the downregulated genes. \n",
    "    up_frac = len(non_up.query(\"density_all > \" + str(means[0])).density_all)/len(non_up.density_all)\n",
    "    down_frac = len(non_down.query(\"density_all > \" + str(means[2])).density_all)/len(non_down.density_all)\n",
    "    \n",
    "    up_test = stats.ttest_ind(up.density_all, non_up.density_all, equal_var = True,\n",
    "                nan_policy = \"omit\", alternative = \"greater\")\n",
    "\n",
    "    down_test = stats.ttest_ind(down.density_all, non_down.density_all, equal_var = True,\n",
    "                nan_policy = \"omit\", alternative = \"greater\")\n",
    "    \n",
    "    p_values = [np.nan, round(up_test[1],6), np.nan, round(down_test[1],6)]\n",
    "\n",
    "    frac = [np.nan, up_frac, np.nan, down_frac]\n",
    "\n",
    "    df = pd.DataFrame(zip(samples,means,frac, p_values), columns = [\"Sample\", \"Mean \" + motif + \" Frequency\", \"Fraction of Non-downregulated above mean\", \"P values\"])\n",
    "    df.to_csv(table_path + motif + \"_fly_data\", index = False)"
   ]
  },
  {
   "cell_type": "markdown",
   "id": "90a327dd-934c-44f4-8e10-f462fa40f48f",
   "metadata": {
    "tags": []
   },
   "source": [
    "## Step 11\n",
    "Create a set of violin plots that show the distribution of total FMRP binding sites and CDS length for autism and non-autism genes"
   ]
  },
  {
   "cell_type": "code",
   "execution_count": 199,
   "id": "98e6026a-3b67-4259-9ce9-10ef33c3af36",
   "metadata": {},
   "outputs": [],
   "source": [
    "# Use the permutation test to determine if the FMRP binding site density is significantly\n",
    "# different for ASD genes.\n",
    "total_count_p_list = []\n",
    "for downreg, non_downreg in zip(downreg_list, non_downreg_list):\n",
    "\n",
    "    test = stats.ttest_ind(downreg.total_all, non_downreg.total_all, equal_var = True,\n",
    "                nan_policy = \"omit\")\n",
    "\n",
    "    total_count_p_list.append(test[1])"
   ]
  },
  {
   "cell_type": "code",
   "execution_count": 214,
   "id": "e6a1929e-da73-4c0b-9e64-5248ab81e635",
   "metadata": {},
   "outputs": [
    {
     "data": {
      "text/plain": [
       "2.214474026548686e-53"
      ]
     },
     "execution_count": 214,
     "metadata": {},
     "output_type": "execute_result"
    }
   ],
   "source": [
    "total_count_p_list[5]"
   ]
  },
  {
   "cell_type": "code",
   "execution_count": 201,
   "id": "734cf0d6-9ed6-401b-bcde-51bfb597eef4",
   "metadata": {},
   "outputs": [],
   "source": [
    "downreg_total_list = [downreg_list[1].total_all, \n",
    "                     downreg_list[2].total_all, \n",
    "                     downreg_list[5].total_all]\n",
    "other_total_list = [non_downreg_list[1].total_all, \n",
    "                     non_downreg_list[2].total_all, \n",
    "                     non_downreg_list[5].total_all]"
   ]
  },
  {
   "cell_type": "code",
   "execution_count": 208,
   "id": "9d30b2c9-fd92-4c2e-8363-f7aedeb73229",
   "metadata": {},
   "outputs": [
    {
     "data": {
      "image/png": "[encoded data removed]",
      "text/plain": [
       "<Figure size 864x432 with 1 Axes>"
      ]
     },
     "metadata": {
      "needs_background": "light"
     },
     "output_type": "display_data"
    }
   ],
   "source": [
    "ticks = [\"WGGA\", \"ACUK\", \"Random\"]\n",
    "\n",
    "def set_box_color(bp, color):\n",
    "    plt.setp(bp['boxes'], color=color)\n",
    "    plt.setp(bp['whiskers'], color=color)\n",
    "    plt.setp(bp['caps'], color=color)\n",
    "    plt.setp(bp['medians'], color=color)\n",
    "\n",
    "plt.figure(figsize = (12,6))\n",
    "\n",
    "bpl = plt.boxplot(downreg_total_list, positions=np.array(range(len(downreg_total_list)))*2.0-0.4, sym='', widths=0.6)\n",
    "bpr = plt.boxplot(other_total_list, positions=np.array(range(len(other_total_list)))*2.0+0.4, sym='', widths=0.6)\n",
    "set_box_color(bpl, \"purple\") # colors are from http://colorbrewer2.org/\n",
    "set_box_color(bpr, 'green')\n",
    "\n",
    "# draw temporary red and blue lines and use them to create a legend\n",
    "plt.plot([], c=\"purple\", label='Downregulated')\n",
    "plt.plot([], c='green', label='Non-Downregulated')\n",
    "plt.legend()\n",
    "\n",
    "plt.xticks(range(0, len(ticks) * 2, 2), ticks, fontsize = 14)\n",
    "plt.xlim(-2, len(ticks)*2)\n",
    "plt.tight_layout()\n",
    "plt.savefig('boxcompare.png')\n",
    "plt.ylabel(\"Total Count\", fontsize = 16)\n",
    "plt.xlabel(\"Motif\", fontsize = 16)\n",
    "plt.title(\"Fly All Gene Lengths\", fontsize = 18)\n",
    "\n",
    "plt.savefig(figure_path + \"fly_total_count.pdf\")"
   ]
  },
  {
   "cell_type": "markdown",
   "id": "1d4a8cbf-3e76-425b-b96a-b4eaf319dac3",
   "metadata": {},
   "source": [
    "# Conclusions:\n",
    "from the data I am currently able to observe, I can conclude that although the total number of binding sites is higher in ASD gene populations, this is basically entirely dependent on the fact that the ASD genes are generally longer. When looking at binding site frequency/density, there is no biologically significant change even if there is a slight statistical significance.  "
   ]
  },
  {
   "cell_type": "code",
   "execution_count": null,
   "id": "fcb635bb-0347-4a85-871b-f96f22a72e36",
   "metadata": {},
   "outputs": [],
   "source": []
  }
 ],
 "metadata": {
  "kernelspec": {
   "display_name": "Python 3 (ipykernel)",
   "language": "python",
   "name": "python3"
  },
  "language_info": {
   "codemirror_mode": {
    "name": "ipython",
    "version": 3
   },
   "file_extension": ".py",
   "mimetype": "text/x-python",
   "name": "python",
   "nbconvert_exporter": "python",
   "pygments_lexer": "ipython3",
   "version": "3.8.12"
  }
 },
 "nbformat": 4,
 "nbformat_minor": 5
}
